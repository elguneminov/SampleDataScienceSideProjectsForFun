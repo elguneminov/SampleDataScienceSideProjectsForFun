{
 "cells": [
  {
   "cell_type": "markdown",
   "metadata": {},
   "source": [
    "For this assignment, we will follow these steps:\n",
    "\n",
    "    1) Data import\n",
    "\n",
    "    2) Data Exploration:\n",
    "   \n",
    "       a) Plot a couple of random features against the target/features\n",
    "   \n",
    "       b) Perform summary statistics\n",
    "   \n",
    "    3) Data Wrangling: Check for messy data and take appropriate action. eg: replace NaN with meaningful values. \n",
    "\n",
    "    4) Feature Selection: This step is optional but useful when dealing with large dimensional data.\n",
    "\n",
    "    5) Model building and validation: Create a training set and test set. Start from simpler models and gradually move towards more complex models. \n",
    "\n",
    "    6) Test: Run the models (from (4)) against the test set (% training) and choose the best performing model. Finally test your best model against the data provided by XXX and submit the results"
   ]
  },
  {
   "cell_type": "markdown",
   "metadata": {},
   "source": [
    "# Part 1: Data Import"
   ]
  },
  {
   "cell_type": "code",
   "execution_count": 1,
   "metadata": {
    "collapsed": false
   },
   "outputs": [],
   "source": [
    "%matplotlib inline\n",
    "import pandas as pd\n",
    "import scipy.stats\n",
    "import numpy as np\n",
    "import matplotlib.pyplot as plt"
   ]
  },
  {
   "cell_type": "code",
   "execution_count": 53,
   "metadata": {
    "collapsed": true
   },
   "outputs": [],
   "source": [
    "rawTrain= pd.read_csv('codetest_train.txt',sep='\\t')\n",
    "rawTest = pd.read_csv('codetest_test.txt',sep='\\t')\n",
    "columnNames = rawTrain.columns"
   ]
  },
  {
   "cell_type": "markdown",
   "metadata": {},
   "source": [
    "# Part 2: Data Exploration "
   ]
  },
  {
   "cell_type": "code",
   "execution_count": 3,
   "metadata": {
    "collapsed": false
   },
   "outputs": [
    {
     "data": {
      "text/html": [
       "<div>\n",
       "<table border=\"1\" class=\"dataframe\">\n",
       "  <thead>\n",
       "    <tr style=\"text-align: right;\">\n",
       "      <th></th>\n",
       "      <th>target</th>\n",
       "      <th>f_0</th>\n",
       "      <th>f_1</th>\n",
       "      <th>f_2</th>\n",
       "      <th>f_3</th>\n",
       "      <th>f_4</th>\n",
       "      <th>f_5</th>\n",
       "      <th>f_6</th>\n",
       "      <th>f_7</th>\n",
       "      <th>f_8</th>\n",
       "      <th>...</th>\n",
       "      <th>f_244</th>\n",
       "      <th>f_245</th>\n",
       "      <th>f_246</th>\n",
       "      <th>f_247</th>\n",
       "      <th>f_248</th>\n",
       "      <th>f_249</th>\n",
       "      <th>f_250</th>\n",
       "      <th>f_251</th>\n",
       "      <th>f_252</th>\n",
       "      <th>f_253</th>\n",
       "    </tr>\n",
       "  </thead>\n",
       "  <tbody>\n",
       "    <tr>\n",
       "      <th>0</th>\n",
       "      <td>3.066056</td>\n",
       "      <td>-0.652557</td>\n",
       "      <td>0.255256</td>\n",
       "      <td>-0.615412</td>\n",
       "      <td>-1.833283</td>\n",
       "      <td>-0.735654</td>\n",
       "      <td>NaN</td>\n",
       "      <td>1.115108</td>\n",
       "      <td>-0.170707</td>\n",
       "      <td>-0.350879</td>\n",
       "      <td>...</td>\n",
       "      <td>-1.607174</td>\n",
       "      <td>-1.400451</td>\n",
       "      <td>-0.920319</td>\n",
       "      <td>-0.198487</td>\n",
       "      <td>-0.944919</td>\n",
       "      <td>-0.572555</td>\n",
       "      <td>0.170449</td>\n",
       "      <td>-0.417764</td>\n",
       "      <td>-1.244350</td>\n",
       "      <td>-0.502889</td>\n",
       "    </tr>\n",
       "    <tr>\n",
       "      <th>1</th>\n",
       "      <td>-1.910473</td>\n",
       "      <td>1.178667</td>\n",
       "      <td>-0.093398</td>\n",
       "      <td>-0.555568</td>\n",
       "      <td>0.811153</td>\n",
       "      <td>-0.467931</td>\n",
       "      <td>-0.005488</td>\n",
       "      <td>-0.116258</td>\n",
       "      <td>-1.242854</td>\n",
       "      <td>1.984955</td>\n",
       "      <td>...</td>\n",
       "      <td>1.281957</td>\n",
       "      <td>0.032356</td>\n",
       "      <td>-0.060830</td>\n",
       "      <td>NaN</td>\n",
       "      <td>-0.061294</td>\n",
       "      <td>-0.301641</td>\n",
       "      <td>1.280799</td>\n",
       "      <td>-0.849742</td>\n",
       "      <td>0.821387</td>\n",
       "      <td>-0.259742</td>\n",
       "    </tr>\n",
       "    <tr>\n",
       "      <th>2</th>\n",
       "      <td>7.830711</td>\n",
       "      <td>0.180984</td>\n",
       "      <td>-0.778108</td>\n",
       "      <td>-0.919190</td>\n",
       "      <td>0.112607</td>\n",
       "      <td>0.887144</td>\n",
       "      <td>-0.761681</td>\n",
       "      <td>1.872443</td>\n",
       "      <td>-1.708934</td>\n",
       "      <td>0.134782</td>\n",
       "      <td>...</td>\n",
       "      <td>-0.236893</td>\n",
       "      <td>-0.659965</td>\n",
       "      <td>1.072506</td>\n",
       "      <td>-0.192872</td>\n",
       "      <td>0.570371</td>\n",
       "      <td>-0.267201</td>\n",
       "      <td>1.434515</td>\n",
       "      <td>1.331823</td>\n",
       "      <td>-1.146947</td>\n",
       "      <td>2.579905</td>\n",
       "    </tr>\n",
       "    <tr>\n",
       "      <th>3</th>\n",
       "      <td>-2.180862</td>\n",
       "      <td>0.745228</td>\n",
       "      <td>-0.245268</td>\n",
       "      <td>-1.343348</td>\n",
       "      <td>1.163072</td>\n",
       "      <td>-0.168847</td>\n",
       "      <td>-0.150516</td>\n",
       "      <td>-1.099532</td>\n",
       "      <td>0.225346</td>\n",
       "      <td>1.223015</td>\n",
       "      <td>...</td>\n",
       "      <td>0.709195</td>\n",
       "      <td>-0.203496</td>\n",
       "      <td>-0.135737</td>\n",
       "      <td>-0.570835</td>\n",
       "      <td>1.682078</td>\n",
       "      <td>0.243042</td>\n",
       "      <td>-0.380941</td>\n",
       "      <td>0.612880</td>\n",
       "      <td>1.032715</td>\n",
       "      <td>0.400305</td>\n",
       "    </tr>\n",
       "    <tr>\n",
       "      <th>4</th>\n",
       "      <td>5.462784</td>\n",
       "      <td>1.217383</td>\n",
       "      <td>-1.323946</td>\n",
       "      <td>-0.958151</td>\n",
       "      <td>0.448290</td>\n",
       "      <td>-2.873187</td>\n",
       "      <td>-0.855653</td>\n",
       "      <td>0.602568</td>\n",
       "      <td>0.763372</td>\n",
       "      <td>0.019770</td>\n",
       "      <td>...</td>\n",
       "      <td>0.892303</td>\n",
       "      <td>-0.432659</td>\n",
       "      <td>-0.877101</td>\n",
       "      <td>0.289258</td>\n",
       "      <td>0.653759</td>\n",
       "      <td>1.230144</td>\n",
       "      <td>0.456956</td>\n",
       "      <td>-0.754051</td>\n",
       "      <td>-0.025100</td>\n",
       "      <td>-0.931225</td>\n",
       "    </tr>\n",
       "  </tbody>\n",
       "</table>\n",
       "<p>5 rows × 255 columns</p>\n",
       "</div>"
      ],
      "text/plain": [
       "     target       f_0       f_1       f_2       f_3       f_4       f_5  \\\n",
       "0  3.066056 -0.652557  0.255256 -0.615412 -1.833283 -0.735654       NaN   \n",
       "1 -1.910473  1.178667 -0.093398 -0.555568  0.811153 -0.467931 -0.005488   \n",
       "2  7.830711  0.180984 -0.778108 -0.919190  0.112607  0.887144 -0.761681   \n",
       "3 -2.180862  0.745228 -0.245268 -1.343348  1.163072 -0.168847 -0.150516   \n",
       "4  5.462784  1.217383 -1.323946 -0.958151  0.448290 -2.873187 -0.855653   \n",
       "\n",
       "        f_6       f_7       f_8    ...        f_244     f_245     f_246  \\\n",
       "0  1.115108 -0.170707 -0.350879    ...    -1.607174 -1.400451 -0.920319   \n",
       "1 -0.116258 -1.242854  1.984955    ...     1.281957  0.032356 -0.060830   \n",
       "2  1.872443 -1.708934  0.134782    ...    -0.236893 -0.659965  1.072506   \n",
       "3 -1.099532  0.225346  1.223015    ...     0.709195 -0.203496 -0.135737   \n",
       "4  0.602568  0.763372  0.019770    ...     0.892303 -0.432659 -0.877101   \n",
       "\n",
       "      f_247     f_248     f_249     f_250     f_251     f_252     f_253  \n",
       "0 -0.198487 -0.944919 -0.572555  0.170449 -0.417764 -1.244350 -0.502889  \n",
       "1       NaN -0.061294 -0.301641  1.280799 -0.849742  0.821387 -0.259742  \n",
       "2 -0.192872  0.570371 -0.267201  1.434515  1.331823 -1.146947  2.579905  \n",
       "3 -0.570835  1.682078  0.243042 -0.380941  0.612880  1.032715  0.400305  \n",
       "4  0.289258  0.653759  1.230144  0.456956 -0.754051 -0.025100 -0.931225  \n",
       "\n",
       "[5 rows x 255 columns]"
      ]
     },
     "execution_count": 3,
     "metadata": {},
     "output_type": "execute_result"
    }
   ],
   "source": [
    "rawTrain.head()"
   ]
  },
  {
   "cell_type": "code",
   "execution_count": 3,
   "metadata": {
    "collapsed": false
   },
   "outputs": [
    {
     "data": {
      "text/html": [
       "<div>\n",
       "<table border=\"1\" class=\"dataframe\">\n",
       "  <thead>\n",
       "    <tr style=\"text-align: right;\">\n",
       "      <th></th>\n",
       "      <th>f_0</th>\n",
       "      <th>f_1</th>\n",
       "      <th>f_2</th>\n",
       "      <th>f_3</th>\n",
       "      <th>f_4</th>\n",
       "      <th>f_5</th>\n",
       "      <th>f_6</th>\n",
       "      <th>f_7</th>\n",
       "      <th>f_8</th>\n",
       "      <th>f_9</th>\n",
       "      <th>...</th>\n",
       "      <th>f_244</th>\n",
       "      <th>f_245</th>\n",
       "      <th>f_246</th>\n",
       "      <th>f_247</th>\n",
       "      <th>f_248</th>\n",
       "      <th>f_249</th>\n",
       "      <th>f_250</th>\n",
       "      <th>f_251</th>\n",
       "      <th>f_252</th>\n",
       "      <th>f_253</th>\n",
       "    </tr>\n",
       "  </thead>\n",
       "  <tbody>\n",
       "    <tr>\n",
       "      <th>0</th>\n",
       "      <td>1.122161</td>\n",
       "      <td>2.372084</td>\n",
       "      <td>-1.302713</td>\n",
       "      <td>-0.420838</td>\n",
       "      <td>-1.723640</td>\n",
       "      <td>0.205672</td>\n",
       "      <td>0.448599</td>\n",
       "      <td>1.305198</td>\n",
       "      <td>-0.343860</td>\n",
       "      <td>0.307042</td>\n",
       "      <td>...</td>\n",
       "      <td>0.987785</td>\n",
       "      <td>-0.472495</td>\n",
       "      <td>0.521588</td>\n",
       "      <td>-0.307917</td>\n",
       "      <td>1.061505</td>\n",
       "      <td>-0.839408</td>\n",
       "      <td>0.818555</td>\n",
       "      <td>0.341522</td>\n",
       "      <td>-0.162471</td>\n",
       "      <td>-1.122791</td>\n",
       "    </tr>\n",
       "    <tr>\n",
       "      <th>1</th>\n",
       "      <td>0.644808</td>\n",
       "      <td>-0.817831</td>\n",
       "      <td>-1.193122</td>\n",
       "      <td>0.285867</td>\n",
       "      <td>0.946388</td>\n",
       "      <td>2.001413</td>\n",
       "      <td>-1.490880</td>\n",
       "      <td>-0.162357</td>\n",
       "      <td>-1.668155</td>\n",
       "      <td>0.309635</td>\n",
       "      <td>...</td>\n",
       "      <td>-0.019666</td>\n",
       "      <td>0.763533</td>\n",
       "      <td>-0.622877</td>\n",
       "      <td>0.147480</td>\n",
       "      <td>0.391625</td>\n",
       "      <td>0.509444</td>\n",
       "      <td>1.608021</td>\n",
       "      <td>-0.320951</td>\n",
       "      <td>-1.723378</td>\n",
       "      <td>1.222700</td>\n",
       "    </tr>\n",
       "    <tr>\n",
       "      <th>2</th>\n",
       "      <td>-0.661031</td>\n",
       "      <td>0.372804</td>\n",
       "      <td>1.160255</td>\n",
       "      <td>0.447586</td>\n",
       "      <td>NaN</td>\n",
       "      <td>-0.377757</td>\n",
       "      <td>-0.644618</td>\n",
       "      <td>0.713097</td>\n",
       "      <td>1.900375</td>\n",
       "      <td>0.627264</td>\n",
       "      <td>...</td>\n",
       "      <td>0.156354</td>\n",
       "      <td>-0.267040</td>\n",
       "      <td>0.139786</td>\n",
       "      <td>-0.907847</td>\n",
       "      <td>0.093219</td>\n",
       "      <td>0.226585</td>\n",
       "      <td>-0.995615</td>\n",
       "      <td>-0.665005</td>\n",
       "      <td>0.444115</td>\n",
       "      <td>-1.452071</td>\n",
       "    </tr>\n",
       "    <tr>\n",
       "      <th>3</th>\n",
       "      <td>0.837063</td>\n",
       "      <td>1.269625</td>\n",
       "      <td>-1.420543</td>\n",
       "      <td>-0.482877</td>\n",
       "      <td>1.136028</td>\n",
       "      <td>0.051415</td>\n",
       "      <td>-0.096677</td>\n",
       "      <td>NaN</td>\n",
       "      <td>-1.524041</td>\n",
       "      <td>-0.252841</td>\n",
       "      <td>...</td>\n",
       "      <td>1.653141</td>\n",
       "      <td>1.950726</td>\n",
       "      <td>0.656887</td>\n",
       "      <td>-1.237622</td>\n",
       "      <td>-0.487024</td>\n",
       "      <td>-1.340936</td>\n",
       "      <td>1.221345</td>\n",
       "      <td>1.938266</td>\n",
       "      <td>-0.447294</td>\n",
       "      <td>0.410684</td>\n",
       "    </tr>\n",
       "    <tr>\n",
       "      <th>4</th>\n",
       "      <td>-0.001493</td>\n",
       "      <td>-0.050440</td>\n",
       "      <td>0.441970</td>\n",
       "      <td>0.229519</td>\n",
       "      <td>0.524835</td>\n",
       "      <td>0.326089</td>\n",
       "      <td>-0.589504</td>\n",
       "      <td>-0.287145</td>\n",
       "      <td>-0.555982</td>\n",
       "      <td>-0.088494</td>\n",
       "      <td>...</td>\n",
       "      <td>-0.290987</td>\n",
       "      <td>-0.195876</td>\n",
       "      <td>-0.737650</td>\n",
       "      <td>-0.377331</td>\n",
       "      <td>-0.660202</td>\n",
       "      <td>1.775678</td>\n",
       "      <td>-1.027535</td>\n",
       "      <td>-0.796754</td>\n",
       "      <td>0.184635</td>\n",
       "      <td>0.378488</td>\n",
       "    </tr>\n",
       "  </tbody>\n",
       "</table>\n",
       "<p>5 rows × 254 columns</p>\n",
       "</div>"
      ],
      "text/plain": [
       "        f_0       f_1       f_2       f_3       f_4       f_5       f_6  \\\n",
       "0  1.122161  2.372084 -1.302713 -0.420838 -1.723640  0.205672  0.448599   \n",
       "1  0.644808 -0.817831 -1.193122  0.285867  0.946388  2.001413 -1.490880   \n",
       "2 -0.661031  0.372804  1.160255  0.447586       NaN -0.377757 -0.644618   \n",
       "3  0.837063  1.269625 -1.420543 -0.482877  1.136028  0.051415 -0.096677   \n",
       "4 -0.001493 -0.050440  0.441970  0.229519  0.524835  0.326089 -0.589504   \n",
       "\n",
       "        f_7       f_8       f_9    ...        f_244     f_245     f_246  \\\n",
       "0  1.305198 -0.343860  0.307042    ...     0.987785 -0.472495  0.521588   \n",
       "1 -0.162357 -1.668155  0.309635    ...    -0.019666  0.763533 -0.622877   \n",
       "2  0.713097  1.900375  0.627264    ...     0.156354 -0.267040  0.139786   \n",
       "3       NaN -1.524041 -0.252841    ...     1.653141  1.950726  0.656887   \n",
       "4 -0.287145 -0.555982 -0.088494    ...    -0.290987 -0.195876 -0.737650   \n",
       "\n",
       "      f_247     f_248     f_249     f_250     f_251     f_252     f_253  \n",
       "0 -0.307917  1.061505 -0.839408  0.818555  0.341522 -0.162471 -1.122791  \n",
       "1  0.147480  0.391625  0.509444  1.608021 -0.320951 -1.723378  1.222700  \n",
       "2 -0.907847  0.093219  0.226585 -0.995615 -0.665005  0.444115 -1.452071  \n",
       "3 -1.237622 -0.487024 -1.340936  1.221345  1.938266 -0.447294  0.410684  \n",
       "4 -0.377331 -0.660202  1.775678 -1.027535 -0.796754  0.184635  0.378488  \n",
       "\n",
       "[5 rows x 254 columns]"
      ]
     },
     "execution_count": 3,
     "metadata": {},
     "output_type": "execute_result"
    }
   ],
   "source": [
    "rawTest.head()"
   ]
  },
  {
   "cell_type": "code",
   "execution_count": 5,
   "metadata": {
    "collapsed": false
   },
   "outputs": [
    {
     "data": {
      "text/plain": [
       "(5000, 255)"
      ]
     },
     "execution_count": 5,
     "metadata": {},
     "output_type": "execute_result"
    }
   ],
   "source": [
    "rawTrain.shape"
   ]
  },
  {
   "cell_type": "code",
   "execution_count": 6,
   "metadata": {
    "collapsed": false
   },
   "outputs": [
    {
     "data": {
      "text/html": [
       "<div>\n",
       "<table border=\"1\" class=\"dataframe\">\n",
       "  <thead>\n",
       "    <tr style=\"text-align: right;\">\n",
       "      <th></th>\n",
       "      <th>target</th>\n",
       "      <th>f_0</th>\n",
       "      <th>f_1</th>\n",
       "      <th>f_2</th>\n",
       "      <th>f_3</th>\n",
       "      <th>f_4</th>\n",
       "      <th>f_5</th>\n",
       "      <th>f_6</th>\n",
       "      <th>f_7</th>\n",
       "      <th>f_8</th>\n",
       "      <th>...</th>\n",
       "      <th>f_244</th>\n",
       "      <th>f_245</th>\n",
       "      <th>f_246</th>\n",
       "      <th>f_247</th>\n",
       "      <th>f_248</th>\n",
       "      <th>f_249</th>\n",
       "      <th>f_250</th>\n",
       "      <th>f_251</th>\n",
       "      <th>f_252</th>\n",
       "      <th>f_253</th>\n",
       "    </tr>\n",
       "  </thead>\n",
       "  <tbody>\n",
       "    <tr>\n",
       "      <th>count</th>\n",
       "      <td>5000.000000</td>\n",
       "      <td>4903.000000</td>\n",
       "      <td>4928.000000</td>\n",
       "      <td>4908.000000</td>\n",
       "      <td>4910.000000</td>\n",
       "      <td>4907.000000</td>\n",
       "      <td>4912.000000</td>\n",
       "      <td>4897.000000</td>\n",
       "      <td>4904.000000</td>\n",
       "      <td>4893.000000</td>\n",
       "      <td>...</td>\n",
       "      <td>4910.000000</td>\n",
       "      <td>4883.000000</td>\n",
       "      <td>4914.000000</td>\n",
       "      <td>4894.000000</td>\n",
       "      <td>4902.000000</td>\n",
       "      <td>4886.000000</td>\n",
       "      <td>4900.000000</td>\n",
       "      <td>4921.000000</td>\n",
       "      <td>4904.000000</td>\n",
       "      <td>4904.000000</td>\n",
       "    </tr>\n",
       "    <tr>\n",
       "      <th>mean</th>\n",
       "      <td>1.143878</td>\n",
       "      <td>-0.000432</td>\n",
       "      <td>0.002564</td>\n",
       "      <td>0.028875</td>\n",
       "      <td>-0.005436</td>\n",
       "      <td>-0.006764</td>\n",
       "      <td>0.005568</td>\n",
       "      <td>0.001536</td>\n",
       "      <td>-0.001016</td>\n",
       "      <td>0.009748</td>\n",
       "      <td>...</td>\n",
       "      <td>0.013529</td>\n",
       "      <td>0.004937</td>\n",
       "      <td>0.023262</td>\n",
       "      <td>-0.018450</td>\n",
       "      <td>-0.009832</td>\n",
       "      <td>0.016954</td>\n",
       "      <td>-0.004944</td>\n",
       "      <td>0.016878</td>\n",
       "      <td>-0.001356</td>\n",
       "      <td>0.010331</td>\n",
       "    </tr>\n",
       "    <tr>\n",
       "      <th>std</th>\n",
       "      <td>5.259896</td>\n",
       "      <td>0.999737</td>\n",
       "      <td>0.997931</td>\n",
       "      <td>1.019343</td>\n",
       "      <td>0.990349</td>\n",
       "      <td>1.006289</td>\n",
       "      <td>0.995800</td>\n",
       "      <td>1.004624</td>\n",
       "      <td>0.997360</td>\n",
       "      <td>0.988310</td>\n",
       "      <td>...</td>\n",
       "      <td>1.001454</td>\n",
       "      <td>0.997329</td>\n",
       "      <td>0.996465</td>\n",
       "      <td>1.005001</td>\n",
       "      <td>0.989225</td>\n",
       "      <td>1.011337</td>\n",
       "      <td>0.991580</td>\n",
       "      <td>1.001362</td>\n",
       "      <td>1.003412</td>\n",
       "      <td>1.006887</td>\n",
       "    </tr>\n",
       "    <tr>\n",
       "      <th>min</th>\n",
       "      <td>-26.705570</td>\n",
       "      <td>-3.940976</td>\n",
       "      <td>-3.847382</td>\n",
       "      <td>-3.818473</td>\n",
       "      <td>-3.434423</td>\n",
       "      <td>-3.400202</td>\n",
       "      <td>-4.051005</td>\n",
       "      <td>-3.179496</td>\n",
       "      <td>-3.889719</td>\n",
       "      <td>-3.856546</td>\n",
       "      <td>...</td>\n",
       "      <td>-3.585086</td>\n",
       "      <td>-3.493958</td>\n",
       "      <td>-3.484578</td>\n",
       "      <td>-4.012033</td>\n",
       "      <td>-3.252239</td>\n",
       "      <td>-3.821459</td>\n",
       "      <td>-3.376073</td>\n",
       "      <td>-3.373395</td>\n",
       "      <td>-3.949648</td>\n",
       "      <td>-3.727771</td>\n",
       "    </tr>\n",
       "    <tr>\n",
       "      <th>25%</th>\n",
       "      <td>-2.034383</td>\n",
       "      <td>-0.673040</td>\n",
       "      <td>-0.684705</td>\n",
       "      <td>-0.650854</td>\n",
       "      <td>-0.654998</td>\n",
       "      <td>-0.685200</td>\n",
       "      <td>-0.659947</td>\n",
       "      <td>-0.671828</td>\n",
       "      <td>-0.679356</td>\n",
       "      <td>-0.662404</td>\n",
       "      <td>...</td>\n",
       "      <td>-0.666017</td>\n",
       "      <td>-0.676178</td>\n",
       "      <td>-0.661783</td>\n",
       "      <td>-0.692160</td>\n",
       "      <td>-0.662535</td>\n",
       "      <td>-0.647772</td>\n",
       "      <td>-0.679635</td>\n",
       "      <td>-0.647463</td>\n",
       "      <td>-0.695102</td>\n",
       "      <td>-0.676679</td>\n",
       "    </tr>\n",
       "    <tr>\n",
       "      <th>50%</th>\n",
       "      <td>1.166835</td>\n",
       "      <td>-0.010543</td>\n",
       "      <td>-0.002652</td>\n",
       "      <td>0.047116</td>\n",
       "      <td>0.003579</td>\n",
       "      <td>-0.007036</td>\n",
       "      <td>-0.007822</td>\n",
       "      <td>-0.003055</td>\n",
       "      <td>-0.021591</td>\n",
       "      <td>0.016544</td>\n",
       "      <td>...</td>\n",
       "      <td>0.025606</td>\n",
       "      <td>-0.027898</td>\n",
       "      <td>0.026912</td>\n",
       "      <td>-0.034966</td>\n",
       "      <td>-0.010708</td>\n",
       "      <td>0.002441</td>\n",
       "      <td>0.009770</td>\n",
       "      <td>0.019531</td>\n",
       "      <td>0.002471</td>\n",
       "      <td>0.015306</td>\n",
       "    </tr>\n",
       "    <tr>\n",
       "      <th>75%</th>\n",
       "      <td>4.439549</td>\n",
       "      <td>0.677278</td>\n",
       "      <td>0.674600</td>\n",
       "      <td>0.718753</td>\n",
       "      <td>0.667814</td>\n",
       "      <td>0.653662</td>\n",
       "      <td>0.648748</td>\n",
       "      <td>0.678594</td>\n",
       "      <td>0.670028</td>\n",
       "      <td>0.698020</td>\n",
       "      <td>...</td>\n",
       "      <td>0.671749</td>\n",
       "      <td>0.670035</td>\n",
       "      <td>0.702553</td>\n",
       "      <td>0.655212</td>\n",
       "      <td>0.650979</td>\n",
       "      <td>0.709693</td>\n",
       "      <td>0.660469</td>\n",
       "      <td>0.692202</td>\n",
       "      <td>0.672384</td>\n",
       "      <td>0.705512</td>\n",
       "    </tr>\n",
       "    <tr>\n",
       "      <th>max</th>\n",
       "      <td>26.347818</td>\n",
       "      <td>3.830801</td>\n",
       "      <td>3.995597</td>\n",
       "      <td>3.198775</td>\n",
       "      <td>4.962191</td>\n",
       "      <td>3.106121</td>\n",
       "      <td>4.295765</td>\n",
       "      <td>4.165960</td>\n",
       "      <td>3.798185</td>\n",
       "      <td>4.195049</td>\n",
       "      <td>...</td>\n",
       "      <td>3.365021</td>\n",
       "      <td>3.455789</td>\n",
       "      <td>3.881038</td>\n",
       "      <td>3.689781</td>\n",
       "      <td>3.629413</td>\n",
       "      <td>4.144275</td>\n",
       "      <td>3.873226</td>\n",
       "      <td>3.186501</td>\n",
       "      <td>3.724332</td>\n",
       "      <td>3.955565</td>\n",
       "    </tr>\n",
       "  </tbody>\n",
       "</table>\n",
       "<p>8 rows × 251 columns</p>\n",
       "</div>"
      ],
      "text/plain": [
       "            target          f_0          f_1          f_2          f_3  \\\n",
       "count  5000.000000  4903.000000  4928.000000  4908.000000  4910.000000   \n",
       "mean      1.143878    -0.000432     0.002564     0.028875    -0.005436   \n",
       "std       5.259896     0.999737     0.997931     1.019343     0.990349   \n",
       "min     -26.705570    -3.940976    -3.847382    -3.818473    -3.434423   \n",
       "25%      -2.034383    -0.673040    -0.684705    -0.650854    -0.654998   \n",
       "50%       1.166835    -0.010543    -0.002652     0.047116     0.003579   \n",
       "75%       4.439549     0.677278     0.674600     0.718753     0.667814   \n",
       "max      26.347818     3.830801     3.995597     3.198775     4.962191   \n",
       "\n",
       "               f_4          f_5          f_6          f_7          f_8  \\\n",
       "count  4907.000000  4912.000000  4897.000000  4904.000000  4893.000000   \n",
       "mean     -0.006764     0.005568     0.001536    -0.001016     0.009748   \n",
       "std       1.006289     0.995800     1.004624     0.997360     0.988310   \n",
       "min      -3.400202    -4.051005    -3.179496    -3.889719    -3.856546   \n",
       "25%      -0.685200    -0.659947    -0.671828    -0.679356    -0.662404   \n",
       "50%      -0.007036    -0.007822    -0.003055    -0.021591     0.016544   \n",
       "75%       0.653662     0.648748     0.678594     0.670028     0.698020   \n",
       "max       3.106121     4.295765     4.165960     3.798185     4.195049   \n",
       "\n",
       "          ...             f_244        f_245        f_246        f_247  \\\n",
       "count     ...       4910.000000  4883.000000  4914.000000  4894.000000   \n",
       "mean      ...          0.013529     0.004937     0.023262    -0.018450   \n",
       "std       ...          1.001454     0.997329     0.996465     1.005001   \n",
       "min       ...         -3.585086    -3.493958    -3.484578    -4.012033   \n",
       "25%       ...         -0.666017    -0.676178    -0.661783    -0.692160   \n",
       "50%       ...          0.025606    -0.027898     0.026912    -0.034966   \n",
       "75%       ...          0.671749     0.670035     0.702553     0.655212   \n",
       "max       ...          3.365021     3.455789     3.881038     3.689781   \n",
       "\n",
       "             f_248        f_249        f_250        f_251        f_252  \\\n",
       "count  4902.000000  4886.000000  4900.000000  4921.000000  4904.000000   \n",
       "mean     -0.009832     0.016954    -0.004944     0.016878    -0.001356   \n",
       "std       0.989225     1.011337     0.991580     1.001362     1.003412   \n",
       "min      -3.252239    -3.821459    -3.376073    -3.373395    -3.949648   \n",
       "25%      -0.662535    -0.647772    -0.679635    -0.647463    -0.695102   \n",
       "50%      -0.010708     0.002441     0.009770     0.019531     0.002471   \n",
       "75%       0.650979     0.709693     0.660469     0.692202     0.672384   \n",
       "max       3.629413     4.144275     3.873226     3.186501     3.724332   \n",
       "\n",
       "             f_253  \n",
       "count  4904.000000  \n",
       "mean      0.010331  \n",
       "std       1.006887  \n",
       "min      -3.727771  \n",
       "25%      -0.676679  \n",
       "50%       0.015306  \n",
       "75%       0.705512  \n",
       "max       3.955565  \n",
       "\n",
       "[8 rows x 251 columns]"
      ]
     },
     "execution_count": 6,
     "metadata": {},
     "output_type": "execute_result"
    }
   ],
   "source": [
    "rawTrain.describe()"
   ]
  },
  {
   "cell_type": "code",
   "execution_count": 85,
   "metadata": {
    "collapsed": false
   },
   "outputs": [
    {
     "data": {
      "image/png": "[encoded data removed]",
      "text/plain": [
       "<matplotlib.figure.Figure at 0x207d60f0>"
      ]
     },
     "metadata": {},
     "output_type": "display_data"
    }
   ],
   "source": [
    "# Plot a random chosen feature against the target to get an idea of what the data looks like\n",
    "plt.scatter(rawTrain.target,rawTrain.f_175)\n",
    "plt.xlabel('Target')\n",
    "plt.ylabel('f_175')\n",
    "plt.show()"
   ]
  },
  {
   "cell_type": "code",
   "execution_count": 86,
   "metadata": {
    "collapsed": false
   },
   "outputs": [
    {
     "data": {
      "image/png": "[encoded data removed]",
      "text/plain": [
       "<matplotlib.figure.Figure at 0x207d6048>"
      ]
     },
     "metadata": {},
     "output_type": "display_data"
    }
   ],
   "source": [
    "plt.scatter(rawTrain.target,rawTrain.f_25)\n",
    "plt.xlabel('Target')\n",
    "plt.ylabel('f_25')\n",
    "plt.show()"
   ]
  },
  {
   "cell_type": "markdown",
   "metadata": {},
   "source": [
    "# Part 3: Data Wrangling"
   ]
  },
  {
   "cell_type": "code",
   "execution_count": 91,
   "metadata": {
    "collapsed": false
   },
   "outputs": [],
   "source": [
    "# rawTrain.describe() in the 'feature space' is returning < 5000 data points. This most likely indicates\n",
    "# missing values in the form of NaNs plus other types\n",
    "# Lets identify and impute those missing values\n",
    "from sklearn.preprocessing import Imputer\n",
    "impute = Imputer(missing_values = 'NaN',axis=1,strategy='median')\n",
    "impute.fit(rawTrain)\n",
    "newData = pd.DataFrame(impute.transform(rawTrain))"
   ]
  },
  {
   "cell_type": "code",
   "execution_count": 55,
   "metadata": {
    "collapsed": false
   },
   "outputs": [],
   "source": [
    "# The above error tells us know that there are strings other than 'NaN'. So convert any string present \n",
    "# in the data frame such as 'Mexico' to 'NaN'\n",
    "rawTrain.replace(to_replace='[^0-9]',value=np.nan,regex=True,inplace=True)"
   ]
  },
  {
   "cell_type": "code",
   "execution_count": 56,
   "metadata": {
    "collapsed": false
   },
   "outputs": [
    {
     "name": "stdout",
     "output_type": "stream",
     "text": [
      "            target          f_0          f_1          f_2          f_3  \\\n",
      "count  5000.000000  5000.000000  5000.000000  5000.000000  5000.000000   \n",
      "mean      1.143878    -0.000355     0.002206     0.028623    -0.005205   \n",
      "std       5.259896     0.990047     0.990770     1.009985     0.981446   \n",
      "min     -26.705570    -3.940976    -3.847382    -3.818473    -3.434423   \n",
      "25%      -2.034383    -0.660225    -0.673327    -0.633348    -0.639670   \n",
      "50%       1.166835    -0.006441    -0.006354     0.042915     0.003077   \n",
      "75%       4.439549     0.662480     0.664463     0.702068     0.654018   \n",
      "max      26.347818     3.830801     3.995597     3.198775     4.962191   \n",
      "\n",
      "               f_4          f_5          f_6          f_7          f_8  \\\n",
      "count  5000.000000  5000.000000  5000.000000  5000.000000  5000.000000   \n",
      "mean     -0.006740     0.005295     0.001422    -0.001200     0.009509   \n",
      "std       0.996951     0.987064     0.994278     0.987814     0.977753   \n",
      "min      -3.400202    -4.051005    -3.179496    -3.889719    -3.856546   \n",
      "25%      -0.669889    -0.646264    -0.650292    -0.666359    -0.648538   \n",
      "50%      -0.007097    -0.007822    -0.005840    -0.017276     0.014542   \n",
      "75%       0.636149     0.637447     0.657175     0.653413     0.683299   \n",
      "max       3.106121     4.295765     4.165960     3.798185     4.195049   \n",
      "\n",
      "          ...             f_244        f_245        f_246        f_247  \\\n",
      "count     ...       5000.000000  5000.000000  5000.000000  5000.000000   \n",
      "mean      ...          0.013055     0.004798     0.023136    -0.018172   \n",
      "std       ...          0.992458     0.985673     0.987910     0.994352   \n",
      "min       ...         -3.585086    -3.493958    -3.484578    -4.012033   \n",
      "25%       ...         -0.648989    -0.653436    -0.652188    -0.671789   \n",
      "50%       ...          0.016009    -0.017839     0.024706    -0.030874   \n",
      "75%       ...          0.661303     0.653203     0.687837     0.635638   \n",
      "max       ...          3.365021     3.455789     3.881038     3.689781   \n",
      "\n",
      "             f_248        f_249        f_250        f_251        f_252  \\\n",
      "count  5000.000000  5000.000000  5000.000000  5000.000000  5000.000000   \n",
      "mean     -0.009817     0.016508    -0.004829     0.016776    -0.001304   \n",
      "std       0.979542     0.999808     0.981690     0.993466     0.993792   \n",
      "min      -3.252239    -3.821459    -3.376073    -3.373395    -3.949648   \n",
      "25%      -0.648390    -0.628413    -0.661956    -0.636687    -0.679059   \n",
      "50%      -0.011602     0.002441     0.009770     0.017818     0.003103   \n",
      "75%       0.631711     0.694036     0.643999     0.676375     0.660998   \n",
      "max       3.629413     4.144275     3.873226     3.186501     3.724332   \n",
      "\n",
      "             f_253  \n",
      "count  5000.000000  \n",
      "mean      0.010171  \n",
      "std       0.997238  \n",
      "min      -3.727771  \n",
      "25%      -0.662600  \n",
      "50%       0.011553  \n",
      "75%       0.689314  \n",
      "max       3.955565  \n",
      "\n",
      "[8 rows x 255 columns]\n"
     ]
    }
   ],
   "source": [
    "# Attempt again to Impute missing values after replacing any missing values to 'NaN'\n",
    "impute.fit(rawTrain)\n",
    "newData = pd.DataFrame(impute.transform(rawTrain))\n",
    "newData.columns = columnNames\n",
    "print newData.describe()"
   ]
  },
  {
   "cell_type": "code",
   "execution_count": 57,
   "metadata": {
    "collapsed": false
   },
   "outputs": [
    {
     "name": "stdout",
     "output_type": "stream",
     "text": [
      "            target          f_0          f_1          f_2          f_3  \\\n",
      "count  5000.000000  4903.000000  4928.000000  4908.000000  4910.000000   \n",
      "mean      1.143878    -0.000432     0.002564     0.028875    -0.005436   \n",
      "std       5.259896     0.999737     0.997931     1.019343     0.990349   \n",
      "min     -26.705570    -3.940976    -3.847382    -3.818473    -3.434423   \n",
      "25%      -2.034383    -0.673040    -0.684705    -0.650854    -0.654998   \n",
      "50%       1.166835    -0.010543    -0.002652     0.047116     0.003579   \n",
      "75%       4.439549     0.677278     0.674600     0.718753     0.667814   \n",
      "max      26.347818     3.830801     3.995597     3.198775     4.962191   \n",
      "\n",
      "               f_4          f_5          f_6          f_7          f_8  \\\n",
      "count  4907.000000  4912.000000  4897.000000  4904.000000  4893.000000   \n",
      "mean     -0.006764     0.005568     0.001536    -0.001016     0.009748   \n",
      "std       1.006289     0.995800     1.004624     0.997360     0.988310   \n",
      "min      -3.400202    -4.051005    -3.179496    -3.889719    -3.856546   \n",
      "25%      -0.685200    -0.659947    -0.671828    -0.679356    -0.662404   \n",
      "50%      -0.007036    -0.007822    -0.003055    -0.021591     0.016544   \n",
      "75%       0.653662     0.648748     0.678594     0.670028     0.698020   \n",
      "max       3.106121     4.295765     4.165960     3.798185     4.195049   \n",
      "\n",
      "          ...             f_244        f_245        f_246        f_247  \\\n",
      "count     ...       4910.000000  4883.000000  4914.000000  4894.000000   \n",
      "mean      ...          0.013529     0.004937     0.023262    -0.018450   \n",
      "std       ...          1.001454     0.997329     0.996465     1.005001   \n",
      "min       ...         -3.585086    -3.493958    -3.484578    -4.012033   \n",
      "25%       ...         -0.666017    -0.676178    -0.661783    -0.692160   \n",
      "50%       ...          0.025606    -0.027898     0.026912    -0.034966   \n",
      "75%       ...          0.671749     0.670035     0.702553     0.655212   \n",
      "max       ...          3.365021     3.455789     3.881038     3.689781   \n",
      "\n",
      "             f_248        f_249        f_250        f_251        f_252  \\\n",
      "count  4902.000000  4886.000000  4900.000000  4921.000000  4904.000000   \n",
      "mean     -0.009832     0.016954    -0.004944     0.016878    -0.001356   \n",
      "std       0.989225     1.011337     0.991580     1.001362     1.003412   \n",
      "min      -3.252239    -3.821459    -3.376073    -3.373395    -3.949648   \n",
      "25%      -0.662535    -0.647772    -0.679635    -0.647463    -0.695102   \n",
      "50%      -0.010708     0.002441     0.009770     0.019531     0.002471   \n",
      "75%       0.650979     0.709693     0.660469     0.692202     0.672384   \n",
      "max       3.629413     4.144275     3.873226     3.186501     3.724332   \n",
      "\n",
      "             f_253  \n",
      "count  4904.000000  \n",
      "mean      0.010331  \n",
      "std       1.006887  \n",
      "min      -3.727771  \n",
      "25%      -0.676679  \n",
      "50%       0.015306  \n",
      "75%       0.705512  \n",
      "max       3.955565  \n",
      "\n",
      "[8 rows x 255 columns]\n"
     ]
    }
   ],
   "source": [
    "print rawTrain.describe()"
   ]
  },
  {
   "cell_type": "markdown",
   "metadata": {
    "collapsed": true
   },
   "source": [
    "Now the 'count' for every feature is returning 5000 samples - which means we have been able to \n",
    "successfully replace all missing values in a given column with the median for that column. Other changes that are noticebale is because we  have replaced NaN in each feature with a corresponding 'median', the summary statistics has also changed (but hopefully not large enough to lead to incorrect downward analysis)"
   ]
  },
  {
   "cell_type": "code",
   "execution_count": 58,
   "metadata": {
    "collapsed": false
   },
   "outputs": [],
   "source": [
    "rawTrain = newData"
   ]
  },
  {
   "cell_type": "code",
   "execution_count": 59,
   "metadata": {
    "collapsed": false
   },
   "outputs": [
    {
     "name": "stdout",
     "output_type": "stream",
     "text": [
      "Once deleted, variables cannot be recovered. Proceed (y/[n])?  y\n"
     ]
    }
   ],
   "source": [
    "# delet variables from memory\n",
    "%reset_selective newData\n",
    "#%reset_selective trainFeatures\n",
    "#%reset_selective trainTarget"
   ]
  },
  {
   "cell_type": "code",
   "execution_count": 60,
   "metadata": {
    "collapsed": false
   },
   "outputs": [
    {
     "name": "stdout",
     "output_type": "stream",
     "text": [
      "(4500, 255) (500, 255)\n"
     ]
    }
   ],
   "source": [
    "# divide raw_data into train and validation set (90% training set, 10% test set)\n",
    "from sklearn.cross_validation import train_test_split\n",
    "\n",
    "trainValidation,test = train_test_split(rawTrain,train_size=0.9,random_state=1024)\n",
    "print trainValidation.shape,test.shape"
   ]
  },
  {
   "cell_type": "code",
   "execution_count": 62,
   "metadata": {
    "collapsed": false
   },
   "outputs": [
    {
     "name": "stdout",
     "output_type": "stream",
     "text": [
      "(4500L,) (4500, 254)\n"
     ]
    }
   ],
   "source": [
    "# Separate into targets and features\n",
    "trainTarget = trainValidation.target\n",
    "trainFeatures = trainValidation[columnNames[1:]]\n",
    "print trainTarget.shape,trainFeatures.shape"
   ]
  },
  {
   "cell_type": "markdown",
   "metadata": {},
   "source": [
    "# Part 4: Feature Selection "
   ]
  },
  {
   "cell_type": "code",
   "execution_count": 63,
   "metadata": {
    "collapsed": false
   },
   "outputs": [
    {
     "name": "stdout",
     "output_type": "stream",
     "text": [
      "Original dimensions: (4500,254)\n",
      "Reduced dimensions: (4500,26)\n"
     ]
    }
   ],
   "source": [
    "# Since there are too many features (254) we can reduce the dimensionality using univariate analysis \n",
    "# for feature selection using SelectPercentile that selects top 10% of features \n",
    "\n",
    "from sklearn.feature_selection import SelectPercentile,f_regression\n",
    "selectFeat = SelectPercentile(f_regression,percentile=10)\n",
    "selectFeat.fit(trainFeatures,trainTarget)\n",
    "trainTrans = selectFeat.transform(trainFeatures)\n",
    "print \"Original dimensions: (%i,%i)\" % trainFeatures.shape\n",
    "print \"Reduced dimensions: (%i,%i)\" % trainTrans.shape"
   ]
  },
  {
   "cell_type": "markdown",
   "metadata": {},
   "source": [
    "# Part 5: Model building and validation"
   ]
  },
  {
   "cell_type": "code",
   "execution_count": 64,
   "metadata": {
    "collapsed": false
   },
   "outputs": [],
   "source": [
    "# Building a custom cross validation function with K=10 folds (default)\n",
    "from sklearn.cross_validation import cross_val_score\n",
    "from sklearn.cross_validation import cross_val_predict\n",
    "from sklearn.metrics import mean_squared_error\n",
    "\n",
    "def crossValidationfn(model,X,y,k=10):\n",
    "    cvMean = cross_val_score(model,X,y,scoring='mean_squared_error',cv=k).mean()\n",
    "    print \"Cross validation score: %f\" % abs(cvMean)\n",
    "    predicted = cross_val_predict(model,X,y,cv=2)\n",
    "    plt.scatter(y,predicted)\n",
    "    plt.xlabel('Actual values')\n",
    "    plt.ylabel('Predicted values')\n",
    "    plt.title(str(model))\n",
    "    plt.show()\n"
   ]
  },
  {
   "cell_type": "markdown",
   "metadata": {},
   "source": [
    "### Model 1: Simple Linear Regression Model"
   ]
  },
  {
   "cell_type": "code",
   "execution_count": 65,
   "metadata": {
    "collapsed": false
   },
   "outputs": [
    {
     "name": "stdout",
     "output_type": "stream",
     "text": [
      "Cross validation score: 13.853366\n"
     ]
    },
    {
     "data": {
      "image/png": "[encoded data removed]",
      "text/plain": [
       "<matplotlib.figure.Figure at 0xc0d9da0>"
      ]
     },
     "metadata": {},
     "output_type": "display_data"
    }
   ],
   "source": [
    "# Lets build a simple linear model from the data with reduced number of features\n",
    "from sklearn.linear_model import LinearRegression\n",
    "\n",
    "LinModel = LinearRegression(normalize=True)\n",
    "crossValidationfn(LinModel,trainTrans,trainTarget)"
   ]
  },
  {
   "cell_type": "markdown",
   "metadata": {},
   "source": [
    "### Model 2: Lasso Model"
   ]
  },
  {
   "cell_type": "code",
   "execution_count": 42,
   "metadata": {
    "collapsed": false
   },
   "outputs": [
    {
     "name": "stdout",
     "output_type": "stream",
     "text": [
      "Cross validation score: 27.921252\n"
     ]
    },
    {
     "data": {
      "image/png": "[encoded data removed]",
      "text/plain": [
       "<matplotlib.figure.Figure at 0x1c87b240>"
      ]
     },
     "metadata": {},
     "output_type": "display_data"
    }
   ],
   "source": [
    "# Using all features: letting the model vary the complexity via alpha\n",
    "from sklearn.linear_model import Lasso\n",
    "lassoModel = Lasso(alpha=0.1,normalize=True,fit_intercept=True,max_iter=100000,tol=0.0001)\n",
    "crossValidationfn(lassoModel,trainFeatures,trainTarget)"
   ]
  },
  {
   "cell_type": "markdown",
   "metadata": {
    "collapsed": true
   },
   "source": [
    "Lasso performs poorly and similar results were obtained for # Elastic Net model(not shown)"
   ]
  },
  {
   "cell_type": "markdown",
   "metadata": {},
   "source": [
    "\n",
    "### Model 3: SVM"
   ]
  },
  {
   "cell_type": "code",
   "execution_count": 66,
   "metadata": {
    "collapsed": false
   },
   "outputs": [
    {
     "name": "stdout",
     "output_type": "stream",
     "text": [
      "Cross validation score: 7.219325\n"
     ]
    },
    {
     "data": {
      "image/png": "[encoded data removed]",
      "text/plain": [
       "<matplotlib.figure.Figure at 0x1b4ce9e8>"
      ]
     },
     "metadata": {},
     "output_type": "display_data"
    }
   ],
   "source": [
    "from sklearn.svm import SVR\n",
    "svrModel = SVR(C=1,epsilon=0.7,kernel='rbf')\n",
    "crossValidationfn(svrModel,trainTrans,trainTarget)"
   ]
  },
  {
   "cell_type": "markdown",
   "metadata": {},
   "source": [
    "\n",
    "The SVM non linear regression model looks promising and will be evalauted further for \n",
    "the most appropriate 'C' and 'epsilon' values using [randomized search](http://scikit-learn.org/stable/auto_examples/model_selection/randomized_search.html#example-model-selection-randomized-search-py).\n"
   ]
  },
  {
   "cell_type": "code",
   "execution_count": 67,
   "metadata": {
    "collapsed": true
   },
   "outputs": [],
   "source": [
    "# Utility function to report best scores i.e. sorted with lowest std amongst the cv_validation_score \n",
    "# obtained on each iter\n",
    "def report(grid_scores, n_top=3):\n",
    "    top_scores = sorted(grid_scores, key=itemgetter(1), reverse=True)[:n_top]\n",
    "    for i, score in enumerate(top_scores):\n",
    "        print(\"Model with rank: {0}\".format(i + 1))\n",
    "        print(\"Mean validation score: {0:.3f} (std: {1:.3f})\".format(\n",
    "              score.mean_validation_score,\n",
    "              np.std(score.cv_validation_scores)))\n",
    "        print(\"Parameters: {0}\".format(score.parameters))\n",
    "        print(\"\")\n",
    "    return top_scores[0].parameters"
   ]
  },
  {
   "cell_type": "code",
   "execution_count": 68,
   "metadata": {
    "collapsed": false
   },
   "outputs": [
    {
     "data": {
      "text/plain": [
       "RandomizedSearchCV(cv=None, error_score='raise',\n",
       "          estimator=SVR(C=1.0, cache_size=200, coef0=0.0, degree=3, epsilon=0.1, gamma=0.0,\n",
       "  kernel='rbf', max_iter=-1, shrinking=True, tol=0.001, verbose=False),\n",
       "          fit_params={}, iid=True, n_iter=20, n_jobs=1,\n",
       "          param_distributions={'epsilon': <scipy.stats._distn_infrastructure.rv_frozen object at 0x0000000003919240>, 'C': <scipy.stats._distn_infrastructure.rv_frozen object at 0x000000001BD64E10>},\n",
       "          pre_dispatch='2*n_jobs', random_state=None, refit=True,\n",
       "          scoring=None, verbose=0)"
      ]
     },
     "execution_count": 68,
     "metadata": {},
     "output_type": "execute_result"
    }
   ],
   "source": [
    "# Implement the search for returning 'C' and 'epsilon' values that might beat the validation score\n",
    "# obtained from the previous SVR model where C = 1, epsilon = 0.7\n",
    "from sklearn.svm import SVR\n",
    "from sklearn.grid_search import RandomizedSearchCV\n",
    "num_iters = 20\n",
    "param_dist = {'C': scipy.stats.expon(scale=100), 'epsilon': scipy.stats.expon(scale=.1)}\n",
    "svrModel = SVR(kernel='rbf')\n",
    "randomSearch = RandomizedSearchCV(svrModel,param_distributions=param_dist,n_iter=num_iters,n_jobs=1)\n",
    "randomSearch.fit(trainTrans,trainTarget)"
   ]
  },
  {
   "cell_type": "code",
   "execution_count": 69,
   "metadata": {
    "collapsed": false
   },
   "outputs": [
    {
     "name": "stdout",
     "output_type": "stream",
     "text": [
      "Model with rank: 1\n",
      "Mean validation score: 0.778 (std: 0.012)\n",
      "Parameters: {'epsilon': 0.13115370672565332, 'C': 4.116851492086862}\n",
      "\n",
      "Model with rank: 2\n",
      "Mean validation score: 0.771 (std: 0.012)\n",
      "Parameters: {'epsilon': 0.182533074256634, 'C': 2.7282077037845354}\n",
      "\n",
      "Model with rank: 3\n",
      "Mean validation score: 0.768 (std: 0.012)\n",
      "Parameters: {'epsilon': 0.621951466363347, 'C': 2.4681927960234913}\n",
      "\n"
     ]
    }
   ],
   "source": [
    "from operator import itemgetter\n",
    "highScore = report(randomSearch.grid_scores_)"
   ]
  },
  {
   "cell_type": "code",
   "execution_count": 70,
   "metadata": {
    "collapsed": false
   },
   "outputs": [
    {
     "name": "stdout",
     "output_type": "stream",
     "text": [
      "Cross validation score: 5.934327\n"
     ]
    },
    {
     "data": {
      "image/png": "[encoded data removed]",
      "text/plain": [
       "<matplotlib.figure.Figure at 0x1bd8db38>"
      ]
     },
     "metadata": {},
     "output_type": "display_data"
    }
   ],
   "source": [
    "# Now use the new values of the params C, epsilon to build a new SVR model\n",
    "svrModel = SVR(C=highScore['C'],epsilon=highScore['epsilon'],kernel='rbf')\n",
    "crossValidationfn(svrModel,trainTrans,trainTarget)"
   ]
  },
  {
   "cell_type": "markdown",
   "metadata": {
    "collapsed": true
   },
   "source": [
    "Until now the best estimator model using validation data is the SVM model. But before we can narrow\n",
    "down our final choice let us evaluate a random forest regresson model - these models in my experience\n",
    "have consistently outperformed other models."
   ]
  },
  {
   "cell_type": "markdown",
   "metadata": {
    "collapsed": false
   },
   "source": [
    "### Model 4: Random Forest Regressor"
   ]
  },
  {
   "cell_type": "code",
   "execution_count": 71,
   "metadata": {
    "collapsed": false
   },
   "outputs": [
    {
     "name": "stdout",
     "output_type": "stream",
     "text": [
      "Cross validation score: 11.376322\n"
     ]
    },
    {
     "data": {
      "image/png": "[encoded data removed]",
      "text/plain": [
       "<matplotlib.figure.Figure at 0x1fbaf9e8>"
      ]
     },
     "metadata": {},
     "output_type": "display_data"
    }
   ],
   "source": [
    "from sklearn.ensemble import RandomForestRegressor\n",
    "rfModel = RandomForestRegressor(n_estimators=100,n_jobs=-1,random_state=512,warm_start=False)\n",
    "crossValidationfn(rfModel,trainTrans,trainTarget)"
   ]
  },
  {
   "cell_type": "markdown",
   "metadata": {},
   "source": [
    "In this case, the random forest estimator did not outperform our best model yet - SVR model.\n",
    "However before we select the final model to run against XXX's test data, let us run the models we have obtained so far - 3 in total (ignoring Lasso)- against our own test data, which was split from the training data."
   ]
  },
  {
   "cell_type": "markdown",
   "metadata": {
    "collapsed": true
   },
   "source": [
    "# Part 6:Testing"
   ]
  },
  {
   "cell_type": "code",
   "execution_count": 88,
   "metadata": {
    "collapsed": true
   },
   "outputs": [],
   "source": [
    "# Let us first test each of the above models against our test data (split from the training data)\n",
    "def selectModel(models,X,y,testData):\n",
    "    bestModel = ''\n",
    "    lowestMSE = 1000 # a relatively large value\n",
    "    testActual = testData.target\n",
    "    testFeatures = testData[columnNames[1:]]\n",
    "    #choose the same top 10% of best features\n",
    "    testFeatures = selectFeat.transform(testFeatures) \n",
    "    for model in models:\n",
    "        model.fit(X,y)\n",
    "        testPredicted = model.predict(testFeatures)\n",
    "        mse = mean_squared_error(testActual,testPredicted)\n",
    "        if mse < lowestMSE:\n",
    "            lowestMSE = mse\n",
    "            bestModel = model\n",
    "    print \"The best performing model with the lowest MSE of %f\" %(lowestMSE) + \" is %s\" % (str(bestModel))\n",
    "    return bestModel"
   ]
  },
  {
   "cell_type": "code",
   "execution_count": 89,
   "metadata": {
    "collapsed": false
   },
   "outputs": [
    {
     "name": "stdout",
     "output_type": "stream",
     "text": [
      "The best performing model with the lowest MSE of 5.527550 is SVR(C=4.11685149209, cache_size=200, coef0=0.0, degree=3,\n",
      "  epsilon=0.131153706726, gamma=0.0, kernel='rbf', max_iter=-1,\n",
      "  shrinking=True, tol=0.001, verbose=False)\n"
     ]
    }
   ],
   "source": [
    "models = [LinModel,svrModel,rfModel]\n",
    "chosenModel = selectModel(models,trainTrans,trainTarget,test)"
   ]
  },
  {
   "cell_type": "markdown",
   "metadata": {},
   "source": [
    "Testing against our test data validates our assumption obtained from the cross validation set that the SVR model performs the best. Let us now choose this SVR model to predict the values from the test data supplied by XXX"
   ]
  },
  {
   "cell_type": "code",
   "execution_count": 95,
   "metadata": {
    "collapsed": false
   },
   "outputs": [],
   "source": [
    "# Repeat the data wrangling and feature selection step for the rawTest data\n",
    "rawTest = pd.read_csv('codetest_test.txt',sep='\\t')\n",
    "rawTest.replace(to_replace='[^0-9]',value=np.nan,regex=True,inplace=True)\n",
    "newTest = pd.DataFrame(impute.transform(rawTest))\n",
    "newTest.columns = columnNames[1:]"
   ]
  },
  {
   "cell_type": "code",
   "execution_count": 96,
   "metadata": {
    "collapsed": false
   },
   "outputs": [
    {
     "data": {
      "text/html": [
       "<div>\n",
       "<table border=\"1\" class=\"dataframe\">\n",
       "  <thead>\n",
       "    <tr style=\"text-align: right;\">\n",
       "      <th></th>\n",
       "      <th>f_0</th>\n",
       "      <th>f_1</th>\n",
       "      <th>f_2</th>\n",
       "      <th>f_3</th>\n",
       "      <th>f_4</th>\n",
       "      <th>f_5</th>\n",
       "      <th>f_6</th>\n",
       "      <th>f_7</th>\n",
       "      <th>f_8</th>\n",
       "      <th>f_9</th>\n",
       "      <th>...</th>\n",
       "      <th>f_244</th>\n",
       "      <th>f_245</th>\n",
       "      <th>f_246</th>\n",
       "      <th>f_247</th>\n",
       "      <th>f_248</th>\n",
       "      <th>f_249</th>\n",
       "      <th>f_250</th>\n",
       "      <th>f_251</th>\n",
       "      <th>f_252</th>\n",
       "      <th>f_253</th>\n",
       "    </tr>\n",
       "  </thead>\n",
       "  <tbody>\n",
       "    <tr>\n",
       "      <th>count</th>\n",
       "      <td>1000.000000</td>\n",
       "      <td>1000.000000</td>\n",
       "      <td>1000.000000</td>\n",
       "      <td>1000.000000</td>\n",
       "      <td>1000.000000</td>\n",
       "      <td>1000.000000</td>\n",
       "      <td>1000.000000</td>\n",
       "      <td>1000.000000</td>\n",
       "      <td>1000.000000</td>\n",
       "      <td>1000.000000</td>\n",
       "      <td>...</td>\n",
       "      <td>1000.000000</td>\n",
       "      <td>1000.000000</td>\n",
       "      <td>1000.000000</td>\n",
       "      <td>1000.000000</td>\n",
       "      <td>1000.000000</td>\n",
       "      <td>1000.000000</td>\n",
       "      <td>1000.000000</td>\n",
       "      <td>1000.000000</td>\n",
       "      <td>1000.000000</td>\n",
       "      <td>1000.000000</td>\n",
       "    </tr>\n",
       "    <tr>\n",
       "      <th>mean</th>\n",
       "      <td>-0.034028</td>\n",
       "      <td>0.098586</td>\n",
       "      <td>0.020877</td>\n",
       "      <td>0.004962</td>\n",
       "      <td>-0.040922</td>\n",
       "      <td>-0.013846</td>\n",
       "      <td>-0.033229</td>\n",
       "      <td>0.025923</td>\n",
       "      <td>0.028147</td>\n",
       "      <td>0.000582</td>\n",
       "      <td>...</td>\n",
       "      <td>0.022395</td>\n",
       "      <td>-0.069304</td>\n",
       "      <td>0.037510</td>\n",
       "      <td>0.052687</td>\n",
       "      <td>-0.021898</td>\n",
       "      <td>-0.027547</td>\n",
       "      <td>-0.025014</td>\n",
       "      <td>0.003957</td>\n",
       "      <td>-0.006724</td>\n",
       "      <td>-0.016327</td>\n",
       "    </tr>\n",
       "    <tr>\n",
       "      <th>std</th>\n",
       "      <td>0.964309</td>\n",
       "      <td>0.981238</td>\n",
       "      <td>1.019753</td>\n",
       "      <td>0.980384</td>\n",
       "      <td>1.004854</td>\n",
       "      <td>1.030493</td>\n",
       "      <td>1.008972</td>\n",
       "      <td>0.961176</td>\n",
       "      <td>0.953091</td>\n",
       "      <td>0.989204</td>\n",
       "      <td>...</td>\n",
       "      <td>0.960690</td>\n",
       "      <td>0.997949</td>\n",
       "      <td>0.974454</td>\n",
       "      <td>1.015472</td>\n",
       "      <td>1.021621</td>\n",
       "      <td>0.932607</td>\n",
       "      <td>1.035986</td>\n",
       "      <td>0.990182</td>\n",
       "      <td>0.987646</td>\n",
       "      <td>1.008032</td>\n",
       "    </tr>\n",
       "    <tr>\n",
       "      <th>min</th>\n",
       "      <td>-2.997471</td>\n",
       "      <td>-2.760324</td>\n",
       "      <td>-3.516908</td>\n",
       "      <td>-3.017461</td>\n",
       "      <td>-3.332268</td>\n",
       "      <td>-3.241418</td>\n",
       "      <td>-3.441028</td>\n",
       "      <td>-2.827583</td>\n",
       "      <td>-2.911107</td>\n",
       "      <td>-4.457038</td>\n",
       "      <td>...</td>\n",
       "      <td>-2.801388</td>\n",
       "      <td>-4.185742</td>\n",
       "      <td>-3.155603</td>\n",
       "      <td>-4.144691</td>\n",
       "      <td>-3.400451</td>\n",
       "      <td>-2.860234</td>\n",
       "      <td>-3.363570</td>\n",
       "      <td>-2.958576</td>\n",
       "      <td>-2.985039</td>\n",
       "      <td>-3.490942</td>\n",
       "    </tr>\n",
       "    <tr>\n",
       "      <th>25%</th>\n",
       "      <td>-0.668085</td>\n",
       "      <td>-0.570358</td>\n",
       "      <td>-0.639248</td>\n",
       "      <td>-0.659531</td>\n",
       "      <td>-0.697666</td>\n",
       "      <td>-0.720423</td>\n",
       "      <td>-0.737136</td>\n",
       "      <td>-0.657320</td>\n",
       "      <td>-0.558398</td>\n",
       "      <td>-0.698824</td>\n",
       "      <td>...</td>\n",
       "      <td>-0.574862</td>\n",
       "      <td>-0.741272</td>\n",
       "      <td>-0.598735</td>\n",
       "      <td>-0.677855</td>\n",
       "      <td>-0.749769</td>\n",
       "      <td>-0.635579</td>\n",
       "      <td>-0.696704</td>\n",
       "      <td>-0.663989</td>\n",
       "      <td>-0.662829</td>\n",
       "      <td>-0.696748</td>\n",
       "    </tr>\n",
       "    <tr>\n",
       "      <th>50%</th>\n",
       "      <td>-0.031035</td>\n",
       "      <td>0.131058</td>\n",
       "      <td>0.029997</td>\n",
       "      <td>0.010583</td>\n",
       "      <td>-0.022447</td>\n",
       "      <td>-0.024403</td>\n",
       "      <td>-0.061822</td>\n",
       "      <td>0.018386</td>\n",
       "      <td>0.003082</td>\n",
       "      <td>-0.025854</td>\n",
       "      <td>...</td>\n",
       "      <td>0.014648</td>\n",
       "      <td>-0.073679</td>\n",
       "      <td>0.044344</td>\n",
       "      <td>0.035706</td>\n",
       "      <td>-0.021504</td>\n",
       "      <td>-0.026519</td>\n",
       "      <td>-0.039279</td>\n",
       "      <td>0.031942</td>\n",
       "      <td>0.008377</td>\n",
       "      <td>-0.002547</td>\n",
       "    </tr>\n",
       "    <tr>\n",
       "      <th>75%</th>\n",
       "      <td>0.654211</td>\n",
       "      <td>0.695089</td>\n",
       "      <td>0.686617</td>\n",
       "      <td>0.648816</td>\n",
       "      <td>0.573426</td>\n",
       "      <td>0.715987</td>\n",
       "      <td>0.642729</td>\n",
       "      <td>0.652685</td>\n",
       "      <td>0.685727</td>\n",
       "      <td>0.672873</td>\n",
       "      <td>...</td>\n",
       "      <td>0.628249</td>\n",
       "      <td>0.570443</td>\n",
       "      <td>0.683160</td>\n",
       "      <td>0.712811</td>\n",
       "      <td>0.640583</td>\n",
       "      <td>0.570567</td>\n",
       "      <td>0.698727</td>\n",
       "      <td>0.636486</td>\n",
       "      <td>0.658426</td>\n",
       "      <td>0.642925</td>\n",
       "    </tr>\n",
       "    <tr>\n",
       "      <th>max</th>\n",
       "      <td>3.021523</td>\n",
       "      <td>3.188313</td>\n",
       "      <td>3.122314</td>\n",
       "      <td>2.927159</td>\n",
       "      <td>3.461580</td>\n",
       "      <td>2.872705</td>\n",
       "      <td>3.729902</td>\n",
       "      <td>3.175809</td>\n",
       "      <td>2.863248</td>\n",
       "      <td>3.023337</td>\n",
       "      <td>...</td>\n",
       "      <td>3.041313</td>\n",
       "      <td>3.496382</td>\n",
       "      <td>3.019044</td>\n",
       "      <td>3.971462</td>\n",
       "      <td>3.046540</td>\n",
       "      <td>3.351166</td>\n",
       "      <td>3.335669</td>\n",
       "      <td>3.083248</td>\n",
       "      <td>2.727019</td>\n",
       "      <td>3.412559</td>\n",
       "    </tr>\n",
       "  </tbody>\n",
       "</table>\n",
       "<p>8 rows × 254 columns</p>\n",
       "</div>"
      ],
      "text/plain": [
       "               f_0          f_1          f_2          f_3          f_4  \\\n",
       "count  1000.000000  1000.000000  1000.000000  1000.000000  1000.000000   \n",
       "mean     -0.034028     0.098586     0.020877     0.004962    -0.040922   \n",
       "std       0.964309     0.981238     1.019753     0.980384     1.004854   \n",
       "min      -2.997471    -2.760324    -3.516908    -3.017461    -3.332268   \n",
       "25%      -0.668085    -0.570358    -0.639248    -0.659531    -0.697666   \n",
       "50%      -0.031035     0.131058     0.029997     0.010583    -0.022447   \n",
       "75%       0.654211     0.695089     0.686617     0.648816     0.573426   \n",
       "max       3.021523     3.188313     3.122314     2.927159     3.461580   \n",
       "\n",
       "               f_5          f_6          f_7          f_8          f_9  \\\n",
       "count  1000.000000  1000.000000  1000.000000  1000.000000  1000.000000   \n",
       "mean     -0.013846    -0.033229     0.025923     0.028147     0.000582   \n",
       "std       1.030493     1.008972     0.961176     0.953091     0.989204   \n",
       "min      -3.241418    -3.441028    -2.827583    -2.911107    -4.457038   \n",
       "25%      -0.720423    -0.737136    -0.657320    -0.558398    -0.698824   \n",
       "50%      -0.024403    -0.061822     0.018386     0.003082    -0.025854   \n",
       "75%       0.715987     0.642729     0.652685     0.685727     0.672873   \n",
       "max       2.872705     3.729902     3.175809     2.863248     3.023337   \n",
       "\n",
       "          ...             f_244        f_245        f_246        f_247  \\\n",
       "count     ...       1000.000000  1000.000000  1000.000000  1000.000000   \n",
       "mean      ...          0.022395    -0.069304     0.037510     0.052687   \n",
       "std       ...          0.960690     0.997949     0.974454     1.015472   \n",
       "min       ...         -2.801388    -4.185742    -3.155603    -4.144691   \n",
       "25%       ...         -0.574862    -0.741272    -0.598735    -0.677855   \n",
       "50%       ...          0.014648    -0.073679     0.044344     0.035706   \n",
       "75%       ...          0.628249     0.570443     0.683160     0.712811   \n",
       "max       ...          3.041313     3.496382     3.019044     3.971462   \n",
       "\n",
       "             f_248        f_249        f_250        f_251        f_252  \\\n",
       "count  1000.000000  1000.000000  1000.000000  1000.000000  1000.000000   \n",
       "mean     -0.021898    -0.027547    -0.025014     0.003957    -0.006724   \n",
       "std       1.021621     0.932607     1.035986     0.990182     0.987646   \n",
       "min      -3.400451    -2.860234    -3.363570    -2.958576    -2.985039   \n",
       "25%      -0.749769    -0.635579    -0.696704    -0.663989    -0.662829   \n",
       "50%      -0.021504    -0.026519    -0.039279     0.031942     0.008377   \n",
       "75%       0.640583     0.570567     0.698727     0.636486     0.658426   \n",
       "max       3.046540     3.351166     3.335669     3.083248     2.727019   \n",
       "\n",
       "             f_253  \n",
       "count  1000.000000  \n",
       "mean     -0.016327  \n",
       "std       1.008032  \n",
       "min      -3.490942  \n",
       "25%      -0.696748  \n",
       "50%      -0.002547  \n",
       "75%       0.642925  \n",
       "max       3.412559  \n",
       "\n",
       "[8 rows x 254 columns]"
      ]
     },
     "execution_count": 96,
     "metadata": {},
     "output_type": "execute_result"
    }
   ],
   "source": [
    "newTest.describe()"
   ]
  },
  {
   "cell_type": "code",
   "execution_count": 97,
   "metadata": {
    "collapsed": false
   },
   "outputs": [
    {
     "data": {
      "text/html": [
       "<div>\n",
       "<table border=\"1\" class=\"dataframe\">\n",
       "  <thead>\n",
       "    <tr style=\"text-align: right;\">\n",
       "      <th></th>\n",
       "      <th>f_0</th>\n",
       "      <th>f_1</th>\n",
       "      <th>f_2</th>\n",
       "      <th>f_3</th>\n",
       "      <th>f_4</th>\n",
       "      <th>f_5</th>\n",
       "      <th>f_6</th>\n",
       "      <th>f_7</th>\n",
       "      <th>f_8</th>\n",
       "      <th>f_9</th>\n",
       "      <th>...</th>\n",
       "      <th>f_244</th>\n",
       "      <th>f_245</th>\n",
       "      <th>f_246</th>\n",
       "      <th>f_247</th>\n",
       "      <th>f_248</th>\n",
       "      <th>f_249</th>\n",
       "      <th>f_250</th>\n",
       "      <th>f_251</th>\n",
       "      <th>f_252</th>\n",
       "      <th>f_253</th>\n",
       "    </tr>\n",
       "  </thead>\n",
       "  <tbody>\n",
       "    <tr>\n",
       "      <th>count</th>\n",
       "      <td>972.000000</td>\n",
       "      <td>983.000000</td>\n",
       "      <td>983.000000</td>\n",
       "      <td>982.000000</td>\n",
       "      <td>978.000000</td>\n",
       "      <td>984.000000</td>\n",
       "      <td>982.000000</td>\n",
       "      <td>978.000000</td>\n",
       "      <td>980.000000</td>\n",
       "      <td>979.000000</td>\n",
       "      <td>...</td>\n",
       "      <td>973.000000</td>\n",
       "      <td>976.000000</td>\n",
       "      <td>985.000000</td>\n",
       "      <td>979.000000</td>\n",
       "      <td>986.000000</td>\n",
       "      <td>980.000000</td>\n",
       "      <td>981.000000</td>\n",
       "      <td>978.000000</td>\n",
       "      <td>979.000000</td>\n",
       "      <td>985.000000</td>\n",
       "    </tr>\n",
       "    <tr>\n",
       "      <th>mean</th>\n",
       "      <td>-0.035218</td>\n",
       "      <td>0.100808</td>\n",
       "      <td>0.021092</td>\n",
       "      <td>0.005410</td>\n",
       "      <td>-0.042313</td>\n",
       "      <td>-0.013645</td>\n",
       "      <td>-0.033507</td>\n",
       "      <td>0.025955</td>\n",
       "      <td>0.029105</td>\n",
       "      <td>0.000240</td>\n",
       "      <td>...</td>\n",
       "      <td>0.022774</td>\n",
       "      <td>-0.071013</td>\n",
       "      <td>0.038256</td>\n",
       "      <td>0.053578</td>\n",
       "      <td>-0.021731</td>\n",
       "      <td>-0.028499</td>\n",
       "      <td>-0.025653</td>\n",
       "      <td>0.003534</td>\n",
       "      <td>-0.007103</td>\n",
       "      <td>-0.017023</td>\n",
       "    </tr>\n",
       "    <tr>\n",
       "      <th>std</th>\n",
       "      <td>0.978022</td>\n",
       "      <td>0.989476</td>\n",
       "      <td>1.028485</td>\n",
       "      <td>0.989308</td>\n",
       "      <td>1.016012</td>\n",
       "      <td>1.038796</td>\n",
       "      <td>1.018108</td>\n",
       "      <td>0.971877</td>\n",
       "      <td>0.962722</td>\n",
       "      <td>0.999692</td>\n",
       "      <td>...</td>\n",
       "      <td>0.973856</td>\n",
       "      <td>1.010045</td>\n",
       "      <td>0.981793</td>\n",
       "      <td>1.026267</td>\n",
       "      <td>1.028843</td>\n",
       "      <td>0.941971</td>\n",
       "      <td>1.045910</td>\n",
       "      <td>1.001208</td>\n",
       "      <td>0.998147</td>\n",
       "      <td>1.015622</td>\n",
       "    </tr>\n",
       "    <tr>\n",
       "      <th>min</th>\n",
       "      <td>-2.997471</td>\n",
       "      <td>-2.760324</td>\n",
       "      <td>-3.516908</td>\n",
       "      <td>-3.017461</td>\n",
       "      <td>-3.332268</td>\n",
       "      <td>-3.241418</td>\n",
       "      <td>-3.441028</td>\n",
       "      <td>-2.827583</td>\n",
       "      <td>-2.911107</td>\n",
       "      <td>-4.457038</td>\n",
       "      <td>...</td>\n",
       "      <td>-2.801388</td>\n",
       "      <td>-4.185742</td>\n",
       "      <td>-3.155603</td>\n",
       "      <td>-4.144691</td>\n",
       "      <td>-3.400451</td>\n",
       "      <td>-2.860234</td>\n",
       "      <td>-3.363570</td>\n",
       "      <td>-2.958576</td>\n",
       "      <td>-2.985039</td>\n",
       "      <td>-3.490942</td>\n",
       "    </tr>\n",
       "    <tr>\n",
       "      <th>25%</th>\n",
       "      <td>-0.678702</td>\n",
       "      <td>-0.575015</td>\n",
       "      <td>-0.654343</td>\n",
       "      <td>-0.671767</td>\n",
       "      <td>-0.705829</td>\n",
       "      <td>-0.729720</td>\n",
       "      <td>-0.751746</td>\n",
       "      <td>-0.665913</td>\n",
       "      <td>-0.569154</td>\n",
       "      <td>-0.714629</td>\n",
       "      <td>...</td>\n",
       "      <td>-0.585764</td>\n",
       "      <td>-0.752670</td>\n",
       "      <td>-0.611005</td>\n",
       "      <td>-0.688426</td>\n",
       "      <td>-0.762736</td>\n",
       "      <td>-0.658590</td>\n",
       "      <td>-0.730351</td>\n",
       "      <td>-0.671384</td>\n",
       "      <td>-0.684353</td>\n",
       "      <td>-0.721852</td>\n",
       "    </tr>\n",
       "    <tr>\n",
       "      <th>50%</th>\n",
       "      <td>-0.045935</td>\n",
       "      <td>0.148768</td>\n",
       "      <td>0.033301</td>\n",
       "      <td>0.027074</td>\n",
       "      <td>-0.030256</td>\n",
       "      <td>-0.024606</td>\n",
       "      <td>-0.082151</td>\n",
       "      <td>0.017332</td>\n",
       "      <td>0.007836</td>\n",
       "      <td>-0.034938</td>\n",
       "      <td>...</td>\n",
       "      <td>0.020062</td>\n",
       "      <td>-0.099237</td>\n",
       "      <td>0.049961</td>\n",
       "      <td>0.041002</td>\n",
       "      <td>-0.012831</td>\n",
       "      <td>-0.034968</td>\n",
       "      <td>-0.050502</td>\n",
       "      <td>0.030381</td>\n",
       "      <td>0.010278</td>\n",
       "      <td>-0.009191</td>\n",
       "    </tr>\n",
       "    <tr>\n",
       "      <th>75%</th>\n",
       "      <td>0.671904</td>\n",
       "      <td>0.714962</td>\n",
       "      <td>0.697154</td>\n",
       "      <td>0.662120</td>\n",
       "      <td>0.593880</td>\n",
       "      <td>0.730356</td>\n",
       "      <td>0.659270</td>\n",
       "      <td>0.681095</td>\n",
       "      <td>0.716791</td>\n",
       "      <td>0.678978</td>\n",
       "      <td>...</td>\n",
       "      <td>0.653454</td>\n",
       "      <td>0.586903</td>\n",
       "      <td>0.691454</td>\n",
       "      <td>0.725652</td>\n",
       "      <td>0.649085</td>\n",
       "      <td>0.586593</td>\n",
       "      <td>0.717225</td>\n",
       "      <td>0.670663</td>\n",
       "      <td>0.679576</td>\n",
       "      <td>0.655417</td>\n",
       "    </tr>\n",
       "    <tr>\n",
       "      <th>max</th>\n",
       "      <td>3.021523</td>\n",
       "      <td>3.188313</td>\n",
       "      <td>3.122314</td>\n",
       "      <td>2.927159</td>\n",
       "      <td>3.461580</td>\n",
       "      <td>2.872705</td>\n",
       "      <td>3.729902</td>\n",
       "      <td>3.175809</td>\n",
       "      <td>2.863248</td>\n",
       "      <td>3.023337</td>\n",
       "      <td>...</td>\n",
       "      <td>3.041313</td>\n",
       "      <td>3.496382</td>\n",
       "      <td>3.019044</td>\n",
       "      <td>3.971462</td>\n",
       "      <td>3.046540</td>\n",
       "      <td>3.351166</td>\n",
       "      <td>3.335669</td>\n",
       "      <td>3.083248</td>\n",
       "      <td>2.727019</td>\n",
       "      <td>3.412559</td>\n",
       "    </tr>\n",
       "  </tbody>\n",
       "</table>\n",
       "<p>8 rows × 254 columns</p>\n",
       "</div>"
      ],
      "text/plain": [
       "              f_0         f_1         f_2         f_3         f_4         f_5  \\\n",
       "count  972.000000  983.000000  983.000000  982.000000  978.000000  984.000000   \n",
       "mean    -0.035218    0.100808    0.021092    0.005410   -0.042313   -0.013645   \n",
       "std      0.978022    0.989476    1.028485    0.989308    1.016012    1.038796   \n",
       "min     -2.997471   -2.760324   -3.516908   -3.017461   -3.332268   -3.241418   \n",
       "25%     -0.678702   -0.575015   -0.654343   -0.671767   -0.705829   -0.729720   \n",
       "50%     -0.045935    0.148768    0.033301    0.027074   -0.030256   -0.024606   \n",
       "75%      0.671904    0.714962    0.697154    0.662120    0.593880    0.730356   \n",
       "max      3.021523    3.188313    3.122314    2.927159    3.461580    2.872705   \n",
       "\n",
       "              f_6         f_7         f_8         f_9     ...           f_244  \\\n",
       "count  982.000000  978.000000  980.000000  979.000000     ...      973.000000   \n",
       "mean    -0.033507    0.025955    0.029105    0.000240     ...        0.022774   \n",
       "std      1.018108    0.971877    0.962722    0.999692     ...        0.973856   \n",
       "min     -3.441028   -2.827583   -2.911107   -4.457038     ...       -2.801388   \n",
       "25%     -0.751746   -0.665913   -0.569154   -0.714629     ...       -0.585764   \n",
       "50%     -0.082151    0.017332    0.007836   -0.034938     ...        0.020062   \n",
       "75%      0.659270    0.681095    0.716791    0.678978     ...        0.653454   \n",
       "max      3.729902    3.175809    2.863248    3.023337     ...        3.041313   \n",
       "\n",
       "            f_245       f_246       f_247       f_248       f_249       f_250  \\\n",
       "count  976.000000  985.000000  979.000000  986.000000  980.000000  981.000000   \n",
       "mean    -0.071013    0.038256    0.053578   -0.021731   -0.028499   -0.025653   \n",
       "std      1.010045    0.981793    1.026267    1.028843    0.941971    1.045910   \n",
       "min     -4.185742   -3.155603   -4.144691   -3.400451   -2.860234   -3.363570   \n",
       "25%     -0.752670   -0.611005   -0.688426   -0.762736   -0.658590   -0.730351   \n",
       "50%     -0.099237    0.049961    0.041002   -0.012831   -0.034968   -0.050502   \n",
       "75%      0.586903    0.691454    0.725652    0.649085    0.586593    0.717225   \n",
       "max      3.496382    3.019044    3.971462    3.046540    3.351166    3.335669   \n",
       "\n",
       "            f_251       f_252       f_253  \n",
       "count  978.000000  979.000000  985.000000  \n",
       "mean     0.003534   -0.007103   -0.017023  \n",
       "std      1.001208    0.998147    1.015622  \n",
       "min     -2.958576   -2.985039   -3.490942  \n",
       "25%     -0.671384   -0.684353   -0.721852  \n",
       "50%      0.030381    0.010278   -0.009191  \n",
       "75%      0.670663    0.679576    0.655417  \n",
       "max      3.083248    2.727019    3.412559  \n",
       "\n",
       "[8 rows x 254 columns]"
      ]
     },
     "execution_count": 97,
     "metadata": {},
     "output_type": "execute_result"
    }
   ],
   "source": [
    "rawTest.describe()"
   ]
  },
  {
   "cell_type": "code",
   "execution_count": 98,
   "metadata": {
    "collapsed": true
   },
   "outputs": [],
   "source": [
    "rawTest = newTest"
   ]
  },
  {
   "cell_type": "code",
   "execution_count": 99,
   "metadata": {
    "collapsed": false
   },
   "outputs": [
    {
     "name": "stdout",
     "output_type": "stream",
     "text": [
      "Once deleted, variables cannot be recovered. Proceed (y/[n])?  y\n"
     ]
    }
   ],
   "source": [
    "# Delete the variable: newTest\n",
    "%reset_selective newTest"
   ]
  },
  {
   "cell_type": "code",
   "execution_count": 100,
   "metadata": {
    "collapsed": false
   },
   "outputs": [
    {
     "name": "stdout",
     "output_type": "stream",
     "text": [
      "Original dimensions: (1000,254)\n",
      "Reduced dimensions: (1000,26)\n"
     ]
    }
   ],
   "source": [
    "# Now with the feature selection. Use the same estimator that was obtained during the training stage\n",
    "testTrans = selectFeat.transform(rawTest)\n",
    "print \"Original dimensions: (%i,%i)\" % rawTest.shape\n",
    "print \"Reduced dimensions: (%i,%i)\" % testTrans.shape"
   ]
  },
  {
   "cell_type": "code",
   "execution_count": 113,
   "metadata": {
    "collapsed": false
   },
   "outputs": [
    {
     "name": "stdout",
     "output_type": "stream",
     "text": [
      "Summary statistics of predicted:                  0\n",
      "count  1000.000000\n",
      "mean      1.181407\n",
      "std       4.405783\n",
      "min     -13.264065\n",
      "25%      -1.686909\n",
      "50%       1.186653\n",
      "75%       4.138448\n",
      "max      15.026866\n",
      "\n",
      "Summary statistics of Train set (target column): count    4500.000000\n",
      "mean        1.157093\n",
      "std         5.280383\n",
      "min       -26.705570\n",
      "25%        -2.051870\n",
      "50%         1.174431\n",
      "75%         4.476600\n",
      "max        26.347818\n",
      "Name: target, dtype: float64\n",
      "\n"
     ]
    }
   ],
   "source": [
    "# Use the above SVR model to predict the outcome from the reduced data set\n",
    "predicted = pd.DataFrame(chosenModel.predict(testTrans))\n",
    "print \"Summary statistics of predicted: %s\\n\" %(predicted.describe())\n",
    "print \"Summary statistics of Train set (target column): %s\\n\" %(trainTarget.describe())"
   ]
  },
  {
   "cell_type": "markdown",
   "metadata": {},
   "source": [
    "Looking at the above summary statistics, we can be reasonably confident that our predicted values are in line with the distribution of the training set."
   ]
  }
 ],
 "metadata": {
  "kernelspec": {
   "display_name": "Python 2",
   "language": "python",
   "name": "python2"
  },
  "language_info": {
   "codemirror_mode": {
    "name": "ipython",
    "version": 2
   },
   "file_extension": ".py",
   "mimetype": "text/x-python",
   "name": "python",
   "nbconvert_exporter": "python",
   "pygments_lexer": "ipython2",
   "version": "2.7.9"
  }
 },
 "nbformat": 4,
 "nbformat_minor": 0
}
