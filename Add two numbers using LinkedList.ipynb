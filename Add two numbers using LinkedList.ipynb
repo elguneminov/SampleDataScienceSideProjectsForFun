{
 "cells": [
  {
   "cell_type": "raw",
   "metadata": {},
   "source": [
    "Adding two numbers using LinkedList"
   ]
  },
  {
   "cell_type": "code",
   "execution_count": 1,
   "metadata": {
    "collapsed": true
   },
   "outputs": [],
   "source": [
    "#123: 3->2->1\n",
    "#233: 3->3->2\n",
    "\n",
    "#356: 6->5->3\n",
    "class ListNode(object):\n",
    "    def __init__(self,x):\n",
    "        self.val = x\n",
    "        self.next = None"
   ]
  },
  {
   "cell_type": "code",
   "execution_count": 66,
   "metadata": {
    "collapsed": false
   },
   "outputs": [],
   "source": [
    "def convertNum2Node(num):\n",
    "    tempNode = ListNode(num%10)\n",
    "    num = num/10\n",
    "    if num>0:\n",
    "        tempNode.next = convertNum2Node(num)        \n",
    "    return tempNode"
   ]
  },
  {
   "cell_type": "code",
   "execution_count": 93,
   "metadata": {
    "collapsed": false
   },
   "outputs": [],
   "source": [
    "def sum2Nodes(t_l1, t_l2):\n",
    "        tempSum = t_l1.val + t_l2.val\n",
    "        return ListNode(tempSum)\n",
    "    \n",
    "def addTwoNumbers(l1, l2):\n",
    "    carryover = 0\n",
    "    tempNode = sum2Nodes(l1,l2)\n",
    "    if (l1.next != None and l2.next != None):\n",
    "        if tempNode.val > 9:\n",
    "            carryover = tempNode.val/10\n",
    "            tempNode.val = tempNode.val%10\n",
    "        l1.next.val += carryover\n",
    "        tempNode.next = addTwoNumbers(l1.next,l2.next)\n",
    "    return tempNode"
   ]
  },
  {
   "cell_type": "code",
   "execution_count": 99,
   "metadata": {
    "collapsed": false
   },
   "outputs": [],
   "source": [
    "l1 = convertNum2Node(823)\n",
    "l2 = convertNum2Node(739)"
   ]
  },
  {
   "cell_type": "code",
   "execution_count": 100,
   "metadata": {
    "collapsed": false
   },
   "outputs": [],
   "source": [
    "l3 = addTwoNumbers(l1,l2)"
   ]
  }
 ],
 "metadata": {
  "kernelspec": {
   "display_name": "Python 2",
   "language": "python",
   "name": "python2"
  },
  "language_info": {
   "codemirror_mode": {
    "name": "ipython",
    "version": 2
   },
   "file_extension": ".py",
   "mimetype": "text/x-python",
   "name": "python",
   "nbconvert_exporter": "python",
   "pygments_lexer": "ipython2",
   "version": "2.7.11"
  }
 },
 "nbformat": 4,
 "nbformat_minor": 0
}
