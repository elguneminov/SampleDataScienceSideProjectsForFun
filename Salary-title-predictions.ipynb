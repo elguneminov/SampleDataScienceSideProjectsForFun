{
 "cells": [
  {
   "cell_type": "raw",
   "metadata": {},
   "source": [
    "Predicting salary from job tit"
   ]
  },
  {
   "cell_type": "code",
   "execution_count": 1,
   "metadata": {
    "collapsed": false
   },
   "outputs": [],
   "source": [
    "import pandas as pd\n",
    "import numpy as np\n",
    "import matplotlib.pyplot as plt\n",
    "%matplotlib inline\n",
    "\n",
    "from sklearn.linear_model import Lasso,ElasticNet,Ridge,SGDRegressor\n",
    "from sklearn.ensemble import BaggingRegressor,GradientBoostingRegressor\n",
    "\n",
    "from sklearn.cross_validation import train_test_split\n",
    "from sklearn.grid_search import GridSearchCV\n",
    "from sklearn.preprocessing import MinMaxScaler\n",
    "from sklearn.preprocessing import LabelEncoder\n",
    "from sklearn.cross_validation import cross_val_score\n",
    "from sklearn.metrics import mean_absolute_error\n",
    "from tqdm import tqdm_notebook"
   ]
  },
  {
   "cell_type": "code",
   "execution_count": 2,
   "metadata": {
    "collapsed": true
   },
   "outputs": [],
   "source": [
    "# Load data\n",
    "data_ft = pd.read_csv('train_features_2013-03-07.csv')\n",
    "data_sal = pd.read_csv('train_salaries_2013-03-07.csv')"
   ]
  },
  {
   "cell_type": "code",
   "execution_count": 3,
   "metadata": {
    "collapsed": false
   },
   "outputs": [
    {
     "data": {
      "text/html": [
       "<div>\n",
       "<table border=\"1\" class=\"dataframe\">\n",
       "  <thead>\n",
       "    <tr style=\"text-align: right;\">\n",
       "      <th></th>\n",
       "      <th>jobId</th>\n",
       "      <th>companyId</th>\n",
       "      <th>jobType</th>\n",
       "      <th>degree</th>\n",
       "      <th>major</th>\n",
       "      <th>industry</th>\n",
       "      <th>yearsExperience</th>\n",
       "      <th>milesFromMetropolis</th>\n",
       "    </tr>\n",
       "  </thead>\n",
       "  <tbody>\n",
       "    <tr>\n",
       "      <th>0</th>\n",
       "      <td>JOB1362684407687</td>\n",
       "      <td>COMP37</td>\n",
       "      <td>CFO</td>\n",
       "      <td>MASTERS</td>\n",
       "      <td>MATH</td>\n",
       "      <td>HEALTH</td>\n",
       "      <td>10</td>\n",
       "      <td>83</td>\n",
       "    </tr>\n",
       "    <tr>\n",
       "      <th>1</th>\n",
       "      <td>JOB1362684407688</td>\n",
       "      <td>COMP19</td>\n",
       "      <td>CEO</td>\n",
       "      <td>HIGH_SCHOOL</td>\n",
       "      <td>NONE</td>\n",
       "      <td>WEB</td>\n",
       "      <td>3</td>\n",
       "      <td>73</td>\n",
       "    </tr>\n",
       "    <tr>\n",
       "      <th>2</th>\n",
       "      <td>JOB1362684407689</td>\n",
       "      <td>COMP52</td>\n",
       "      <td>VICE_PRESIDENT</td>\n",
       "      <td>DOCTORAL</td>\n",
       "      <td>PHYSICS</td>\n",
       "      <td>HEALTH</td>\n",
       "      <td>10</td>\n",
       "      <td>38</td>\n",
       "    </tr>\n",
       "    <tr>\n",
       "      <th>3</th>\n",
       "      <td>JOB1362684407690</td>\n",
       "      <td>COMP38</td>\n",
       "      <td>MANAGER</td>\n",
       "      <td>DOCTORAL</td>\n",
       "      <td>CHEMISTRY</td>\n",
       "      <td>AUTO</td>\n",
       "      <td>8</td>\n",
       "      <td>17</td>\n",
       "    </tr>\n",
       "    <tr>\n",
       "      <th>4</th>\n",
       "      <td>JOB1362684407691</td>\n",
       "      <td>COMP7</td>\n",
       "      <td>VICE_PRESIDENT</td>\n",
       "      <td>BACHELORS</td>\n",
       "      <td>PHYSICS</td>\n",
       "      <td>FINANCE</td>\n",
       "      <td>8</td>\n",
       "      <td>16</td>\n",
       "    </tr>\n",
       "  </tbody>\n",
       "</table>\n",
       "</div>"
      ],
      "text/plain": [
       "              jobId companyId         jobType       degree      major  \\\n",
       "0  JOB1362684407687    COMP37             CFO      MASTERS       MATH   \n",
       "1  JOB1362684407688    COMP19             CEO  HIGH_SCHOOL       NONE   \n",
       "2  JOB1362684407689    COMP52  VICE_PRESIDENT     DOCTORAL    PHYSICS   \n",
       "3  JOB1362684407690    COMP38         MANAGER     DOCTORAL  CHEMISTRY   \n",
       "4  JOB1362684407691     COMP7  VICE_PRESIDENT    BACHELORS    PHYSICS   \n",
       "\n",
       "  industry  yearsExperience  milesFromMetropolis  \n",
       "0   HEALTH               10                   83  \n",
       "1      WEB                3                   73  \n",
       "2   HEALTH               10                   38  \n",
       "3     AUTO                8                   17  \n",
       "4  FINANCE                8                   16  "
      ]
     },
     "execution_count": 3,
     "metadata": {},
     "output_type": "execute_result"
    }
   ],
   "source": [
    "data_ft.head()"
   ]
  },
  {
   "cell_type": "code",
   "execution_count": 4,
   "metadata": {
    "collapsed": false
   },
   "outputs": [
    {
     "data": {
      "text/html": [
       "<div>\n",
       "<table border=\"1\" class=\"dataframe\">\n",
       "  <thead>\n",
       "    <tr style=\"text-align: right;\">\n",
       "      <th></th>\n",
       "      <th>jobId</th>\n",
       "      <th>salary</th>\n",
       "    </tr>\n",
       "  </thead>\n",
       "  <tbody>\n",
       "    <tr>\n",
       "      <th>0</th>\n",
       "      <td>JOB1362684407687</td>\n",
       "      <td>130</td>\n",
       "    </tr>\n",
       "    <tr>\n",
       "      <th>1</th>\n",
       "      <td>JOB1362684407688</td>\n",
       "      <td>101</td>\n",
       "    </tr>\n",
       "    <tr>\n",
       "      <th>2</th>\n",
       "      <td>JOB1362684407689</td>\n",
       "      <td>137</td>\n",
       "    </tr>\n",
       "    <tr>\n",
       "      <th>3</th>\n",
       "      <td>JOB1362684407690</td>\n",
       "      <td>142</td>\n",
       "    </tr>\n",
       "    <tr>\n",
       "      <th>4</th>\n",
       "      <td>JOB1362684407691</td>\n",
       "      <td>163</td>\n",
       "    </tr>\n",
       "  </tbody>\n",
       "</table>\n",
       "</div>"
      ],
      "text/plain": [
       "              jobId  salary\n",
       "0  JOB1362684407687     130\n",
       "1  JOB1362684407688     101\n",
       "2  JOB1362684407689     137\n",
       "3  JOB1362684407690     142\n",
       "4  JOB1362684407691     163"
      ]
     },
     "execution_count": 4,
     "metadata": {},
     "output_type": "execute_result"
    }
   ],
   "source": [
    "data_sal.head()"
   ]
  },
  {
   "cell_type": "code",
   "execution_count": 5,
   "metadata": {
    "collapsed": false
   },
   "outputs": [
    {
     "name": "stdout",
     "output_type": "stream",
     "text": [
      "1000000 63 5 9 7\n"
     ]
    }
   ],
   "source": [
    "print len(data_ft.jobId.unique()),len(data_ft.companyId.unique()), len(data_ft.degree.unique()), len(data_ft.major.unique()), len(data_ft.industry.unique())"
   ]
  },
  {
   "cell_type": "raw",
   "metadata": {},
   "source": [
    "From above, the jobId clearly has no benefit for modeling purposes as there is a unique Id for each salary and will be discarded later."
   ]
  },
  {
   "cell_type": "code",
   "execution_count": 6,
   "metadata": {
    "collapsed": false
   },
   "outputs": [],
   "source": [
    "# Merge the two tables\n",
    "data_join = data_ft.merge(data_sal,on='jobId',how='inner')"
   ]
  },
  {
   "cell_type": "code",
   "execution_count": 7,
   "metadata": {
    "collapsed": false
   },
   "outputs": [],
   "source": [
    "del data_ft, data_sal"
   ]
  },
  {
   "cell_type": "code",
   "execution_count": 8,
   "metadata": {
    "collapsed": false
   },
   "outputs": [],
   "source": [
    "data_join.drop('jobId',inplace=1,axis=1)"
   ]
  },
  {
   "cell_type": "code",
   "execution_count": 9,
   "metadata": {
    "collapsed": false
   },
   "outputs": [
    {
     "data": {
      "text/html": [
       "<div>\n",
       "<table border=\"1\" class=\"dataframe\">\n",
       "  <thead>\n",
       "    <tr style=\"text-align: right;\">\n",
       "      <th></th>\n",
       "      <th>companyId</th>\n",
       "      <th>jobType</th>\n",
       "      <th>degree</th>\n",
       "      <th>major</th>\n",
       "      <th>industry</th>\n",
       "      <th>yearsExperience</th>\n",
       "      <th>milesFromMetropolis</th>\n",
       "      <th>salary</th>\n",
       "    </tr>\n",
       "  </thead>\n",
       "  <tbody>\n",
       "    <tr>\n",
       "      <th>0</th>\n",
       "      <td>COMP37</td>\n",
       "      <td>CFO</td>\n",
       "      <td>MASTERS</td>\n",
       "      <td>MATH</td>\n",
       "      <td>HEALTH</td>\n",
       "      <td>10</td>\n",
       "      <td>83</td>\n",
       "      <td>130</td>\n",
       "    </tr>\n",
       "    <tr>\n",
       "      <th>1</th>\n",
       "      <td>COMP19</td>\n",
       "      <td>CEO</td>\n",
       "      <td>HIGH_SCHOOL</td>\n",
       "      <td>NONE</td>\n",
       "      <td>WEB</td>\n",
       "      <td>3</td>\n",
       "      <td>73</td>\n",
       "      <td>101</td>\n",
       "    </tr>\n",
       "    <tr>\n",
       "      <th>2</th>\n",
       "      <td>COMP52</td>\n",
       "      <td>VICE_PRESIDENT</td>\n",
       "      <td>DOCTORAL</td>\n",
       "      <td>PHYSICS</td>\n",
       "      <td>HEALTH</td>\n",
       "      <td>10</td>\n",
       "      <td>38</td>\n",
       "      <td>137</td>\n",
       "    </tr>\n",
       "    <tr>\n",
       "      <th>3</th>\n",
       "      <td>COMP38</td>\n",
       "      <td>MANAGER</td>\n",
       "      <td>DOCTORAL</td>\n",
       "      <td>CHEMISTRY</td>\n",
       "      <td>AUTO</td>\n",
       "      <td>8</td>\n",
       "      <td>17</td>\n",
       "      <td>142</td>\n",
       "    </tr>\n",
       "    <tr>\n",
       "      <th>4</th>\n",
       "      <td>COMP7</td>\n",
       "      <td>VICE_PRESIDENT</td>\n",
       "      <td>BACHELORS</td>\n",
       "      <td>PHYSICS</td>\n",
       "      <td>FINANCE</td>\n",
       "      <td>8</td>\n",
       "      <td>16</td>\n",
       "      <td>163</td>\n",
       "    </tr>\n",
       "  </tbody>\n",
       "</table>\n",
       "</div>"
      ],
      "text/plain": [
       "  companyId         jobType       degree      major industry  yearsExperience  \\\n",
       "0    COMP37             CFO      MASTERS       MATH   HEALTH               10   \n",
       "1    COMP19             CEO  HIGH_SCHOOL       NONE      WEB                3   \n",
       "2    COMP52  VICE_PRESIDENT     DOCTORAL    PHYSICS   HEALTH               10   \n",
       "3    COMP38         MANAGER     DOCTORAL  CHEMISTRY     AUTO                8   \n",
       "4     COMP7  VICE_PRESIDENT    BACHELORS    PHYSICS  FINANCE                8   \n",
       "\n",
       "   milesFromMetropolis  salary  \n",
       "0                   83     130  \n",
       "1                   73     101  \n",
       "2                   38     137  \n",
       "3                   17     142  \n",
       "4                   16     163  "
      ]
     },
     "execution_count": 9,
     "metadata": {},
     "output_type": "execute_result"
    }
   ],
   "source": [
    "data_join.head()"
   ]
  },
  {
   "cell_type": "code",
   "execution_count": 10,
   "metadata": {
    "collapsed": false
   },
   "outputs": [
    {
     "data": {
      "text/plain": [
       "<matplotlib.text.Text at 0xa246f98>"
      ]
     },
     "execution_count": 10,
     "metadata": {},
     "output_type": "execute_result"
    },
    {
     "data": {
      "image/png": "[encoded data removed]",
      "text/plain": [
       "<matplotlib.figure.Figure at 0xa2467b8>"
      ]
     },
     "metadata": {},
     "output_type": "display_data"
    }
   ],
   "source": [
    "_ = plt.hist(data_join.salary)\n",
    "plt.title('Salary - Normally distributed')\n",
    "plt.xlabel('Salary')"
   ]
  },
  {
   "cell_type": "code",
   "execution_count": 11,
   "metadata": {
    "collapsed": false
   },
   "outputs": [
    {
     "data": {
      "text/plain": [
       "count    1000000.000000\n",
       "mean         116.061818\n",
       "std           38.717936\n",
       "min            0.000000\n",
       "25%           88.000000\n",
       "50%          114.000000\n",
       "75%          141.000000\n",
       "max          301.000000\n",
       "Name: salary, dtype: float64"
      ]
     },
     "execution_count": 11,
     "metadata": {},
     "output_type": "execute_result"
    }
   ],
   "source": [
    "data_join.salary.describe()"
   ]
  },
  {
   "cell_type": "raw",
   "metadata": {},
   "source": [
    "Some jobs are advertised as 0 salary. Lets investigate:"
   ]
  },
  {
   "cell_type": "code",
   "execution_count": 12,
   "metadata": {
    "collapsed": false
   },
   "outputs": [
    {
     "data": {
      "text/html": [
       "<div>\n",
       "<table border=\"1\" class=\"dataframe\">\n",
       "  <thead>\n",
       "    <tr style=\"text-align: right;\">\n",
       "      <th></th>\n",
       "      <th>companyId</th>\n",
       "      <th>jobType</th>\n",
       "      <th>degree</th>\n",
       "      <th>major</th>\n",
       "      <th>industry</th>\n",
       "      <th>yearsExperience</th>\n",
       "      <th>milesFromMetropolis</th>\n",
       "      <th>salary</th>\n",
       "    </tr>\n",
       "  </thead>\n",
       "  <tbody>\n",
       "    <tr>\n",
       "      <th>30559</th>\n",
       "      <td>COMP44</td>\n",
       "      <td>JUNIOR</td>\n",
       "      <td>DOCTORAL</td>\n",
       "      <td>MATH</td>\n",
       "      <td>AUTO</td>\n",
       "      <td>11</td>\n",
       "      <td>7</td>\n",
       "      <td>0</td>\n",
       "    </tr>\n",
       "    <tr>\n",
       "      <th>495984</th>\n",
       "      <td>COMP34</td>\n",
       "      <td>JUNIOR</td>\n",
       "      <td>NONE</td>\n",
       "      <td>NONE</td>\n",
       "      <td>OIL</td>\n",
       "      <td>1</td>\n",
       "      <td>25</td>\n",
       "      <td>0</td>\n",
       "    </tr>\n",
       "    <tr>\n",
       "      <th>652076</th>\n",
       "      <td>COMP25</td>\n",
       "      <td>CTO</td>\n",
       "      <td>HIGH_SCHOOL</td>\n",
       "      <td>NONE</td>\n",
       "      <td>AUTO</td>\n",
       "      <td>6</td>\n",
       "      <td>60</td>\n",
       "      <td>0</td>\n",
       "    </tr>\n",
       "    <tr>\n",
       "      <th>816129</th>\n",
       "      <td>COMP42</td>\n",
       "      <td>MANAGER</td>\n",
       "      <td>DOCTORAL</td>\n",
       "      <td>ENGINEERING</td>\n",
       "      <td>FINANCE</td>\n",
       "      <td>18</td>\n",
       "      <td>6</td>\n",
       "      <td>0</td>\n",
       "    </tr>\n",
       "    <tr>\n",
       "      <th>828156</th>\n",
       "      <td>COMP40</td>\n",
       "      <td>VICE_PRESIDENT</td>\n",
       "      <td>MASTERS</td>\n",
       "      <td>ENGINEERING</td>\n",
       "      <td>WEB</td>\n",
       "      <td>3</td>\n",
       "      <td>29</td>\n",
       "      <td>0</td>\n",
       "    </tr>\n",
       "  </tbody>\n",
       "</table>\n",
       "</div>"
      ],
      "text/plain": [
       "       companyId         jobType       degree        major industry  \\\n",
       "30559     COMP44          JUNIOR     DOCTORAL         MATH     AUTO   \n",
       "495984    COMP34          JUNIOR         NONE         NONE      OIL   \n",
       "652076    COMP25             CTO  HIGH_SCHOOL         NONE     AUTO   \n",
       "816129    COMP42         MANAGER     DOCTORAL  ENGINEERING  FINANCE   \n",
       "828156    COMP40  VICE_PRESIDENT      MASTERS  ENGINEERING      WEB   \n",
       "\n",
       "        yearsExperience  milesFromMetropolis  salary  \n",
       "30559                11                    7       0  \n",
       "495984                1                   25       0  \n",
       "652076                6                   60       0  \n",
       "816129               18                    6       0  \n",
       "828156                3                   29       0  "
      ]
     },
     "execution_count": 12,
     "metadata": {},
     "output_type": "execute_result"
    }
   ],
   "source": [
    "mask = data_join.salary == 0\n",
    "data_join[mask]"
   ]
  },
  {
   "cell_type": "raw",
   "metadata": {},
   "source": [
    "Clearly it is incorrect info as the meta data points that salary cannot be 0 .. for example can a job with VP or CTO or a phD degree requirement state 0 as salary? Perhaps not. Lets remove this data"
   ]
  },
  {
   "cell_type": "code",
   "execution_count": 13,
   "metadata": {
    "collapsed": true
   },
   "outputs": [],
   "source": [
    "data_join = data_join[~mask]"
   ]
  },
  {
   "cell_type": "raw",
   "metadata": {},
   "source": [
    "Lets look at the companyId column and see if adds any value to predicting salaries"
   ]
  },
  {
   "cell_type": "code",
   "execution_count": 14,
   "metadata": {
    "collapsed": false
   },
   "outputs": [
    {
     "name": "stdout",
     "output_type": "stream",
     "text": [
      "               salary\n",
      "companyId            \n",
      "COMP53     115.342355\n",
      "COMP37     115.345049\n",
      "COMP57     115.393540\n",
      "COMP42     115.484037\n",
      "COMP54     115.589785\n",
      "               salary\n",
      "companyId            \n",
      "COMP21     116.539156\n",
      "COMP13     116.561795\n",
      "COMP44     116.680892\n",
      "COMP2      116.759223\n",
      "COMP40     116.790467\n"
     ]
    }
   ],
   "source": [
    "group_company = data_join.groupby('companyId').agg({'salary':'mean'})\n",
    "print group_company.sort_values('salary').head()\n",
    "print group_company.sort_values('salary').tail()"
   ]
  },
  {
   "cell_type": "raw",
   "metadata": {},
   "source": [
    "From the above we can assume with some degree of confidence that because there is not so much variation in the salary range, it will add little value. So lets eliminate that as well."
   ]
  },
  {
   "cell_type": "code",
   "execution_count": 15,
   "metadata": {
    "collapsed": true
   },
   "outputs": [],
   "source": [
    "data_join.drop('companyId',inplace=1,axis=1)"
   ]
  },
  {
   "cell_type": "raw",
   "metadata": {},
   "source": [
    "Lets now look at whether yearsExperience and milesFromMetropolis has any influence on salary:"
   ]
  },
  {
   "cell_type": "code",
   "execution_count": 16,
   "metadata": {
    "collapsed": false
   },
   "outputs": [
    {
     "data": {
      "text/plain": [
       "<matplotlib.text.Text at 0x14bd23c8>"
      ]
     },
     "execution_count": 16,
     "metadata": {},
     "output_type": "execute_result"
    },
    {
     "data": {
      "image/png": "[encoded data removed]",
      "text/plain": [
       "<matplotlib.figure.Figure at 0xc7cbb38>"
      ]
     },
     "metadata": {},
     "output_type": "display_data"
    }
   ],
   "source": [
    "group_exp = data_join.groupby('yearsExperience').agg({'salary':'mean'})\n",
    "plt.plot(group_exp.index,group_exp.salary,'.-')\n",
    "plt.title('Salary vs experience (years)')"
   ]
  },
  {
   "cell_type": "code",
   "execution_count": 17,
   "metadata": {
    "collapsed": false
   },
   "outputs": [
    {
     "data": {
      "text/plain": [
       "<matplotlib.text.Text at 0x14ee94a8>"
      ]
     },
     "execution_count": 17,
     "metadata": {},
     "output_type": "execute_result"
    },
    {
     "data": {
      "image/png": "[encoded data removed]",
      "text/plain": [
       "<matplotlib.figure.Figure at 0x150df320>"
      ]
     },
     "metadata": {},
     "output_type": "display_data"
    }
   ],
   "source": [
    "group_miles = data_join.groupby('milesFromMetropolis').agg({'salary':'mean'})\n",
    "plt.plot(group_miles.index,group_miles.salary,'.-')\n",
    "plt.title('Salary vs dist from metropolis (miles)')"
   ]
  },
  {
   "cell_type": "raw",
   "metadata": {},
   "source": [
    "Clearly there is a strong correlation b/w these features and salary. So we will retain them"
   ]
  },
  {
   "cell_type": "raw",
   "metadata": {},
   "source": [
    "Now lets look at the relation b/w jobType and salary:"
   ]
  },
  {
   "cell_type": "code",
   "execution_count": 18,
   "metadata": {
    "collapsed": false
   },
   "outputs": [
    {
     "data": {
      "text/html": [
       "<div>\n",
       "<table border=\"1\" class=\"dataframe\">\n",
       "  <thead>\n",
       "    <tr style=\"text-align: right;\">\n",
       "      <th></th>\n",
       "      <th>salary</th>\n",
       "    </tr>\n",
       "    <tr>\n",
       "      <th>jobType</th>\n",
       "      <th></th>\n",
       "    </tr>\n",
       "  </thead>\n",
       "  <tbody>\n",
       "    <tr>\n",
       "      <th>JANITOR</th>\n",
       "      <td>70.813045</td>\n",
       "    </tr>\n",
       "    <tr>\n",
       "      <th>JUNIOR</th>\n",
       "      <td>95.333087</td>\n",
       "    </tr>\n",
       "    <tr>\n",
       "      <th>SENIOR</th>\n",
       "      <td>105.487775</td>\n",
       "    </tr>\n",
       "    <tr>\n",
       "      <th>MANAGER</th>\n",
       "      <td>115.368518</td>\n",
       "    </tr>\n",
       "    <tr>\n",
       "      <th>VICE_PRESIDENT</th>\n",
       "      <td>125.368630</td>\n",
       "    </tr>\n",
       "    <tr>\n",
       "      <th>CFO</th>\n",
       "      <td>135.458547</td>\n",
       "    </tr>\n",
       "    <tr>\n",
       "      <th>CTO</th>\n",
       "      <td>135.481067</td>\n",
       "    </tr>\n",
       "    <tr>\n",
       "      <th>CEO</th>\n",
       "      <td>145.311425</td>\n",
       "    </tr>\n",
       "  </tbody>\n",
       "</table>\n",
       "</div>"
      ],
      "text/plain": [
       "                    salary\n",
       "jobType                   \n",
       "JANITOR          70.813045\n",
       "JUNIOR           95.333087\n",
       "SENIOR          105.487775\n",
       "MANAGER         115.368518\n",
       "VICE_PRESIDENT  125.368630\n",
       "CFO             135.458547\n",
       "CTO             135.481067\n",
       "CEO             145.311425"
      ]
     },
     "execution_count": 18,
     "metadata": {},
     "output_type": "execute_result"
    }
   ],
   "source": [
    "group_job = data_join.groupby('jobType').agg({'salary':'mean'})\n",
    "group_job.sort_values('salary')"
   ]
  },
  {
   "cell_type": "raw",
   "metadata": {},
   "source": [
    "The above confirms with some already basic knowledge that the more senior your title, the higher the salary: so we will retain this feature"
   ]
  },
  {
   "cell_type": "raw",
   "metadata": {},
   "source": [
    "How about degree?: Again checks out - the more advanced degree the higher the salary"
   ]
  },
  {
   "cell_type": "code",
   "execution_count": 19,
   "metadata": {
    "collapsed": false
   },
   "outputs": [
    {
     "data": {
      "text/html": [
       "<div>\n",
       "<table border=\"1\" class=\"dataframe\">\n",
       "  <thead>\n",
       "    <tr style=\"text-align: right;\">\n",
       "      <th></th>\n",
       "      <th>salary</th>\n",
       "    </tr>\n",
       "    <tr>\n",
       "      <th>degree</th>\n",
       "      <th></th>\n",
       "    </tr>\n",
       "  </thead>\n",
       "  <tbody>\n",
       "    <tr>\n",
       "      <th>NONE</th>\n",
       "      <td>98.176882</td>\n",
       "    </tr>\n",
       "    <tr>\n",
       "      <th>HIGH_SCHOOL</th>\n",
       "      <td>101.921085</td>\n",
       "    </tr>\n",
       "    <tr>\n",
       "      <th>BACHELORS</th>\n",
       "      <td>125.454663</td>\n",
       "    </tr>\n",
       "    <tr>\n",
       "      <th>MASTERS</th>\n",
       "      <td>130.505647</td>\n",
       "    </tr>\n",
       "    <tr>\n",
       "      <th>DOCTORAL</th>\n",
       "      <td>135.490979</td>\n",
       "    </tr>\n",
       "  </tbody>\n",
       "</table>\n",
       "</div>"
      ],
      "text/plain": [
       "                 salary\n",
       "degree                 \n",
       "NONE          98.176882\n",
       "HIGH_SCHOOL  101.921085\n",
       "BACHELORS    125.454663\n",
       "MASTERS      130.505647\n",
       "DOCTORAL     135.490979"
      ]
     },
     "execution_count": 19,
     "metadata": {},
     "output_type": "execute_result"
    }
   ],
   "source": [
    "group_degree = data_join.groupby('degree').agg({'salary':'mean'})\n",
    "group_degree.sort_values('salary')"
   ]
  },
  {
   "cell_type": "raw",
   "metadata": {},
   "source": [
    "And type of major: STEM related majors pay higher. Again we will retain them."
   ]
  },
  {
   "cell_type": "code",
   "execution_count": 20,
   "metadata": {
    "collapsed": false
   },
   "outputs": [
    {
     "data": {
      "text/html": [
       "<div>\n",
       "<table border=\"1\" class=\"dataframe\">\n",
       "  <thead>\n",
       "    <tr style=\"text-align: right;\">\n",
       "      <th></th>\n",
       "      <th>salary</th>\n",
       "    </tr>\n",
       "    <tr>\n",
       "      <th>major</th>\n",
       "      <th></th>\n",
       "    </tr>\n",
       "  </thead>\n",
       "  <tbody>\n",
       "    <tr>\n",
       "      <th>NONE</th>\n",
       "      <td>102.583864</td>\n",
       "    </tr>\n",
       "    <tr>\n",
       "      <th>LITERATURE</th>\n",
       "      <td>124.423097</td>\n",
       "    </tr>\n",
       "    <tr>\n",
       "      <th>BIOLOGY</th>\n",
       "      <td>127.932664</td>\n",
       "    </tr>\n",
       "    <tr>\n",
       "      <th>CHEMISTRY</th>\n",
       "      <td>129.072085</td>\n",
       "    </tr>\n",
       "    <tr>\n",
       "      <th>PHYSICS</th>\n",
       "      <td>130.372436</td>\n",
       "    </tr>\n",
       "    <tr>\n",
       "      <th>COMPSCI</th>\n",
       "      <td>132.075605</td>\n",
       "    </tr>\n",
       "    <tr>\n",
       "      <th>MATH</th>\n",
       "      <td>133.322042</td>\n",
       "    </tr>\n",
       "    <tr>\n",
       "      <th>BUSINESS</th>\n",
       "      <td>135.648980</td>\n",
       "    </tr>\n",
       "    <tr>\n",
       "      <th>ENGINEERING</th>\n",
       "      <td>138.441342</td>\n",
       "    </tr>\n",
       "  </tbody>\n",
       "</table>\n",
       "</div>"
      ],
      "text/plain": [
       "                 salary\n",
       "major                  \n",
       "NONE         102.583864\n",
       "LITERATURE   124.423097\n",
       "BIOLOGY      127.932664\n",
       "CHEMISTRY    129.072085\n",
       "PHYSICS      130.372436\n",
       "COMPSCI      132.075605\n",
       "MATH         133.322042\n",
       "BUSINESS     135.648980\n",
       "ENGINEERING  138.441342"
      ]
     },
     "execution_count": 20,
     "metadata": {},
     "output_type": "execute_result"
    }
   ],
   "source": [
    "group_major = data_join.groupby('major').agg({'salary':'mean'})\n",
    "group_major.sort_values('salary')"
   ]
  },
  {
   "cell_type": "raw",
   "metadata": {},
   "source": [
    "Since there is variance in the industry sector, we will retain that feature as well."
   ]
  },
  {
   "cell_type": "code",
   "execution_count": 21,
   "metadata": {
    "collapsed": false
   },
   "outputs": [
    {
     "data": {
      "text/html": [
       "<div>\n",
       "<table border=\"1\" class=\"dataframe\">\n",
       "  <thead>\n",
       "    <tr style=\"text-align: right;\">\n",
       "      <th></th>\n",
       "      <th>salary</th>\n",
       "    </tr>\n",
       "    <tr>\n",
       "      <th>industry</th>\n",
       "      <th></th>\n",
       "    </tr>\n",
       "  </thead>\n",
       "  <tbody>\n",
       "    <tr>\n",
       "      <th>EDUCATION</th>\n",
       "      <td>99.448386</td>\n",
       "    </tr>\n",
       "    <tr>\n",
       "      <th>SERVICE</th>\n",
       "      <td>104.446820</td>\n",
       "    </tr>\n",
       "    <tr>\n",
       "      <th>AUTO</th>\n",
       "      <td>109.435222</td>\n",
       "    </tr>\n",
       "    <tr>\n",
       "      <th>HEALTH</th>\n",
       "      <td>115.735540</td>\n",
       "    </tr>\n",
       "    <tr>\n",
       "      <th>WEB</th>\n",
       "      <td>121.645362</td>\n",
       "    </tr>\n",
       "    <tr>\n",
       "      <th>FINANCE</th>\n",
       "      <td>130.747659</td>\n",
       "    </tr>\n",
       "    <tr>\n",
       "      <th>OIL</th>\n",
       "      <td>130.953863</td>\n",
       "    </tr>\n",
       "  </tbody>\n",
       "</table>\n",
       "</div>"
      ],
      "text/plain": [
       "               salary\n",
       "industry             \n",
       "EDUCATION   99.448386\n",
       "SERVICE    104.446820\n",
       "AUTO       109.435222\n",
       "HEALTH     115.735540\n",
       "WEB        121.645362\n",
       "FINANCE    130.747659\n",
       "OIL        130.953863"
      ]
     },
     "execution_count": 21,
     "metadata": {},
     "output_type": "execute_result"
    }
   ],
   "source": [
    "group_industry = data_join.groupby('industry').agg({'salary':'mean'})\n",
    "group_industry.sort_values('salary')"
   ]
  },
  {
   "cell_type": "raw",
   "metadata": {},
   "source": [
    "Lets create training, validation and test set and stratify on major column since there is dispropionate ratio b/w NONE and other majors."
   ]
  },
  {
   "cell_type": "code",
   "execution_count": 22,
   "metadata": {
    "collapsed": false
   },
   "outputs": [],
   "source": [
    "y = data_join['salary']\n",
    "X = data_join.drop('salary',axis=1)\n",
    "train_X,test_X,train_y,test_y = train_test_split(X,y,test_size = 0.2, stratify=data_join['major'])"
   ]
  },
  {
   "cell_type": "code",
   "execution_count": 23,
   "metadata": {
    "collapsed": false
   },
   "outputs": [],
   "source": [
    "del data_join,X,y"
   ]
  },
  {
   "cell_type": "raw",
   "metadata": {},
   "source": [
    "Plot the histograms of exp in years and dist from Metropolis"
   ]
  },
  {
   "cell_type": "code",
   "execution_count": 24,
   "metadata": {
    "collapsed": false
   },
   "outputs": [
    {
     "data": {
      "text/plain": [
       "<matplotlib.text.Text at 0x14ea5a58>"
      ]
     },
     "execution_count": 24,
     "metadata": {},
     "output_type": "execute_result"
    },
    {
     "data": {
      "image/png": "[encoded data removed]",
      "text/plain": [
       "<matplotlib.figure.Figure at 0x14eddda0>"
      ]
     },
     "metadata": {},
     "output_type": "display_data"
    }
   ],
   "source": [
    "_=plt.hist(train_X.yearsExperience,bins=25)\n",
    "plt.title('years of experience - Uniformily distributed')"
   ]
  },
  {
   "cell_type": "code",
   "execution_count": 25,
   "metadata": {
    "collapsed": false
   },
   "outputs": [
    {
     "data": {
      "text/plain": [
       "<matplotlib.text.Text at 0x2af1de10>"
      ]
     },
     "execution_count": 25,
     "metadata": {},
     "output_type": "execute_result"
    },
    {
     "data": {
      "image/png": "[encoded data removed]",
      "text/plain": [
       "<matplotlib.figure.Figure at 0xc7cb748>"
      ]
     },
     "metadata": {},
     "output_type": "display_data"
    }
   ],
   "source": [
    "_ = plt.hist(train_X.milesFromMetropolis)\n",
    "plt.title('dist from metropolis - Uniformily distributed')"
   ]
  },
  {
   "cell_type": "raw",
   "metadata": {},
   "source": [
    "The only pre processing that needs to be done is rescaling the above two features"
   ]
  },
  {
   "cell_type": "raw",
   "metadata": {},
   "source": [
    "Now lets encode the labels in the categorical feature columns and rescale (from above cell)"
   ]
  },
  {
   "cell_type": "code",
   "execution_count": 26,
   "metadata": {
    "collapsed": true
   },
   "outputs": [],
   "source": [
    "class LabelTransformer(object):\n",
    "\n",
    "    def __init__(self, vars):\n",
    "        self.vars = vars  # e.g. pass in a column name\n",
    "        self.lc = LabelEncoder()\n",
    "\n",
    "    def transform(self, X,y=None):\n",
    "        return self.lc.transform(X[self.vars])  # transform the feature\n",
    "\n",
    "    def fit(self, X,y=None):\n",
    "        self.lc.fit(X[self.vars])  # fit the Label encoder for the specified feature\n",
    "        \n",
    "class MinMaxTransformer(object):\n",
    "\n",
    "    def __init__(self, vars):\n",
    "        self.vars = vars  # e.g. pass in a column name\n",
    "        self.minmax = MinMaxScaler()\n",
    "\n",
    "    def transform(self, X,y=None):\n",
    "        return self.minmax.transform(X[self.vars].reshape(-1,1))  # transform the feature\n",
    "\n",
    "    def fit(self, X,y=None):\n",
    "        self.minmax.fit(X[self.vars].reshape(-1,1))  # fit the MinMaxScaler for the specified feature\n",
    "        "
   ]
  },
  {
   "cell_type": "code",
   "execution_count": 27,
   "metadata": {
    "collapsed": true
   },
   "outputs": [],
   "source": [
    "lt_job = LabelTransformer('jobType')\n",
    "lt_deg = LabelTransformer('degree')\n",
    "lt_maj = LabelTransformer('major')\n",
    "lt_ind = LabelTransformer('industry')\n",
    "\n",
    "lt_year = MinMaxTransformer('yearsExperience')\n",
    "lt_miles = MinMaxTransformer('milesFromMetropolis')"
   ]
  },
  {
   "cell_type": "code",
   "execution_count": 28,
   "metadata": {
    "collapsed": false
   },
   "outputs": [
    {
     "name": "stderr",
     "output_type": "stream",
     "text": [
      "C:\\Users\\Shetty\\Anaconda\\lib\\site-packages\\sklearn\\utils\\validation.py:420: DataConversionWarning: Data with input dtype int64 was converted to float64 by MinMaxScaler.\n",
      "  warnings.warn(msg, DataConversionWarning)\n",
      "C:\\Users\\Shetty\\Anaconda\\lib\\site-packages\\sklearn\\utils\\validation.py:420: DataConversionWarning: Data with input dtype int64 was converted to float64 by MinMaxScaler.\n",
      "  warnings.warn(msg, DataConversionWarning)\n"
     ]
    }
   ],
   "source": [
    "lt_job.fit(train_X)\n",
    "lt_deg.fit(train_X)\n",
    "lt_maj.fit(train_X)\n",
    "lt_ind.fit(train_X)\n",
    "\n",
    "lt_year.fit(train_X)\n",
    "lt_miles.fit(train_X)"
   ]
  },
  {
   "cell_type": "code",
   "execution_count": 29,
   "metadata": {
    "collapsed": false
   },
   "outputs": [
    {
     "data": {
      "text/html": [
       "<div>\n",
       "<table border=\"1\" class=\"dataframe\">\n",
       "  <thead>\n",
       "    <tr style=\"text-align: right;\">\n",
       "      <th></th>\n",
       "      <th>jobType</th>\n",
       "      <th>degree</th>\n",
       "      <th>major</th>\n",
       "      <th>industry</th>\n",
       "      <th>yearsExperience</th>\n",
       "      <th>milesFromMetropolis</th>\n",
       "    </tr>\n",
       "  </thead>\n",
       "  <tbody>\n",
       "    <tr>\n",
       "      <th>494989</th>\n",
       "      <td>VICE_PRESIDENT</td>\n",
       "      <td>HIGH_SCHOOL</td>\n",
       "      <td>NONE</td>\n",
       "      <td>FINANCE</td>\n",
       "      <td>9</td>\n",
       "      <td>91</td>\n",
       "    </tr>\n",
       "    <tr>\n",
       "      <th>941560</th>\n",
       "      <td>MANAGER</td>\n",
       "      <td>MASTERS</td>\n",
       "      <td>BUSINESS</td>\n",
       "      <td>WEB</td>\n",
       "      <td>7</td>\n",
       "      <td>88</td>\n",
       "    </tr>\n",
       "    <tr>\n",
       "      <th>646934</th>\n",
       "      <td>CFO</td>\n",
       "      <td>BACHELORS</td>\n",
       "      <td>MATH</td>\n",
       "      <td>SERVICE</td>\n",
       "      <td>0</td>\n",
       "      <td>70</td>\n",
       "    </tr>\n",
       "    <tr>\n",
       "      <th>705386</th>\n",
       "      <td>JUNIOR</td>\n",
       "      <td>NONE</td>\n",
       "      <td>NONE</td>\n",
       "      <td>FINANCE</td>\n",
       "      <td>19</td>\n",
       "      <td>68</td>\n",
       "    </tr>\n",
       "    <tr>\n",
       "      <th>570686</th>\n",
       "      <td>VICE_PRESIDENT</td>\n",
       "      <td>DOCTORAL</td>\n",
       "      <td>MATH</td>\n",
       "      <td>EDUCATION</td>\n",
       "      <td>16</td>\n",
       "      <td>74</td>\n",
       "    </tr>\n",
       "  </tbody>\n",
       "</table>\n",
       "</div>"
      ],
      "text/plain": [
       "               jobType       degree     major   industry  yearsExperience  \\\n",
       "494989  VICE_PRESIDENT  HIGH_SCHOOL      NONE    FINANCE                9   \n",
       "941560         MANAGER      MASTERS  BUSINESS        WEB                7   \n",
       "646934             CFO    BACHELORS      MATH    SERVICE                0   \n",
       "705386          JUNIOR         NONE      NONE    FINANCE               19   \n",
       "570686  VICE_PRESIDENT     DOCTORAL      MATH  EDUCATION               16   \n",
       "\n",
       "        milesFromMetropolis  \n",
       "494989                   91  \n",
       "941560                   88  \n",
       "646934                   70  \n",
       "705386                   68  \n",
       "570686                   74  "
      ]
     },
     "execution_count": 29,
     "metadata": {},
     "output_type": "execute_result"
    }
   ],
   "source": [
    "train_X.head()"
   ]
  },
  {
   "cell_type": "code",
   "execution_count": 30,
   "metadata": {
    "collapsed": false
   },
   "outputs": [],
   "source": [
    "train_X.jobType = lt_job.transform(train_X)\n",
    "train_X.degree = lt_deg.transform(train_X)\n",
    "train_X.major = lt_maj.transform(train_X)\n",
    "train_X.industry = lt_ind.transform(train_X)\n",
    "\n",
    "train_X.yearsExperience = lt_year.transform(train_X)\n",
    "train_X.milesFromMetropolis = lt_miles.transform(train_X)"
   ]
  },
  {
   "cell_type": "code",
   "execution_count": 31,
   "metadata": {
    "collapsed": false
   },
   "outputs": [
    {
     "data": {
      "text/html": [
       "<div>\n",
       "<table border=\"1\" class=\"dataframe\">\n",
       "  <thead>\n",
       "    <tr style=\"text-align: right;\">\n",
       "      <th></th>\n",
       "      <th>jobType</th>\n",
       "      <th>degree</th>\n",
       "      <th>major</th>\n",
       "      <th>industry</th>\n",
       "      <th>yearsExperience</th>\n",
       "      <th>milesFromMetropolis</th>\n",
       "    </tr>\n",
       "  </thead>\n",
       "  <tbody>\n",
       "    <tr>\n",
       "      <th>494989</th>\n",
       "      <td>7</td>\n",
       "      <td>2</td>\n",
       "      <td>7</td>\n",
       "      <td>2</td>\n",
       "      <td>0.375000</td>\n",
       "      <td>0.919192</td>\n",
       "    </tr>\n",
       "    <tr>\n",
       "      <th>941560</th>\n",
       "      <td>5</td>\n",
       "      <td>3</td>\n",
       "      <td>1</td>\n",
       "      <td>6</td>\n",
       "      <td>0.291667</td>\n",
       "      <td>0.888889</td>\n",
       "    </tr>\n",
       "    <tr>\n",
       "      <th>646934</th>\n",
       "      <td>1</td>\n",
       "      <td>0</td>\n",
       "      <td>6</td>\n",
       "      <td>5</td>\n",
       "      <td>0.000000</td>\n",
       "      <td>0.707071</td>\n",
       "    </tr>\n",
       "    <tr>\n",
       "      <th>705386</th>\n",
       "      <td>4</td>\n",
       "      <td>4</td>\n",
       "      <td>7</td>\n",
       "      <td>2</td>\n",
       "      <td>0.791667</td>\n",
       "      <td>0.686869</td>\n",
       "    </tr>\n",
       "    <tr>\n",
       "      <th>570686</th>\n",
       "      <td>7</td>\n",
       "      <td>1</td>\n",
       "      <td>6</td>\n",
       "      <td>1</td>\n",
       "      <td>0.666667</td>\n",
       "      <td>0.747475</td>\n",
       "    </tr>\n",
       "  </tbody>\n",
       "</table>\n",
       "</div>"
      ],
      "text/plain": [
       "        jobType  degree  major  industry  yearsExperience  milesFromMetropolis\n",
       "494989        7       2      7         2         0.375000             0.919192\n",
       "941560        5       3      1         6         0.291667             0.888889\n",
       "646934        1       0      6         5         0.000000             0.707071\n",
       "705386        4       4      7         2         0.791667             0.686869\n",
       "570686        7       1      6         1         0.666667             0.747475"
      ]
     },
     "execution_count": 31,
     "metadata": {},
     "output_type": "execute_result"
    }
   ],
   "source": [
    "train_X.head()"
   ]
  },
  {
   "cell_type": "code",
   "execution_count": 32,
   "metadata": {
    "collapsed": false
   },
   "outputs": [],
   "source": [
    "for_dummy_vars = [u'jobType', u'degree', u'major', u'industry']"
   ]
  },
  {
   "cell_type": "code",
   "execution_count": 33,
   "metadata": {
    "collapsed": true
   },
   "outputs": [],
   "source": [
    "def getDummy(data,nominal_vars):\n",
    "    transformed_data = pd.get_dummies(data,columns=nominal_vars)\n",
    "    \n",
    "    return transformed_data"
   ]
  },
  {
   "cell_type": "code",
   "execution_count": 34,
   "metadata": {
    "collapsed": true
   },
   "outputs": [],
   "source": [
    "train_X = getDummy(train_X,for_dummy_vars)"
   ]
  },
  {
   "cell_type": "code",
   "execution_count": 35,
   "metadata": {
    "collapsed": false
   },
   "outputs": [
    {
     "data": {
      "text/html": [
       "<div>\n",
       "<table border=\"1\" class=\"dataframe\">\n",
       "  <thead>\n",
       "    <tr style=\"text-align: right;\">\n",
       "      <th></th>\n",
       "      <th>yearsExperience</th>\n",
       "      <th>milesFromMetropolis</th>\n",
       "      <th>jobType_0</th>\n",
       "      <th>jobType_1</th>\n",
       "      <th>jobType_2</th>\n",
       "      <th>jobType_3</th>\n",
       "      <th>jobType_4</th>\n",
       "      <th>jobType_5</th>\n",
       "      <th>jobType_6</th>\n",
       "      <th>jobType_7</th>\n",
       "      <th>...</th>\n",
       "      <th>major_6</th>\n",
       "      <th>major_7</th>\n",
       "      <th>major_8</th>\n",
       "      <th>industry_0</th>\n",
       "      <th>industry_1</th>\n",
       "      <th>industry_2</th>\n",
       "      <th>industry_3</th>\n",
       "      <th>industry_4</th>\n",
       "      <th>industry_5</th>\n",
       "      <th>industry_6</th>\n",
       "    </tr>\n",
       "  </thead>\n",
       "  <tbody>\n",
       "    <tr>\n",
       "      <th>494989</th>\n",
       "      <td>0.375000</td>\n",
       "      <td>0.919192</td>\n",
       "      <td>0</td>\n",
       "      <td>0</td>\n",
       "      <td>0</td>\n",
       "      <td>0</td>\n",
       "      <td>0</td>\n",
       "      <td>0</td>\n",
       "      <td>0</td>\n",
       "      <td>1</td>\n",
       "      <td>...</td>\n",
       "      <td>0</td>\n",
       "      <td>1</td>\n",
       "      <td>0</td>\n",
       "      <td>0</td>\n",
       "      <td>0</td>\n",
       "      <td>1</td>\n",
       "      <td>0</td>\n",
       "      <td>0</td>\n",
       "      <td>0</td>\n",
       "      <td>0</td>\n",
       "    </tr>\n",
       "    <tr>\n",
       "      <th>941560</th>\n",
       "      <td>0.291667</td>\n",
       "      <td>0.888889</td>\n",
       "      <td>0</td>\n",
       "      <td>0</td>\n",
       "      <td>0</td>\n",
       "      <td>0</td>\n",
       "      <td>0</td>\n",
       "      <td>1</td>\n",
       "      <td>0</td>\n",
       "      <td>0</td>\n",
       "      <td>...</td>\n",
       "      <td>0</td>\n",
       "      <td>0</td>\n",
       "      <td>0</td>\n",
       "      <td>0</td>\n",
       "      <td>0</td>\n",
       "      <td>0</td>\n",
       "      <td>0</td>\n",
       "      <td>0</td>\n",
       "      <td>0</td>\n",
       "      <td>1</td>\n",
       "    </tr>\n",
       "    <tr>\n",
       "      <th>646934</th>\n",
       "      <td>0.000000</td>\n",
       "      <td>0.707071</td>\n",
       "      <td>0</td>\n",
       "      <td>1</td>\n",
       "      <td>0</td>\n",
       "      <td>0</td>\n",
       "      <td>0</td>\n",
       "      <td>0</td>\n",
       "      <td>0</td>\n",
       "      <td>0</td>\n",
       "      <td>...</td>\n",
       "      <td>1</td>\n",
       "      <td>0</td>\n",
       "      <td>0</td>\n",
       "      <td>0</td>\n",
       "      <td>0</td>\n",
       "      <td>0</td>\n",
       "      <td>0</td>\n",
       "      <td>0</td>\n",
       "      <td>1</td>\n",
       "      <td>0</td>\n",
       "    </tr>\n",
       "    <tr>\n",
       "      <th>705386</th>\n",
       "      <td>0.791667</td>\n",
       "      <td>0.686869</td>\n",
       "      <td>0</td>\n",
       "      <td>0</td>\n",
       "      <td>0</td>\n",
       "      <td>0</td>\n",
       "      <td>1</td>\n",
       "      <td>0</td>\n",
       "      <td>0</td>\n",
       "      <td>0</td>\n",
       "      <td>...</td>\n",
       "      <td>0</td>\n",
       "      <td>1</td>\n",
       "      <td>0</td>\n",
       "      <td>0</td>\n",
       "      <td>0</td>\n",
       "      <td>1</td>\n",
       "      <td>0</td>\n",
       "      <td>0</td>\n",
       "      <td>0</td>\n",
       "      <td>0</td>\n",
       "    </tr>\n",
       "    <tr>\n",
       "      <th>570686</th>\n",
       "      <td>0.666667</td>\n",
       "      <td>0.747475</td>\n",
       "      <td>0</td>\n",
       "      <td>0</td>\n",
       "      <td>0</td>\n",
       "      <td>0</td>\n",
       "      <td>0</td>\n",
       "      <td>0</td>\n",
       "      <td>0</td>\n",
       "      <td>1</td>\n",
       "      <td>...</td>\n",
       "      <td>1</td>\n",
       "      <td>0</td>\n",
       "      <td>0</td>\n",
       "      <td>0</td>\n",
       "      <td>1</td>\n",
       "      <td>0</td>\n",
       "      <td>0</td>\n",
       "      <td>0</td>\n",
       "      <td>0</td>\n",
       "      <td>0</td>\n",
       "    </tr>\n",
       "  </tbody>\n",
       "</table>\n",
       "<p>5 rows × 31 columns</p>\n",
       "</div>"
      ],
      "text/plain": [
       "        yearsExperience  milesFromMetropolis  jobType_0  jobType_1  jobType_2  \\\n",
       "494989         0.375000             0.919192          0          0          0   \n",
       "941560         0.291667             0.888889          0          0          0   \n",
       "646934         0.000000             0.707071          0          1          0   \n",
       "705386         0.791667             0.686869          0          0          0   \n",
       "570686         0.666667             0.747475          0          0          0   \n",
       "\n",
       "        jobType_3  jobType_4  jobType_5  jobType_6  jobType_7     ...      \\\n",
       "494989          0          0          0          0          1     ...       \n",
       "941560          0          0          1          0          0     ...       \n",
       "646934          0          0          0          0          0     ...       \n",
       "705386          0          1          0          0          0     ...       \n",
       "570686          0          0          0          0          1     ...       \n",
       "\n",
       "        major_6  major_7  major_8  industry_0  industry_1  industry_2  \\\n",
       "494989        0        1        0           0           0           1   \n",
       "941560        0        0        0           0           0           0   \n",
       "646934        1        0        0           0           0           0   \n",
       "705386        0        1        0           0           0           1   \n",
       "570686        1        0        0           0           1           0   \n",
       "\n",
       "        industry_3  industry_4  industry_5  industry_6  \n",
       "494989           0           0           0           0  \n",
       "941560           0           0           0           1  \n",
       "646934           0           0           1           0  \n",
       "705386           0           0           0           0  \n",
       "570686           0           0           0           0  \n",
       "\n",
       "[5 rows x 31 columns]"
      ]
     },
     "execution_count": 35,
     "metadata": {},
     "output_type": "execute_result"
    }
   ],
   "source": [
    "train_X.head()"
   ]
  },
  {
   "cell_type": "raw",
   "metadata": {},
   "source": [
    "Lets try out different Regression algorithms and compare them with the metric: mean absolute error. Ignore the negative sign. Also we will start with default params for all the models (this is not ideal but it is a start)"
   ]
  },
  {
   "cell_type": "code",
   "execution_count": 36,
   "metadata": {
    "collapsed": true
   },
   "outputs": [],
   "source": [
    "clf_names = ['Lasso','ElasticNet','Ridge','SGDRegressor','BaggingRegressor','GradientBoostingRegressor']\n",
    "clfs = [Lasso(),ElasticNet(),Ridge(),SGDRegressor(),BaggingRegressor(),GradientBoostingRegressor()]"
   ]
  },
  {
   "cell_type": "code",
   "execution_count": 37,
   "metadata": {
    "collapsed": false
   },
   "outputs": [],
   "source": [
    "results = dict()\n",
    "for name,clf in zip(clf_names,clfs):\n",
    "    results[name] = cross_val_score(clf,train_X,train_y,cv=3,n_jobs=1,scoring='mean_absolute_error').mean()"
   ]
  },
  {
   "cell_type": "code",
   "execution_count": 38,
   "metadata": {
    "collapsed": false
   },
   "outputs": [
    {
     "data": {
      "text/plain": [
       "{'BaggingRegressor': -17.060876390512345,\n",
       " 'ElasticNet': -26.410893573068265,\n",
       " 'GradientBoostingRegressor': -15.651375084200305,\n",
       " 'Lasso': -18.278900620278396,\n",
       " 'Ridge': -15.838456250447107,\n",
       " 'SGDRegressor': -15.842021826758767}"
      ]
     },
     "execution_count": 38,
     "metadata": {},
     "output_type": "execute_result"
    }
   ],
   "source": [
    "results"
   ]
  },
  {
   "cell_type": "raw",
   "metadata": {},
   "source": [
    "From the above bare bones test, you can see that Gradient boosted trees give the best score but SGDRegressor is not far behind. In fact because the SGDRegressor has the added advantage of being an online learner - we will select this as our final model."
   ]
  },
  {
   "cell_type": "raw",
   "metadata": {},
   "source": [
    "Lets now focus on hyper parameter tuning for SGD Regressor"
   ]
  },
  {
   "cell_type": "code",
   "execution_count": 39,
   "metadata": {
    "collapsed": false
   },
   "outputs": [
    {
     "data": {
      "text/plain": [
       "GridSearchCV(cv=None, error_score='raise',\n",
       "       estimator=SGDRegressor(alpha=0.0001, average=False, epsilon=0.1, eta0=0.01,\n",
       "       fit_intercept=True, l1_ratio=0.15, learning_rate='invscaling',\n",
       "       loss='squared_loss', n_iter=5, penalty='l2', power_t=0.25,\n",
       "       random_state=None, shuffle=True, verbose=0, warm_start=False),\n",
       "       fit_params={}, iid=True, n_jobs=1,\n",
       "       param_grid={'alpha': array([  1.00000e-04,   3.59381e-04,   1.29155e-03,   4.64159e-03,\n",
       "         1.66810e-02,   5.99484e-02,   2.15443e-01,   7.74264e-01,\n",
       "         2.78256e+00,   1.00000e+01]), 'learning_rate': ['optimal', 'invscaling']},\n",
       "       pre_dispatch='2*n_jobs', refit=True, scoring=None, verbose=0)"
      ]
     },
     "execution_count": 39,
     "metadata": {},
     "output_type": "execute_result"
    }
   ],
   "source": [
    "params = dict(alpha = np.logspace(-4, 1, 10), learning_rate = ['optimal','invscaling'])\n",
    "sgd = SGDRegressor()\n",
    "clf = GridSearchCV(estimator=sgd,param_grid=params,n_jobs=1)\n",
    "clf.fit(train_X,train_y)"
   ]
  },
  {
   "cell_type": "code",
   "execution_count": 40,
   "metadata": {
    "collapsed": false
   },
   "outputs": [
    {
     "data": {
      "text/plain": [
       "{'alpha': 0.0001, 'learning_rate': 'invscaling'}"
      ]
     },
     "execution_count": 40,
     "metadata": {},
     "output_type": "execute_result"
    }
   ],
   "source": [
    "clf.best_params_"
   ]
  },
  {
   "cell_type": "raw",
   "metadata": {},
   "source": [
    "The above best params are the same as the default settings for this online learner."
   ]
  },
  {
   "cell_type": "code",
   "execution_count": 41,
   "metadata": {
    "collapsed": false
   },
   "outputs": [
    {
     "data": {
      "text/plain": [
       "SGDRegressor(alpha=0.0001, average=False, epsilon=0.1, eta0=0.01,\n",
       "       fit_intercept=True, l1_ratio=0.15, learning_rate='invscaling',\n",
       "       loss='squared_loss', n_iter=5, penalty='l2', power_t=0.25,\n",
       "       random_state=None, shuffle=True, verbose=0, warm_start=False)"
      ]
     },
     "execution_count": 41,
     "metadata": {},
     "output_type": "execute_result"
    }
   ],
   "source": [
    "clf.best_estimator_"
   ]
  },
  {
   "cell_type": "raw",
   "metadata": {},
   "source": [
    "Lets run this learner through the test set and see if there are any surprises again the mean of cross val score of ~15.84"
   ]
  },
  {
   "cell_type": "raw",
   "metadata": {},
   "source": [
    "But let us prep test data set in the train data set format"
   ]
  },
  {
   "cell_type": "code",
   "execution_count": 42,
   "metadata": {
    "collapsed": false
   },
   "outputs": [],
   "source": [
    "test_X.jobType = lt_job.transform(test_X)\n",
    "test_X.degree = lt_deg.transform(test_X)\n",
    "test_X.major = lt_maj.transform(test_X)\n",
    "test_X.industry = lt_ind.transform(test_X)\n",
    "\n",
    "test_X.yearsExperience = lt_year.transform(test_X)\n",
    "test_X.milesFromMetropolis = lt_miles.transform(test_X)"
   ]
  },
  {
   "cell_type": "code",
   "execution_count": 43,
   "metadata": {
    "collapsed": true
   },
   "outputs": [],
   "source": [
    "test_X = getDummy(test_X,for_dummy_vars)"
   ]
  },
  {
   "cell_type": "code",
   "execution_count": 44,
   "metadata": {
    "collapsed": false
   },
   "outputs": [
    {
     "data": {
      "text/html": [
       "<div>\n",
       "<table border=\"1\" class=\"dataframe\">\n",
       "  <thead>\n",
       "    <tr style=\"text-align: right;\">\n",
       "      <th></th>\n",
       "      <th>yearsExperience</th>\n",
       "      <th>milesFromMetropolis</th>\n",
       "      <th>jobType_0</th>\n",
       "      <th>jobType_1</th>\n",
       "      <th>jobType_2</th>\n",
       "      <th>jobType_3</th>\n",
       "      <th>jobType_4</th>\n",
       "      <th>jobType_5</th>\n",
       "      <th>jobType_6</th>\n",
       "      <th>jobType_7</th>\n",
       "      <th>...</th>\n",
       "      <th>major_6</th>\n",
       "      <th>major_7</th>\n",
       "      <th>major_8</th>\n",
       "      <th>industry_0</th>\n",
       "      <th>industry_1</th>\n",
       "      <th>industry_2</th>\n",
       "      <th>industry_3</th>\n",
       "      <th>industry_4</th>\n",
       "      <th>industry_5</th>\n",
       "      <th>industry_6</th>\n",
       "    </tr>\n",
       "  </thead>\n",
       "  <tbody>\n",
       "    <tr>\n",
       "      <th>92232</th>\n",
       "      <td>0.583333</td>\n",
       "      <td>0.565657</td>\n",
       "      <td>0</td>\n",
       "      <td>1</td>\n",
       "      <td>0</td>\n",
       "      <td>0</td>\n",
       "      <td>0</td>\n",
       "      <td>0</td>\n",
       "      <td>0</td>\n",
       "      <td>0</td>\n",
       "      <td>...</td>\n",
       "      <td>1</td>\n",
       "      <td>0</td>\n",
       "      <td>0</td>\n",
       "      <td>0</td>\n",
       "      <td>0</td>\n",
       "      <td>0</td>\n",
       "      <td>0</td>\n",
       "      <td>0</td>\n",
       "      <td>1</td>\n",
       "      <td>0</td>\n",
       "    </tr>\n",
       "    <tr>\n",
       "      <th>123580</th>\n",
       "      <td>0.375000</td>\n",
       "      <td>0.626263</td>\n",
       "      <td>0</td>\n",
       "      <td>0</td>\n",
       "      <td>0</td>\n",
       "      <td>0</td>\n",
       "      <td>1</td>\n",
       "      <td>0</td>\n",
       "      <td>0</td>\n",
       "      <td>0</td>\n",
       "      <td>...</td>\n",
       "      <td>0</td>\n",
       "      <td>0</td>\n",
       "      <td>0</td>\n",
       "      <td>0</td>\n",
       "      <td>0</td>\n",
       "      <td>0</td>\n",
       "      <td>0</td>\n",
       "      <td>0</td>\n",
       "      <td>1</td>\n",
       "      <td>0</td>\n",
       "    </tr>\n",
       "    <tr>\n",
       "      <th>699180</th>\n",
       "      <td>0.833333</td>\n",
       "      <td>0.757576</td>\n",
       "      <td>0</td>\n",
       "      <td>0</td>\n",
       "      <td>0</td>\n",
       "      <td>0</td>\n",
       "      <td>1</td>\n",
       "      <td>0</td>\n",
       "      <td>0</td>\n",
       "      <td>0</td>\n",
       "      <td>...</td>\n",
       "      <td>0</td>\n",
       "      <td>1</td>\n",
       "      <td>0</td>\n",
       "      <td>0</td>\n",
       "      <td>0</td>\n",
       "      <td>0</td>\n",
       "      <td>0</td>\n",
       "      <td>0</td>\n",
       "      <td>1</td>\n",
       "      <td>0</td>\n",
       "    </tr>\n",
       "    <tr>\n",
       "      <th>910477</th>\n",
       "      <td>0.666667</td>\n",
       "      <td>0.404040</td>\n",
       "      <td>1</td>\n",
       "      <td>0</td>\n",
       "      <td>0</td>\n",
       "      <td>0</td>\n",
       "      <td>0</td>\n",
       "      <td>0</td>\n",
       "      <td>0</td>\n",
       "      <td>0</td>\n",
       "      <td>...</td>\n",
       "      <td>0</td>\n",
       "      <td>0</td>\n",
       "      <td>0</td>\n",
       "      <td>0</td>\n",
       "      <td>0</td>\n",
       "      <td>0</td>\n",
       "      <td>0</td>\n",
       "      <td>1</td>\n",
       "      <td>0</td>\n",
       "      <td>0</td>\n",
       "    </tr>\n",
       "    <tr>\n",
       "      <th>335174</th>\n",
       "      <td>0.208333</td>\n",
       "      <td>0.616162</td>\n",
       "      <td>0</td>\n",
       "      <td>0</td>\n",
       "      <td>0</td>\n",
       "      <td>0</td>\n",
       "      <td>0</td>\n",
       "      <td>0</td>\n",
       "      <td>1</td>\n",
       "      <td>0</td>\n",
       "      <td>...</td>\n",
       "      <td>0</td>\n",
       "      <td>1</td>\n",
       "      <td>0</td>\n",
       "      <td>0</td>\n",
       "      <td>1</td>\n",
       "      <td>0</td>\n",
       "      <td>0</td>\n",
       "      <td>0</td>\n",
       "      <td>0</td>\n",
       "      <td>0</td>\n",
       "    </tr>\n",
       "  </tbody>\n",
       "</table>\n",
       "<p>5 rows × 31 columns</p>\n",
       "</div>"
      ],
      "text/plain": [
       "        yearsExperience  milesFromMetropolis  jobType_0  jobType_1  jobType_2  \\\n",
       "92232          0.583333             0.565657          0          1          0   \n",
       "123580         0.375000             0.626263          0          0          0   \n",
       "699180         0.833333             0.757576          0          0          0   \n",
       "910477         0.666667             0.404040          1          0          0   \n",
       "335174         0.208333             0.616162          0          0          0   \n",
       "\n",
       "        jobType_3  jobType_4  jobType_5  jobType_6  jobType_7     ...      \\\n",
       "92232           0          0          0          0          0     ...       \n",
       "123580          0          1          0          0          0     ...       \n",
       "699180          0          1          0          0          0     ...       \n",
       "910477          0          0          0          0          0     ...       \n",
       "335174          0          0          0          1          0     ...       \n",
       "\n",
       "        major_6  major_7  major_8  industry_0  industry_1  industry_2  \\\n",
       "92232         1        0        0           0           0           0   \n",
       "123580        0        0        0           0           0           0   \n",
       "699180        0        1        0           0           0           0   \n",
       "910477        0        0        0           0           0           0   \n",
       "335174        0        1        0           0           1           0   \n",
       "\n",
       "        industry_3  industry_4  industry_5  industry_6  \n",
       "92232            0           0           1           0  \n",
       "123580           0           0           1           0  \n",
       "699180           0           0           1           0  \n",
       "910477           0           1           0           0  \n",
       "335174           0           0           0           0  \n",
       "\n",
       "[5 rows x 31 columns]"
      ]
     },
     "execution_count": 44,
     "metadata": {},
     "output_type": "execute_result"
    }
   ],
   "source": [
    "test_X.head()"
   ]
  },
  {
   "cell_type": "code",
   "execution_count": 45,
   "metadata": {
    "collapsed": false
   },
   "outputs": [
    {
     "data": {
      "text/plain": [
       "15.870980385072304"
      ]
     },
     "execution_count": 45,
     "metadata": {},
     "output_type": "execute_result"
    }
   ],
   "source": [
    "salary_pred = clf.best_estimator_.predict(test_X)\n",
    "mean_absolute_error(test_y,salary_pred)"
   ]
  },
  {
   "cell_type": "raw",
   "metadata": {},
   "source": [
    "The mean absolute error is very close to what was achieved during the training cross validation stage."
   ]
  },
  {
   "cell_type": "raw",
   "metadata": {},
   "source": [
    "Now let us train the entire data set - using to our advantage the online learning feature of SGDRegressor"
   ]
  },
  {
   "cell_type": "code",
   "execution_count": 46,
   "metadata": {
    "collapsed": false
   },
   "outputs": [],
   "source": [
    "full_train_X = pd.concat((train_X,test_X))\n",
    "full_train_y = pd.concat((train_y,test_y))"
   ]
  },
  {
   "cell_type": "code",
   "execution_count": 47,
   "metadata": {
    "collapsed": true
   },
   "outputs": [],
   "source": [
    "numtrainingpoints = full_train_X.shape[0]"
   ]
  },
  {
   "cell_type": "code",
   "execution_count": 48,
   "metadata": {
    "collapsed": true
   },
   "outputs": [],
   "source": [
    "def getrows(chunkrows):\n",
    "    #print chunkrows\n",
    "    return full_train_X.iloc[chunkrows],full_train_y.iloc[chunkrows]"
   ]
  },
  {
   "cell_type": "code",
   "execution_count": 49,
   "metadata": {
    "collapsed": false
   },
   "outputs": [],
   "source": [
    "def iter_minibatches(chunksize):\n",
    "    # Provide chunks one by one\n",
    "    chunkstartmarker = 0\n",
    "    while chunkstartmarker < numtrainingpoints:\n",
    "        #print chunkstartmarker,\n",
    "        if (chunkstartmarker+chunksize) <= numtrainingpoints:\n",
    "            chunkrows = xrange(chunkstartmarker,chunkstartmarker+chunksize)\n",
    "        else:\n",
    "            chunkrows = xrange(chunkstartmarker,numtrainingpoints)\n",
    "        X_chunk, y_chunk = getrows(chunkrows)\n",
    "        yield X_chunk, y_chunk\n",
    "        chunkstartmarker += chunksize"
   ]
  },
  {
   "cell_type": "code",
   "execution_count": 50,
   "metadata": {
    "collapsed": false
   },
   "outputs": [
    {
     "name": "stdout",
     "output_type": "stream",
     "text": [
      "\n"
     ]
    }
   ],
   "source": [
    "# Resorting to default specs - hoping it will speed up the process\n",
    "batcherator = iter_minibatches(chunksize=1000)\n",
    "clf_sgd = clf.best_estimator_\n",
    "\n",
    "# Train model\n",
    "for X_chunk, y_chunk in tqdm_notebook(batcherator,desc='Samples trained(in 1000s)',leave=True,total=numtrainingpoints/1000):\n",
    "    clf_sgd.partial_fit(X_chunk, y_chunk)"
   ]
  },
  {
   "cell_type": "code",
   "execution_count": 51,
   "metadata": {
    "collapsed": true
   },
   "outputs": [],
   "source": [
    "test_data = pd.read_csv('test_features_2013-03-07.csv')"
   ]
  },
  {
   "cell_type": "raw",
   "metadata": {},
   "source": [
    "Perform the following steps in test data (as performed for the training data):\n",
    "1. Remove jobId, companyId col\n",
    "2. Apply LabelEncoder to jobType, degree, major, industry (using transform from training)\n",
    "3. Rescale yearsExperience and milesFromMetropolis\n",
    "4. Convert categorical features to dummy variables"
   ]
  },
  {
   "cell_type": "code",
   "execution_count": 52,
   "metadata": {
    "collapsed": false
   },
   "outputs": [],
   "source": [
    "test_data = test_data.drop(['jobId','companyId'],axis=1)"
   ]
  },
  {
   "cell_type": "code",
   "execution_count": 53,
   "metadata": {
    "collapsed": false
   },
   "outputs": [],
   "source": [
    "test_data.jobType = lt_job.transform(test_data)\n",
    "test_data.degree = lt_deg.transform(test_data)\n",
    "test_data.major = lt_maj.transform(test_data)\n",
    "test_data.industry = lt_ind.transform(test_data)\n",
    "\n",
    "test_data.yearsExperience = lt_year.transform(test_data)\n",
    "test_data.milesFromMetropolis = lt_miles.transform(test_data)"
   ]
  },
  {
   "cell_type": "code",
   "execution_count": 54,
   "metadata": {
    "collapsed": false
   },
   "outputs": [],
   "source": [
    "test_data = getDummy(test_data,for_dummy_vars)"
   ]
  },
  {
   "cell_type": "code",
   "execution_count": 55,
   "metadata": {
    "collapsed": true
   },
   "outputs": [],
   "source": [
    "test_salary_predict = clf_sgd.predict(test_data)"
   ]
  },
  {
   "cell_type": "code",
   "execution_count": 56,
   "metadata": {
    "collapsed": false
   },
   "outputs": [
    {
     "data": {
      "text/plain": [
       "<matplotlib.text.Text at 0x29bf8978>"
      ]
     },
     "execution_count": 56,
     "metadata": {},
     "output_type": "execute_result"
    },
    {
     "data": {
      "image/png": "[encoded data removed]",
      "text/plain": [
       "<matplotlib.figure.Figure at 0x2b4af588>"
      ]
     },
     "metadata": {},
     "output_type": "display_data"
    }
   ],
   "source": [
    "fig = plt.figure(figsize=(15, 5)) \n",
    "plt.subplot(1,2,1)\n",
    "_=plt.hist(test_salary_predict)\n",
    "plt.title('Predicted salary hist on test data')\n",
    "plt.subplot(1,2,2)\n",
    "_=plt.hist(full_train_y)\n",
    "plt.title('Actual salary hist on training data')"
   ]
  },
  {
   "cell_type": "code",
   "execution_count": 57,
   "metadata": {
    "collapsed": false
   },
   "outputs": [
    {
     "name": "stdout",
     "output_type": "stream",
     "text": [
      "Summary salary Stats for test data\n",
      "                    0\n",
      "count  1000000.000000\n",
      "mean       116.636695\n",
      "std         33.338497\n",
      "min          9.268247\n",
      "25%         93.730468\n",
      "50%        117.985362\n",
      "75%        140.502236\n",
      "max        224.993652\n",
      "\n",
      "Summary Stats for actual salary from train data\n",
      "count    999995.000000\n",
      "mean        116.062398\n",
      "std          38.717163\n",
      "min          17.000000\n",
      "25%          88.000000\n",
      "50%         114.000000\n",
      "75%         141.000000\n",
      "max         301.000000\n",
      "Name: salary, dtype: float64\n"
     ]
    }
   ],
   "source": [
    "print \"Summary salary Stats for test data\"\n",
    "print pd.DataFrame(test_salary_predict).describe()\n",
    "\n",
    "print \"\\nSummary Stats for actual salary from train data\"\n",
    "print full_train_y.describe()"
   ]
  },
  {
   "cell_type": "raw",
   "metadata": {},
   "source": [
    "Based on the above, it does out increase our confidence that the salary for test data is predicting within known bounds. "
   ]
  },
  {
   "cell_type": "raw",
   "metadata": {},
   "source": [
    "Lets save the predicted salary for test data into csv"
   ]
  },
  {
   "cell_type": "code",
   "execution_count": 58,
   "metadata": {
    "collapsed": false
   },
   "outputs": [],
   "source": [
    "job_id = pd.read_csv('test_features_2013-03-07.csv',usecols=[0])"
   ]
  },
  {
   "cell_type": "code",
   "execution_count": 59,
   "metadata": {
    "collapsed": false
   },
   "outputs": [],
   "source": [
    "test_salary_predict_ = pd.DataFrame({'jobId': job_id.values.flatten(), 'salary':test_salary_predict})\n",
    "test_salary_predict_.to_csv('test_salaries.csv',index=False)"
   ]
  },
  {
   "cell_type": "code",
   "execution_count": 64,
   "metadata": {
    "collapsed": false
   },
   "outputs": [
    {
     "name": "stdout",
     "output_type": "stream",
     "text": [
      "[ 48.24136898 -39.40965115  36.1970325   26.11663187  26.44656219\n",
      " -26.12354465 -13.60251351   6.21380982  -3.82249639  16.19693071\n",
      "  13.54176752  23.64224499   7.75609867  18.50992638   4.17237501\n",
      "   5.03830525  12.63892826   6.46061301   9.11041416  15.68159666\n",
      "   1.21785506   9.96365385   0.20891227   7.30213403   3.25810913\n",
      "  -7.09114616  24.32912367   9.60588467  24.51626188  -1.98352526\n",
      "  14.98770462]\n"
     ]
    }
   ],
   "source": [
    "print clf_sgd.coef_"
   ]
  },
  {
   "cell_type": "code",
   "execution_count": 66,
   "metadata": {
    "collapsed": false
   },
   "outputs": [
    {
     "name": "stdout",
     "output_type": "stream",
     "text": [
      "['yearsExperience' 'milesFromMetropolis' u'jobType_0' u'jobType_1'\n",
      " u'jobType_2' u'jobType_3' u'jobType_4' u'jobType_5' u'jobType_6'\n",
      " u'jobType_7' u'degree_0' u'degree_1' u'degree_2' u'degree_3' u'degree_4'\n",
      " u'major_0' u'major_1' u'major_2' u'major_3' u'major_4' u'major_5'\n",
      " u'major_6' u'major_7' u'major_8' u'industry_0' u'industry_1' u'industry_2'\n",
      " u'industry_3' u'industry_4' u'industry_5' u'industry_6']\n"
     ]
    }
   ],
   "source": [
    "print full_train_X.columns.values"
   ]
  },
  {
   "cell_type": "code",
   "execution_count": null,
   "metadata": {
    "collapsed": true
   },
   "outputs": [],
   "source": []
  }
 ],
 "metadata": {
  "kernelspec": {
   "display_name": "Python 2",
   "language": "python",
   "name": "python2"
  },
  "language_info": {
   "codemirror_mode": {
    "name": "ipython",
    "version": 2
   },
   "file_extension": ".py",
   "mimetype": "text/x-python",
   "name": "python",
   "nbconvert_exporter": "python",
   "pygments_lexer": "ipython2",
   "version": "2.7.11"
  }
 },
 "nbformat": 4,
 "nbformat_minor": 0
}
