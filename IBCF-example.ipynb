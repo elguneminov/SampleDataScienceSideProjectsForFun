{
 "cells": [
  {
   "cell_type": "raw",
   "metadata": {},
   "source": [
    "Building a item based collaboration model when there are nearly as many items as users."
   ]
  },
  {
   "cell_type": "code",
   "execution_count": 1,
   "metadata": {
    "collapsed": false
   },
   "outputs": [],
   "source": [
    "import graphlab as gl"
   ]
  },
  {
   "cell_type": "code",
   "execution_count": 2,
   "metadata": {
    "collapsed": false
   },
   "outputs": [
    {
     "name": "stderr",
     "output_type": "stream",
     "text": [
      "[INFO] GraphLab Create v1.8.2 started. Logging: C:\\Users\\Shetty\\AppData\\Local\\Temp\\graphlab_server_1455847120.log.0\n"
     ]
    },
    {
     "data": {
      "text/html": [
       "<pre>Finished parsing file D:\\Documents\\Jobs - Data Science Tests\\Starbucks\\train.csv</pre>"
      ],
      "text/plain": [
       "Finished parsing file D:\\Documents\\Jobs - Data Science Tests\\Starbucks\\train.csv"
      ]
     },
     "metadata": {},
     "output_type": "display_data"
    },
    {
     "data": {
      "text/html": [
       "<pre>Parsing completed. Parsed 1340933 lines in 1.57215 secs.</pre>"
      ],
      "text/plain": [
       "Parsing completed. Parsed 1340933 lines in 1.57215 secs."
      ]
     },
     "metadata": {},
     "output_type": "display_data"
    },
    {
     "name": "stdout",
     "output_type": "stream",
     "text": [
      "------------------------------------------------------\n",
      "Inferred types from first line of file as \n",
      "column_type_hints=[long,long,long]\n",
      "If parsing fails due to incorrect types, you can correct\n",
      "the inferred type list above and pass it to read_csv in\n",
      "the column_type_hints argument\n",
      "------------------------------------------------------\n"
     ]
    }
   ],
   "source": [
    "rawData = gl.SFrame.read_csv('train.csv',sep='|')"
   ]
  },
  {
   "cell_type": "code",
   "execution_count": 3,
   "metadata": {
    "collapsed": false
   },
   "outputs": [
    {
     "data": {
      "text/html": [
       "<div style=\"max-height:1000px;max-width:1500px;overflow:auto;\"><table frame=\"box\" rules=\"cols\">\n",
       "    <tr>\n",
       "        <th style=\"padding-left: 1em; padding-right: 1em; text-align: center\">user_id</th>\n",
       "        <th style=\"padding-left: 1em; padding-right: 1em; text-align: center\">product_id</th>\n",
       "        <th style=\"padding-left: 1em; padding-right: 1em; text-align: center\">purchase_count</th>\n",
       "    </tr>\n",
       "    <tr>\n",
       "        <td style=\"padding-left: 1em; padding-right: 1em; text-align: center; vertical-align: top\">98635</td>\n",
       "        <td style=\"padding-left: 1em; padding-right: 1em; text-align: center; vertical-align: top\">160841</td>\n",
       "        <td style=\"padding-left: 1em; padding-right: 1em; text-align: center; vertical-align: top\">1</td>\n",
       "    </tr>\n",
       "    <tr>\n",
       "        <td style=\"padding-left: 1em; padding-right: 1em; text-align: center; vertical-align: top\">98635</td>\n",
       "        <td style=\"padding-left: 1em; padding-right: 1em; text-align: center; vertical-align: top\">53757</td>\n",
       "        <td style=\"padding-left: 1em; padding-right: 1em; text-align: center; vertical-align: top\">2</td>\n",
       "    </tr>\n",
       "    <tr>\n",
       "        <td style=\"padding-left: 1em; padding-right: 1em; text-align: center; vertical-align: top\">98635</td>\n",
       "        <td style=\"padding-left: 1em; padding-right: 1em; text-align: center; vertical-align: top\">77040</td>\n",
       "        <td style=\"padding-left: 1em; padding-right: 1em; text-align: center; vertical-align: top\">1</td>\n",
       "    </tr>\n",
       "    <tr>\n",
       "        <td style=\"padding-left: 1em; padding-right: 1em; text-align: center; vertical-align: top\">98635</td>\n",
       "        <td style=\"padding-left: 1em; padding-right: 1em; text-align: center; vertical-align: top\">4073</td>\n",
       "        <td style=\"padding-left: 1em; padding-right: 1em; text-align: center; vertical-align: top\">1</td>\n",
       "    </tr>\n",
       "    <tr>\n",
       "        <td style=\"padding-left: 1em; padding-right: 1em; text-align: center; vertical-align: top\">98635</td>\n",
       "        <td style=\"padding-left: 1em; padding-right: 1em; text-align: center; vertical-align: top\">6597</td>\n",
       "        <td style=\"padding-left: 1em; padding-right: 1em; text-align: center; vertical-align: top\">1</td>\n",
       "    </tr>\n",
       "    <tr>\n",
       "        <td style=\"padding-left: 1em; padding-right: 1em; text-align: center; vertical-align: top\">98635</td>\n",
       "        <td style=\"padding-left: 1em; padding-right: 1em; text-align: center; vertical-align: top\">29220</td>\n",
       "        <td style=\"padding-left: 1em; padding-right: 1em; text-align: center; vertical-align: top\">1</td>\n",
       "    </tr>\n",
       "    <tr>\n",
       "        <td style=\"padding-left: 1em; padding-right: 1em; text-align: center; vertical-align: top\">98635</td>\n",
       "        <td style=\"padding-left: 1em; padding-right: 1em; text-align: center; vertical-align: top\">23804</td>\n",
       "        <td style=\"padding-left: 1em; padding-right: 1em; text-align: center; vertical-align: top\">1</td>\n",
       "    </tr>\n",
       "    <tr>\n",
       "        <td style=\"padding-left: 1em; padding-right: 1em; text-align: center; vertical-align: top\">98635</td>\n",
       "        <td style=\"padding-left: 1em; padding-right: 1em; text-align: center; vertical-align: top\">67146</td>\n",
       "        <td style=\"padding-left: 1em; padding-right: 1em; text-align: center; vertical-align: top\">1</td>\n",
       "    </tr>\n",
       "    <tr>\n",
       "        <td style=\"padding-left: 1em; padding-right: 1em; text-align: center; vertical-align: top\">98635</td>\n",
       "        <td style=\"padding-left: 1em; padding-right: 1em; text-align: center; vertical-align: top\">82698</td>\n",
       "        <td style=\"padding-left: 1em; padding-right: 1em; text-align: center; vertical-align: top\">1</td>\n",
       "    </tr>\n",
       "    <tr>\n",
       "        <td style=\"padding-left: 1em; padding-right: 1em; text-align: center; vertical-align: top\">98635</td>\n",
       "        <td style=\"padding-left: 1em; padding-right: 1em; text-align: center; vertical-align: top\">122831</td>\n",
       "        <td style=\"padding-left: 1em; padding-right: 1em; text-align: center; vertical-align: top\">1</td>\n",
       "    </tr>\n",
       "</table>\n",
       "[10 rows x 3 columns]<br/>\n",
       "</div>"
      ],
      "text/plain": [
       "Columns:\n",
       "\tuser_id\tint\n",
       "\tproduct_id\tint\n",
       "\tpurchase_count\tint\n",
       "\n",
       "Rows: 10\n",
       "\n",
       "Data:\n",
       "+---------+------------+----------------+\n",
       "| user_id | product_id | purchase_count |\n",
       "+---------+------------+----------------+\n",
       "|  98635  |   160841   |       1        |\n",
       "|  98635  |   53757    |       2        |\n",
       "|  98635  |   77040    |       1        |\n",
       "|  98635  |    4073    |       1        |\n",
       "|  98635  |    6597    |       1        |\n",
       "|  98635  |   29220    |       1        |\n",
       "|  98635  |   23804    |       1        |\n",
       "|  98635  |   67146    |       1        |\n",
       "|  98635  |   82698    |       1        |\n",
       "|  98635  |   122831   |       1        |\n",
       "+---------+------------+----------------+\n",
       "[10 rows x 3 columns]"
      ]
     },
     "execution_count": 3,
     "metadata": {},
     "output_type": "execute_result"
    }
   ],
   "source": [
    "rawData.head()"
   ]
  },
  {
   "cell_type": "code",
   "execution_count": 4,
   "metadata": {
    "collapsed": false
   },
   "outputs": [
    {
     "data": {
      "text/html": [
       "<div style=\"max-height:1000px;max-width:1500px;overflow:auto;\"><table frame=\"box\" rules=\"cols\">\n",
       "    <tr>\n",
       "        <th style=\"padding-left: 1em; padding-right: 1em; text-align: center\">user_id</th>\n",
       "        <th style=\"padding-left: 1em; padding-right: 1em; text-align: center\">product_id</th>\n",
       "        <th style=\"padding-left: 1em; padding-right: 1em; text-align: center\">purchase_count</th>\n",
       "    </tr>\n",
       "    <tr>\n",
       "        <td style=\"padding-left: 1em; padding-right: 1em; text-align: center; vertical-align: top\">14932</td>\n",
       "        <td style=\"padding-left: 1em; padding-right: 1em; text-align: center; vertical-align: top\">150240</td>\n",
       "        <td style=\"padding-left: 1em; padding-right: 1em; text-align: center; vertical-align: top\">923</td>\n",
       "    </tr>\n",
       "    <tr>\n",
       "        <td style=\"padding-left: 1em; padding-right: 1em; text-align: center; vertical-align: top\">69470</td>\n",
       "        <td style=\"padding-left: 1em; padding-right: 1em; text-align: center; vertical-align: top\">100951</td>\n",
       "        <td style=\"padding-left: 1em; padding-right: 1em; text-align: center; vertical-align: top\">646</td>\n",
       "    </tr>\n",
       "    <tr>\n",
       "        <td style=\"padding-left: 1em; padding-right: 1em; text-align: center; vertical-align: top\">19713</td>\n",
       "        <td style=\"padding-left: 1em; padding-right: 1em; text-align: center; vertical-align: top\">3935</td>\n",
       "        <td style=\"padding-left: 1em; padding-right: 1em; text-align: center; vertical-align: top\">597</td>\n",
       "    </tr>\n",
       "    <tr>\n",
       "        <td style=\"padding-left: 1em; padding-right: 1em; text-align: center; vertical-align: top\">72249</td>\n",
       "        <td style=\"padding-left: 1em; padding-right: 1em; text-align: center; vertical-align: top\">39156</td>\n",
       "        <td style=\"padding-left: 1em; padding-right: 1em; text-align: center; vertical-align: top\">537</td>\n",
       "    </tr>\n",
       "    <tr>\n",
       "        <td style=\"padding-left: 1em; padding-right: 1em; text-align: center; vertical-align: top\">67387</td>\n",
       "        <td style=\"padding-left: 1em; padding-right: 1em; text-align: center; vertical-align: top\">35250</td>\n",
       "        <td style=\"padding-left: 1em; padding-right: 1em; text-align: center; vertical-align: top\">535</td>\n",
       "    </tr>\n",
       "    <tr>\n",
       "        <td style=\"padding-left: 1em; padding-right: 1em; text-align: center; vertical-align: top\">107537</td>\n",
       "        <td style=\"padding-left: 1em; padding-right: 1em; text-align: center; vertical-align: top\">16945</td>\n",
       "        <td style=\"padding-left: 1em; padding-right: 1em; text-align: center; vertical-align: top\">500</td>\n",
       "    </tr>\n",
       "    <tr>\n",
       "        <td style=\"padding-left: 1em; padding-right: 1em; text-align: center; vertical-align: top\">24384</td>\n",
       "        <td style=\"padding-left: 1em; padding-right: 1em; text-align: center; vertical-align: top\">112329</td>\n",
       "        <td style=\"padding-left: 1em; padding-right: 1em; text-align: center; vertical-align: top\">478</td>\n",
       "    </tr>\n",
       "    <tr>\n",
       "        <td style=\"padding-left: 1em; padding-right: 1em; text-align: center; vertical-align: top\">108151</td>\n",
       "        <td style=\"padding-left: 1em; padding-right: 1em; text-align: center; vertical-align: top\">26185</td>\n",
       "        <td style=\"padding-left: 1em; padding-right: 1em; text-align: center; vertical-align: top\">476</td>\n",
       "    </tr>\n",
       "    <tr>\n",
       "        <td style=\"padding-left: 1em; padding-right: 1em; text-align: center; vertical-align: top\">3924</td>\n",
       "        <td style=\"padding-left: 1em; padding-right: 1em; text-align: center; vertical-align: top\">64555</td>\n",
       "        <td style=\"padding-left: 1em; padding-right: 1em; text-align: center; vertical-align: top\">463</td>\n",
       "    </tr>\n",
       "    <tr>\n",
       "        <td style=\"padding-left: 1em; padding-right: 1em; text-align: center; vertical-align: top\">47333</td>\n",
       "        <td style=\"padding-left: 1em; padding-right: 1em; text-align: center; vertical-align: top\">135390</td>\n",
       "        <td style=\"padding-left: 1em; padding-right: 1em; text-align: center; vertical-align: top\">454</td>\n",
       "    </tr>\n",
       "</table>\n",
       "[10 rows x 3 columns]<br/>\n",
       "</div>"
      ],
      "text/plain": [
       "Columns:\n",
       "\tuser_id\tint\n",
       "\tproduct_id\tint\n",
       "\tpurchase_count\tint\n",
       "\n",
       "Rows: 10\n",
       "\n",
       "Data:\n",
       "+---------+------------+----------------+\n",
       "| user_id | product_id | purchase_count |\n",
       "+---------+------------+----------------+\n",
       "|  14932  |   150240   |      923       |\n",
       "|  69470  |   100951   |      646       |\n",
       "|  19713  |    3935    |      597       |\n",
       "|  72249  |   39156    |      537       |\n",
       "|  67387  |   35250    |      535       |\n",
       "|  107537 |   16945    |      500       |\n",
       "|  24384  |   112329   |      478       |\n",
       "|  108151 |   26185    |      476       |\n",
       "|   3924  |   64555    |      463       |\n",
       "|  47333  |   135390   |      454       |\n",
       "+---------+------------+----------------+\n",
       "[10 rows x 3 columns]"
      ]
     },
     "execution_count": 4,
     "metadata": {},
     "output_type": "execute_result"
    }
   ],
   "source": [
    "rawData.sort('purchase_count',ascending=False).head()"
   ]
  },
  {
   "cell_type": "markdown",
   "metadata": {},
   "source": [
    "We are going to ignore the `purchase_count` completely and just focus on `user_id` and `product_id` since we are using item based recommender system. Although `purchase_count` tells us how popular an item is, the goal of this recommender is to recommend items based on the product's presence in other user's basket and not on how many times it was purchased."
   ]
  },
  {
   "cell_type": "markdown",
   "metadata": {},
   "source": [
    "### Training & Test data"
   ]
  },
  {
   "cell_type": "code",
   "execution_count": 5,
   "metadata": {
    "collapsed": true
   },
   "outputs": [],
   "source": [
    "train_raw,test_data = gl.recommender.util.random_split_by_user(rawData,user_id='user_id',item_id='product_id')\n",
    "\n",
    "# Table of product_id and count (total count of how many times the products appeared in the training set)\n",
    "productId_count = train_raw.groupby(key_columns = 'product_id',operations={'count':gl.aggregate.COUNT()})"
   ]
  },
  {
   "cell_type": "markdown",
   "metadata": {},
   "source": [
    "### Measuring accuracy via the metric 'precision and recall'"
   ]
  },
  {
   "cell_type": "code",
   "execution_count": 5,
   "metadata": {
    "collapsed": false
   },
   "outputs": [
    {
     "name": "stdout",
     "output_type": "stream",
     "text": [
      "oooooooooooooooooooooooooooooooooooooooooooooooooooooooooooooooooooooooooooooooooooooooooooooooooooo\n",
      "Data set where users >= 0(k) have purchased a single product\n",
      "Shape of train data: (1338458, 4) (should vary with k)\n",
      "Shape of test data: (2475, 3) (should remain constant)\n",
      "Number of unique users: 110000 (should vary with k)\n",
      "Number of unique products: 158208 (should vary with k)"
     ]
    },
    {
     "data": {
      "text/html": [
       "<pre>Recsys training: model = item_similarity</pre>"
      ],
      "text/plain": [
       "Recsys training: model = item_similarity"
      ]
     },
     "metadata": {},
     "output_type": "display_data"
    },
    {
     "name": "stdout",
     "output_type": "stream",
     "text": [
      "\n",
      "{'precision_recall_overall': Columns:\n",
      "\tcutoff\tint\n",
      "\tprecision\tfloat\n",
      "\trecall\tfloat\n",
      "\n",
      "Rows: 18\n",
      "\n",
      "Data:\n",
      "+--------+-----------------+------------------+\n",
      "| cutoff |    precision    |      recall      |\n",
      "+--------+-----------------+------------------+\n",
      "|   1    | 0.0285035629454 | 0.00789409192022 |\n",
      "|   2    | 0.0267220902613 |  0.016223654941  |\n",
      "|   3    | 0.0269200316706 | 0.0267838291294  |\n",
      "|   4    | 0.0296912114014 |  0.042201579761  |\n",
      "|   5    | 0.0273159144893 | 0.0470841345248  |\n",
      "|   6    | 0.0255344418052 | 0.0545762168684  |\n",
      "|   7    | 0.0244316253817 | 0.0626767334012  |\n",
      "|   8    | 0.0234560570071 | 0.0703483768804  |\n",
      "|   9    | 0.0224333597255 | 0.0780794027825  |\n",
      "|   10   | 0.0214964370546 | 0.0821136372205  |\n",
      "+--------+-----------------+------------------+\n",
      "[18 rows x 3 columns]\n",
      "Note: Only the head of the SFrame is printed.\n",
      "You can use print_rows(num_rows=m, num_columns=n) to print more rows and columns., 'precision_recall_by_user': Columns:\n",
      "\tuser_id\tint\n",
      "\tcutoff\tint\n",
      "\tprecision\tfloat\n",
      "\trecall\tfloat\n",
      "\tcount\tint\n",
      "\n",
      "Rows: 15156\n",
      "\n",
      "Data:\n",
      "+---------+--------+----------------+--------+-------+\n",
      "| user_id | cutoff |   precision    | recall | count |\n",
      "+---------+--------+----------------+--------+-------+\n",
      "|   215   |   1    |      0.0       |  0.0   |   5   |\n",
      "|   215   |   2    |      0.0       |  0.0   |   5   |\n",
      "|   215   |   3    |      0.0       |  0.0   |   5   |\n",
      "|   215   |   4    |      0.0       |  0.0   |   5   |\n",
      "|   215   |   5    |      0.2       |  0.2   |   5   |\n",
      "|   215   |   6    | 0.166666666667 |  0.2   |   5   |\n",
      "|   215   |   7    | 0.142857142857 |  0.2   |   5   |\n",
      "|   215   |   8    |     0.125      |  0.2   |   5   |\n",
      "|   215   |   9    | 0.111111111111 |  0.2   |   5   |\n",
      "|   215   |   10   |      0.1       |  0.2   |   5   |\n",
      "+---------+--------+----------------+--------+-------+\n",
      "[15156 rows x 5 columns]\n",
      "Note: Only the head of the SFrame is printed.\n",
      "You can use print_rows(num_rows=m, num_columns=n) to print more rows and columns.}\n",
      "oooooooooooooooooooooooooooooooooooooooooooooooooooooooooooooooooooooooooooooooooooooooooooooooooooo\n",
      "Data set where users >= 10(k) have purchased a single product\n",
      "Shape of train data: (1010513, 4) (should vary with k)\n",
      "Shape of test data: (2475, 3) (should remain constant)\n",
      "Number of unique users: 109134 (should vary with k)\n",
      "Number of unique products: 25131 (should vary with k)"
     ]
    },
    {
     "data": {
      "text/html": [
       "<pre>Recsys training: model = item_similarity</pre>"
      ],
      "text/plain": [
       "Recsys training: model = item_similarity"
      ]
     },
     "metadata": {},
     "output_type": "display_data"
    },
    {
     "name": "stdout",
     "output_type": "stream",
     "text": [
      "\n",
      "{'precision_recall_overall': Columns:\n",
      "\tcutoff\tint\n",
      "\tprecision\tfloat\n",
      "\trecall\tfloat\n",
      "\n",
      "Rows: 18\n",
      "\n",
      "Data:\n",
      "+--------+-----------------+-----------------+\n",
      "| cutoff |    precision    |      recall     |\n",
      "+--------+-----------------+-----------------+\n",
      "|   1    | 0.0391923990499 | 0.0129877841873 |\n",
      "|   2    | 0.0385985748219 | 0.0285855672435 |\n",
      "|   3    | 0.0372129849565 | 0.0426954907062 |\n",
      "|   4    | 0.0359263657957 | 0.0520345549146 |\n",
      "|   5    | 0.0356294536817 | 0.0639963427968 |\n",
      "|   6    | 0.0336500395883 | 0.0745598160087 |\n",
      "|   7    | 0.0322361723787 | 0.0828747690684 |\n",
      "|   8    | 0.0308788598575 | 0.0910709572824 |\n",
      "|   9    | 0.0296912114014 | 0.0991021943219 |\n",
      "|   10   | 0.0277909738717 |  0.103804716661 |\n",
      "+--------+-----------------+-----------------+\n",
      "[18 rows x 3 columns]\n",
      "Note: Only the head of the SFrame is printed.\n",
      "You can use print_rows(num_rows=m, num_columns=n) to print more rows and columns., 'precision_recall_by_user': Columns:\n",
      "\tuser_id\tint\n",
      "\tcutoff\tint\n",
      "\tprecision\tfloat\n",
      "\trecall\tfloat\n",
      "\tcount\tint\n",
      "\n",
      "Rows: 15156\n",
      "\n",
      "Data:\n",
      "+---------+--------+----------------+--------+-------+\n",
      "| user_id | cutoff |   precision    | recall | count |\n",
      "+---------+--------+----------------+--------+-------+\n",
      "|   215   |   1    |      0.0       |  0.0   |   5   |\n",
      "|   215   |   2    |      0.0       |  0.0   |   5   |\n",
      "|   215   |   3    |      0.0       |  0.0   |   5   |\n",
      "|   215   |   4    |      0.0       |  0.0   |   5   |\n",
      "|   215   |   5    |      0.2       |  0.2   |   5   |\n",
      "|   215   |   6    | 0.166666666667 |  0.2   |   5   |\n",
      "|   215   |   7    | 0.142857142857 |  0.2   |   5   |\n",
      "|   215   |   8    |     0.125      |  0.2   |   5   |\n",
      "|   215   |   9    | 0.111111111111 |  0.2   |   5   |\n",
      "|   215   |   10   |      0.1       |  0.2   |   5   |\n",
      "+---------+--------+----------------+--------+-------+\n",
      "[15156 rows x 5 columns]\n",
      "Note: Only the head of the SFrame is printed.\n",
      "You can use print_rows(num_rows=m, num_columns=n) to print more rows and columns.}\n",
      "oooooooooooooooooooooooooooooooooooooooooooooooooooooooooooooooooooooooooooooooooooooooooooooooooooo\n",
      "Data set where users >= 20(k) have purchased a single product\n",
      "Shape of train data: (844189, 4) (should vary with k)\n",
      "Shape of test data: (2475, 3) (should remain constant)\n",
      "Number of unique users: 107626 (should vary with k)\n",
      "Number of unique products: 12771 (should vary with k)"
     ]
    },
    {
     "data": {
      "text/html": [
       "<pre>Recsys training: model = item_similarity</pre>"
      ],
      "text/plain": [
       "Recsys training: model = item_similarity"
      ]
     },
     "metadata": {},
     "output_type": "display_data"
    },
    {
     "name": "stdout",
     "output_type": "stream",
     "text": [
      "\n",
      "{'precision_recall_overall': Columns:\n",
      "\tcutoff\tint\n",
      "\tprecision\tfloat\n",
      "\trecall\tfloat\n",
      "\n",
      "Rows: 18\n",
      "\n",
      "Data:\n",
      "+--------+-----------------+-----------------+\n",
      "| cutoff |    precision    |      recall     |\n",
      "+--------+-----------------+-----------------+\n",
      "|   1    | 0.0403800475059 |  0.013181012706 |\n",
      "|   2    | 0.0362232779097 | 0.0291581834634 |\n",
      "|   3    | 0.0368171021378 | 0.0409408089931 |\n",
      "|   4    | 0.0338479809976 | 0.0486567536449 |\n",
      "|   5    |  0.033729216152 | 0.0598173501083 |\n",
      "|   6    | 0.0326603325416 | 0.0697389276071 |\n",
      "|   7    | 0.0307091957923 | 0.0759952900095 |\n",
      "|   8    | 0.0301365795724 | 0.0840562182605 |\n",
      "|   9    | 0.0285035629454 | 0.0886663679419 |\n",
      "|   10   | 0.0269596199525 | 0.0933095078582 |\n",
      "+--------+-----------------+-----------------+\n",
      "[18 rows x 3 columns]\n",
      "Note: Only the head of the SFrame is printed.\n",
      "You can use print_rows(num_rows=m, num_columns=n) to print more rows and columns., 'precision_recall_by_user': Columns:\n",
      "\tuser_id\tint\n",
      "\tcutoff\tint\n",
      "\tprecision\tfloat\n",
      "\trecall\tfloat\n",
      "\tcount\tint\n",
      "\n",
      "Rows: 15156\n",
      "\n",
      "Data:\n",
      "+---------+--------+----------------+--------+-------+\n",
      "| user_id | cutoff |   precision    | recall | count |\n",
      "+---------+--------+----------------+--------+-------+\n",
      "|   215   |   1    |      0.0       |  0.0   |   5   |\n",
      "|   215   |   2    |      0.0       |  0.0   |   5   |\n",
      "|   215   |   3    | 0.333333333333 |  0.2   |   5   |\n",
      "|   215   |   4    |      0.25      |  0.2   |   5   |\n",
      "|   215   |   5    |      0.4       |  0.4   |   5   |\n",
      "|   215   |   6    | 0.333333333333 |  0.4   |   5   |\n",
      "|   215   |   7    | 0.285714285714 |  0.4   |   5   |\n",
      "|   215   |   8    |     0.375      |  0.6   |   5   |\n",
      "|   215   |   9    | 0.333333333333 |  0.6   |   5   |\n",
      "|   215   |   10   |      0.3       |  0.6   |   5   |\n",
      "+---------+--------+----------------+--------+-------+\n",
      "[15156 rows x 5 columns]\n",
      "Note: Only the head of the SFrame is printed.\n",
      "You can use print_rows(num_rows=m, num_columns=n) to print more rows and columns.}\n",
      "oooooooooooooooooooooooooooooooooooooooooooooooooooooooooooooooooooooooooooooooooooooooooooooooooooo\n",
      "Data set where users >= 30(k) have purchased a single product\n",
      "Shape of train data: (735289, 4) (should vary with k)\n",
      "Shape of test data: (2475, 3) (should remain constant)\n",
      "Number of unique users: 105852 (should vary with k)\n",
      "Number of unique products: 8205 (should vary with k)"
     ]
    },
    {
     "data": {
      "text/html": [
       "<pre>Recsys training: model = item_similarity</pre>"
      ],
      "text/plain": [
       "Recsys training: model = item_similarity"
      ]
     },
     "metadata": {},
     "output_type": "display_data"
    },
    {
     "name": "stdout",
     "output_type": "stream",
     "text": [
      "\n",
      "{'precision_recall_overall': Columns:\n",
      "\tcutoff\tint\n",
      "\tprecision\tfloat\n",
      "\trecall\tfloat\n",
      "\n",
      "Rows: 18\n",
      "\n",
      "Data:\n",
      "+--------+-----------------+-----------------+\n",
      "| cutoff |    precision    |      recall     |\n",
      "+--------+-----------------+-----------------+\n",
      "|   1    | 0.0344418052257 | 0.0120131583908 |\n",
      "|   2    | 0.0308788598575 | 0.0249717226558 |\n",
      "|   3    | 0.0336500395883 | 0.0388742064217 |\n",
      "|   4    | 0.0317695961995 | 0.0473404432727 |\n",
      "|   5    | 0.0332541567696 | 0.0620112007285 |\n",
      "|   6    | 0.0322644497229 | 0.0729008059768 |\n",
      "|   7    | 0.0296912114014 | 0.0772305386617 |\n",
      "|   8    | 0.0280581947743 | 0.0818326764289 |\n",
      "|   9    | 0.0263921879124 | 0.0848743760858 |\n",
      "|   10   | 0.0251781472684 | 0.0896777542858 |\n",
      "+--------+-----------------+-----------------+\n",
      "[18 rows x 3 columns]\n",
      "Note: Only the head of the SFrame is printed.\n",
      "You can use print_rows(num_rows=m, num_columns=n) to print more rows and columns., 'precision_recall_by_user': Columns:\n",
      "\tuser_id\tint\n",
      "\tcutoff\tint\n",
      "\tprecision\tfloat\n",
      "\trecall\tfloat\n",
      "\tcount\tint\n",
      "\n",
      "Rows: 15156\n",
      "\n",
      "Data:\n",
      "+---------+--------+----------------+--------+-------+\n",
      "| user_id | cutoff |   precision    | recall | count |\n",
      "+---------+--------+----------------+--------+-------+\n",
      "|   215   |   1    |      0.0       |  0.0   |   5   |\n",
      "|   215   |   2    |      0.5       |  0.2   |   5   |\n",
      "|   215   |   3    | 0.333333333333 |  0.2   |   5   |\n",
      "|   215   |   4    |      0.25      |  0.2   |   5   |\n",
      "|   215   |   5    |      0.2       |  0.2   |   5   |\n",
      "|   215   |   6    | 0.166666666667 |  0.2   |   5   |\n",
      "|   215   |   7    | 0.142857142857 |  0.2   |   5   |\n",
      "|   215   |   8    |      0.25      |  0.4   |   5   |\n",
      "|   215   |   9    | 0.222222222222 |  0.4   |   5   |\n",
      "|   215   |   10   |      0.2       |  0.4   |   5   |\n",
      "+---------+--------+----------------+--------+-------+\n",
      "[15156 rows x 5 columns]\n",
      "Note: Only the head of the SFrame is printed.\n",
      "You can use print_rows(num_rows=m, num_columns=n) to print more rows and columns.}\n",
      "oooooooooooooooooooooooooooooooooooooooooooooooooooooooooooooooooooooooooooooooooooooooooooooooooooo\n",
      "Data set where users >= 40(k) have purchased a single product\n",
      "Shape of train data: (653750, 4) (should vary with k)\n",
      "Shape of test data: (2475, 3) (should remain constant)\n",
      "Number of unique users: 103869 (should vary with k)\n",
      "Number of unique products: 5807 (should vary with k)"
     ]
    },
    {
     "data": {
      "text/html": [
       "<pre>Recsys training: model = item_similarity</pre>"
      ],
      "text/plain": [
       "Recsys training: model = item_similarity"
      ]
     },
     "metadata": {},
     "output_type": "display_data"
    },
    {
     "name": "stdout",
     "output_type": "stream",
     "text": [
      "\n",
      "{'precision_recall_overall': Columns:\n",
      "\tcutoff\tint\n",
      "\tprecision\tfloat\n",
      "\trecall\tfloat\n",
      "\n",
      "Rows: 18\n",
      "\n",
      "Data:\n",
      "+--------+-----------------+-----------------+\n",
      "| cutoff |    precision    |      recall     |\n",
      "+--------+-----------------+-----------------+\n",
      "|   1    | 0.0380047505938 | 0.0135241111488 |\n",
      "|   2    | 0.0290973871734 | 0.0243034347547 |\n",
      "|   3    | 0.0304829770388 | 0.0349841864391 |\n",
      "|   4    | 0.0302850356295 | 0.0434391123524 |\n",
      "|   5    | 0.0296912114014 | 0.0539728943529 |\n",
      "|   6    | 0.0275138558987 | 0.0613476257182 |\n",
      "|   7    | 0.0261282660333 | 0.0664281218913 |\n",
      "|   8    | 0.0250890736342 | 0.0716867653328 |\n",
      "|   9    | 0.0237529691211 | 0.0749641095247 |\n",
      "|   10   | 0.0226840855107 | 0.0792509549042 |\n",
      "+--------+-----------------+-----------------+\n",
      "[18 rows x 3 columns]\n",
      "Note: Only the head of the SFrame is printed.\n",
      "You can use print_rows(num_rows=m, num_columns=n) to print more rows and columns., 'precision_recall_by_user': Columns:\n",
      "\tuser_id\tint\n",
      "\tcutoff\tint\n",
      "\tprecision\tfloat\n",
      "\trecall\tfloat\n",
      "\tcount\tint\n",
      "\n",
      "Rows: 15156\n",
      "\n",
      "Data:\n",
      "+---------+--------+-----------+--------+-------+\n",
      "| user_id | cutoff | precision | recall | count |\n",
      "+---------+--------+-----------+--------+-------+\n",
      "|   215   |   1    |    0.0    |  0.0   |   5   |\n",
      "|   215   |   2    |    0.0    |  0.0   |   5   |\n",
      "|   215   |   3    |    0.0    |  0.0   |   5   |\n",
      "|   215   |   4    |    0.0    |  0.0   |   5   |\n",
      "|   215   |   5    |    0.0    |  0.0   |   5   |\n",
      "|   215   |   6    |    0.0    |  0.0   |   5   |\n",
      "|   215   |   7    |    0.0    |  0.0   |   5   |\n",
      "|   215   |   8    |    0.0    |  0.0   |   5   |\n",
      "|   215   |   9    |    0.0    |  0.0   |   5   |\n",
      "|   215   |   10   |    0.0    |  0.0   |   5   |\n",
      "+---------+--------+-----------+--------+-------+\n",
      "[15156 rows x 5 columns]\n",
      "Note: Only the head of the SFrame is printed.\n",
      "You can use print_rows(num_rows=m, num_columns=n) to print more rows and columns.}\n",
      "oooooooooooooooooooooooooooooooooooooooooooooooooooooooooooooooooooooooooooooooooooooooooooooooooooo\n",
      "Data set where users >= 50(k) have purchased a single product\n",
      "Shape of train data: (589339, 4) (should vary with k)\n",
      "Shape of test data: (2475, 3) (should remain constant)\n",
      "Number of unique users: 101924 (should vary with k)\n",
      "Number of unique products: 4346 (should vary with k)"
     ]
    },
    {
     "data": {
      "text/html": [
       "<pre>Recsys training: model = item_similarity</pre>"
      ],
      "text/plain": [
       "Recsys training: model = item_similarity"
      ]
     },
     "metadata": {},
     "output_type": "display_data"
    },
    {
     "name": "stdout",
     "output_type": "stream",
     "text": [
      "\n",
      "{'precision_recall_overall': Columns:\n",
      "\tcutoff\tint\n",
      "\tprecision\tfloat\n",
      "\trecall\tfloat\n",
      "\n",
      "Rows: 18\n",
      "\n",
      "Data:\n",
      "+--------+-----------------+-----------------+\n",
      "| cutoff |    precision    |      recall     |\n",
      "+--------+-----------------+-----------------+\n",
      "|   1    |  0.041567695962 | 0.0163942615843 |\n",
      "|   2    | 0.0285035629454 | 0.0245607585869 |\n",
      "|   3    | 0.0285035629454 | 0.0337701457951 |\n",
      "|   4    | 0.0288004750594 | 0.0433203475068 |\n",
      "|   5    | 0.0270783847981 | 0.0513501706791 |\n",
      "|   6    | 0.0257323832146 | 0.0575815547609 |\n",
      "|   7    | 0.0240922972514 | 0.0602089913254 |\n",
      "|   8    | 0.0228622327791 |  0.064246996076 |\n",
      "|   9    | 0.0220374769068 | 0.0685140473145 |\n",
      "|   10   | 0.0214964370546 | 0.0743137306083 |\n",
      "+--------+-----------------+-----------------+\n",
      "[18 rows x 3 columns]\n",
      "Note: Only the head of the SFrame is printed.\n",
      "You can use print_rows(num_rows=m, num_columns=n) to print more rows and columns., 'precision_recall_by_user': Columns:\n",
      "\tuser_id\tint\n",
      "\tcutoff\tint\n",
      "\tprecision\tfloat\n",
      "\trecall\tfloat\n",
      "\tcount\tint\n",
      "\n",
      "Rows: 15156\n",
      "\n",
      "Data:\n",
      "+---------+--------+-----------+--------+-------+\n",
      "| user_id | cutoff | precision | recall | count |\n",
      "+---------+--------+-----------+--------+-------+\n",
      "|   215   |   1    |    0.0    |  0.0   |   5   |\n",
      "|   215   |   2    |    0.0    |  0.0   |   5   |\n",
      "|   215   |   3    |    0.0    |  0.0   |   5   |\n",
      "|   215   |   4    |    0.0    |  0.0   |   5   |\n",
      "|   215   |   5    |    0.0    |  0.0   |   5   |\n",
      "|   215   |   6    |    0.0    |  0.0   |   5   |\n",
      "|   215   |   7    |    0.0    |  0.0   |   5   |\n",
      "|   215   |   8    |    0.0    |  0.0   |   5   |\n",
      "|   215   |   9    |    0.0    |  0.0   |   5   |\n",
      "|   215   |   10   |    0.0    |  0.0   |   5   |\n",
      "+---------+--------+-----------+--------+-------+\n",
      "[15156 rows x 5 columns]\n",
      "Note: Only the head of the SFrame is printed.\n",
      "You can use print_rows(num_rows=m, num_columns=n) to print more rows and columns.}\n",
      "oooooooooooooooooooooooooooooooooooooooooooooooooooooooooooooooooooooooooooooooooooooooooooooooooooo\n",
      "Data set where users >= 60(k) have purchased a single product\n",
      "Shape of train data: (539813, 4) (should vary with k)\n",
      "Shape of test data: (2475, 3) (should remain constant)\n",
      "Number of unique users: 100019 (should vary with k)\n",
      "Number of unique products: 3431 (should vary with k)"
     ]
    },
    {
     "data": {
      "text/html": [
       "<pre>Recsys training: model = item_similarity</pre>"
      ],
      "text/plain": [
       "Recsys training: model = item_similarity"
      ]
     },
     "metadata": {},
     "output_type": "display_data"
    },
    {
     "name": "stdout",
     "output_type": "stream",
     "text": [
      "\n",
      "{'precision_recall_overall': Columns:\n",
      "\tcutoff\tint\n",
      "\tprecision\tfloat\n",
      "\trecall\tfloat\n",
      "\n",
      "Rows: 18\n",
      "\n",
      "Data:\n",
      "+--------+-----------------+-----------------+\n",
      "| cutoff |    precision    |      recall     |\n",
      "+--------+-----------------+-----------------+\n",
      "|   1    | 0.0332541567696 |  0.014988877578 |\n",
      "|   2    | 0.0267220902613 | 0.0223273196848 |\n",
      "|   3    | 0.0253365003959 | 0.0297321410445 |\n",
      "|   4    | 0.0252375296912 | 0.0364319864617 |\n",
      "|   5    | 0.0249406175772 | 0.0459364731336 |\n",
      "|   6    | 0.0243467933492 | 0.0523738105389 |\n",
      "|   7    | 0.0222259925348 | 0.0543763177967 |\n",
      "|   8    |  0.021229216152 |  0.058958661423 |\n",
      "|   9    | 0.0209817893903 | 0.0661288533319 |\n",
      "|   10   | 0.0200712589074 | 0.0703365221477 |\n",
      "+--------+-----------------+-----------------+\n",
      "[18 rows x 3 columns]\n",
      "Note: Only the head of the SFrame is printed.\n",
      "You can use print_rows(num_rows=m, num_columns=n) to print more rows and columns., 'precision_recall_by_user': Columns:\n",
      "\tuser_id\tint\n",
      "\tcutoff\tint\n",
      "\tprecision\tfloat\n",
      "\trecall\tfloat\n",
      "\tcount\tint\n",
      "\n",
      "Rows: 15156\n",
      "\n",
      "Data:\n",
      "+---------+--------+-----------+--------+-------+\n",
      "| user_id | cutoff | precision | recall | count |\n",
      "+---------+--------+-----------+--------+-------+\n",
      "|   215   |   1    |    0.0    |  0.0   |   5   |\n",
      "|   215   |   2    |    0.0    |  0.0   |   5   |\n",
      "|   215   |   3    |    0.0    |  0.0   |   5   |\n",
      "|   215   |   4    |    0.0    |  0.0   |   5   |\n",
      "|   215   |   5    |    0.0    |  0.0   |   5   |\n",
      "|   215   |   6    |    0.0    |  0.0   |   5   |\n",
      "|   215   |   7    |    0.0    |  0.0   |   5   |\n",
      "|   215   |   8    |    0.0    |  0.0   |   5   |\n",
      "|   215   |   9    |    0.0    |  0.0   |   5   |\n",
      "|   215   |   10   |    0.0    |  0.0   |   5   |\n",
      "+---------+--------+-----------+--------+-------+\n",
      "[15156 rows x 5 columns]\n",
      "Note: Only the head of the SFrame is printed.\n",
      "You can use print_rows(num_rows=m, num_columns=n) to print more rows and columns.}\n",
      "oooooooooooooooooooooooooooooooooooooooooooooooooooooooooooooooooooooooooooooooooooooooooooooooooooo\n",
      "Data set where users >= 70(k) have purchased a single product\n",
      "Shape of train data: (496344, 4) (should vary with k)\n",
      "Shape of test data: (2475, 3) (should remain constant)\n",
      "Number of unique users: 98058 (should vary with k)\n",
      "Number of unique products: 2754 (should vary with k)"
     ]
    },
    {
     "data": {
      "text/html": [
       "<pre>Recsys training: model = item_similarity</pre>"
      ],
      "text/plain": [
       "Recsys training: model = item_similarity"
      ]
     },
     "metadata": {},
     "output_type": "display_data"
    },
    {
     "name": "stdout",
     "output_type": "stream",
     "text": [
      "\n",
      "{'precision_recall_overall': Columns:\n",
      "\tcutoff\tint\n",
      "\tprecision\tfloat\n",
      "\trecall\tfloat\n",
      "\n",
      "Rows: 18\n",
      "\n",
      "Data:\n",
      "+--------+-----------------+-----------------+\n",
      "| cutoff |    precision    |      recall     |\n",
      "+--------+-----------------+-----------------+\n",
      "|   1    | 0.0308788598575 | 0.0129104927799 |\n",
      "|   2    | 0.0255344418052 | 0.0196551106587 |\n",
      "|   3    | 0.0229612034838 | 0.0251333023008 |\n",
      "|   4    | 0.0225653206651 | 0.0315626277918 |\n",
      "|   5    | 0.0237529691211 |  0.042572883042 |\n",
      "|   6    | 0.0235550277118 | 0.0498816339375 |\n",
      "|   7    |  0.021377672209 | 0.0518016656081 |\n",
      "|   8    |  0.020190023753 | 0.0555738633233 |\n",
      "|   9    | 0.0191343362365 | 0.0598296036241 |\n",
      "|   10   | 0.0179334916865 | 0.0625315038617 |\n",
      "+--------+-----------------+-----------------+\n",
      "[18 rows x 3 columns]\n",
      "Note: Only the head of the SFrame is printed.\n",
      "You can use print_rows(num_rows=m, num_columns=n) to print more rows and columns., 'precision_recall_by_user': Columns:\n",
      "\tuser_id\tint\n",
      "\tcutoff\tint\n",
      "\tprecision\tfloat\n",
      "\trecall\tfloat\n",
      "\tcount\tint\n",
      "\n",
      "Rows: 15156\n",
      "\n",
      "Data:\n",
      "+---------+--------+-----------+--------+-------+\n",
      "| user_id | cutoff | precision | recall | count |\n",
      "+---------+--------+-----------+--------+-------+\n",
      "|   215   |   1    |    0.0    |  0.0   |   5   |\n",
      "|   215   |   2    |    0.0    |  0.0   |   5   |\n",
      "|   215   |   3    |    0.0    |  0.0   |   5   |\n",
      "|   215   |   4    |    0.0    |  0.0   |   5   |\n",
      "|   215   |   5    |    0.0    |  0.0   |   5   |\n",
      "|   215   |   6    |    0.0    |  0.0   |   5   |\n",
      "|   215   |   7    |    0.0    |  0.0   |   5   |\n",
      "|   215   |   8    |    0.0    |  0.0   |   5   |\n",
      "|   215   |   9    |    0.0    |  0.0   |   5   |\n",
      "|   215   |   10   |    0.0    |  0.0   |   5   |\n",
      "+---------+--------+-----------+--------+-------+\n",
      "[15156 rows x 5 columns]\n",
      "Note: Only the head of the SFrame is printed.\n",
      "You can use print_rows(num_rows=m, num_columns=n) to print more rows and columns.}\n",
      "oooooooooooooooooooooooooooooooooooooooooooooooooooooooooooooooooooooooooooooooooooooooooooooooooooo\n",
      "Data set where users >= 80(k) have purchased a single product\n",
      "Shape of train data: (459480, 4) (should vary with k)\n",
      "Shape of test data: (2475, 3) (should remain constant)\n",
      "Number of unique users: 96143 (should vary with k)\n",
      "Number of unique products: 2257 (should vary with k)"
     ]
    },
    {
     "data": {
      "text/html": [
       "<pre>Recsys training: model = item_similarity</pre>"
      ],
      "text/plain": [
       "Recsys training: model = item_similarity"
      ]
     },
     "metadata": {},
     "output_type": "display_data"
    },
    {
     "name": "stdout",
     "output_type": "stream",
     "text": [
      "\n",
      "{'precision_recall_overall': Columns:\n",
      "\tcutoff\tint\n",
      "\tprecision\tfloat\n",
      "\trecall\tfloat\n",
      "\n",
      "Rows: 18\n",
      "\n",
      "Data:\n",
      "+--------+-----------------+-----------------+\n",
      "| cutoff |    precision    |      recall     |\n",
      "+--------+-----------------+-----------------+\n",
      "|   1    | 0.0296912114014 | 0.0133063755985 |\n",
      "|   2    | 0.0231591448931 | 0.0178010594578 |\n",
      "|   3    | 0.0233570863025 | 0.0258920777032 |\n",
      "|   4    |  0.021674584323 | 0.0319057262347 |\n",
      "|   5    | 0.0220902612827 | 0.0404252187506 |\n",
      "|   6    | 0.0225653206651 | 0.0484220516881 |\n",
      "|   7    | 0.0203596878181 | 0.0496822786609 |\n",
      "|   8    | 0.0187054631829 | 0.0528889294923 |\n",
      "|   9    | 0.0184745315387 | 0.0592923340845 |\n",
      "|   10   |  0.016864608076 | 0.0604799825406 |\n",
      "+--------+-----------------+-----------------+\n",
      "[18 rows x 3 columns]\n",
      "Note: Only the head of the SFrame is printed.\n",
      "You can use print_rows(num_rows=m, num_columns=n) to print more rows and columns., 'precision_recall_by_user': Columns:\n",
      "\tuser_id\tint\n",
      "\tcutoff\tint\n",
      "\tprecision\tfloat\n",
      "\trecall\tfloat\n",
      "\tcount\tint\n",
      "\n",
      "Rows: 15156\n",
      "\n",
      "Data:\n",
      "+---------+--------+-----------+--------+-------+\n",
      "| user_id | cutoff | precision | recall | count |\n",
      "+---------+--------+-----------+--------+-------+\n",
      "|   215   |   1    |    0.0    |  0.0   |   5   |\n",
      "|   215   |   2    |    0.0    |  0.0   |   5   |\n",
      "|   215   |   3    |    0.0    |  0.0   |   5   |\n",
      "|   215   |   4    |    0.0    |  0.0   |   5   |\n",
      "|   215   |   5    |    0.0    |  0.0   |   5   |\n",
      "|   215   |   6    |    0.0    |  0.0   |   5   |\n",
      "|   215   |   7    |    0.0    |  0.0   |   5   |\n",
      "|   215   |   8    |    0.0    |  0.0   |   5   |\n",
      "|   215   |   9    |    0.0    |  0.0   |   5   |\n",
      "|   215   |   10   |    0.0    |  0.0   |   5   |\n",
      "+---------+--------+-----------+--------+-------+\n",
      "[15156 rows x 5 columns]\n",
      "Note: Only the head of the SFrame is printed.\n",
      "You can use print_rows(num_rows=m, num_columns=n) to print more rows and columns.}\n",
      "oooooooooooooooooooooooooooooooooooooooooooooooooooooooooooooooooooooooooooooooooooooooooooooooooooo\n",
      "Data set where users >= 90(k) have purchased a single product\n",
      "Shape of train data: (427587, 4) (should vary with k)\n",
      "Shape of test data: (2475, 3) (should remain constant)\n",
      "Number of unique users: 94118 (should vary with k)\n",
      "Number of unique products: 1879 (should vary with k)"
     ]
    },
    {
     "data": {
      "text/html": [
       "<pre>Recsys training: model = item_similarity</pre>"
      ],
      "text/plain": [
       "Recsys training: model = item_similarity"
      ]
     },
     "metadata": {},
     "output_type": "display_data"
    },
    {
     "name": "stdout",
     "output_type": "stream",
     "text": [
      "\n",
      "{'precision_recall_overall': Columns:\n",
      "\tcutoff\tint\n",
      "\tprecision\tfloat\n",
      "\trecall\tfloat\n",
      "\n",
      "Rows: 18\n",
      "\n",
      "Data:\n",
      "+--------+-----------------+------------------+\n",
      "| cutoff |    precision    |      recall      |\n",
      "+--------+-----------------+------------------+\n",
      "|   1    | 0.0249406175772 | 0.00808072239189 |\n",
      "|   2    |  0.020190023753 | 0.0125688082042  |\n",
      "|   3    | 0.0205859065717 | 0.0188057752488  |\n",
      "|   4    |  0.020190023753 | 0.0254132480083  |\n",
      "|   5    |  0.020190023753 | 0.0332102543801  |\n",
      "|   6    |  0.020190023753 | 0.0397720120998  |\n",
      "|   7    | 0.0186630471666 | 0.0435065066894  |\n",
      "|   8    | 0.0173693586698 | 0.0461589215746  |\n",
      "|   9    | 0.0164951174452 | 0.0509095153988  |\n",
      "|   10   |  0.01567695962  | 0.0526528136683  |\n",
      "+--------+-----------------+------------------+\n",
      "[18 rows x 3 columns]\n",
      "Note: Only the head of the SFrame is printed.\n",
      "You can use print_rows(num_rows=m, num_columns=n) to print more rows and columns., 'precision_recall_by_user': Columns:\n",
      "\tuser_id\tint\n",
      "\tcutoff\tint\n",
      "\tprecision\tfloat\n",
      "\trecall\tfloat\n",
      "\tcount\tint\n",
      "\n",
      "Rows: 15156\n",
      "\n",
      "Data:\n",
      "+---------+--------+-----------+--------+-------+\n",
      "| user_id | cutoff | precision | recall | count |\n",
      "+---------+--------+-----------+--------+-------+\n",
      "|   215   |   1    |    0.0    |  0.0   |   5   |\n",
      "|   215   |   2    |    0.0    |  0.0   |   5   |\n",
      "|   215   |   3    |    0.0    |  0.0   |   5   |\n",
      "|   215   |   4    |    0.0    |  0.0   |   5   |\n",
      "|   215   |   5    |    0.0    |  0.0   |   5   |\n",
      "|   215   |   6    |    0.0    |  0.0   |   5   |\n",
      "|   215   |   7    |    0.0    |  0.0   |   5   |\n",
      "|   215   |   8    |    0.0    |  0.0   |   5   |\n",
      "|   215   |   9    |    0.0    |  0.0   |   5   |\n",
      "|   215   |   10   |    0.0    |  0.0   |   5   |\n",
      "+---------+--------+-----------+--------+-------+\n",
      "[15156 rows x 5 columns]\n",
      "Note: Only the head of the SFrame is printed.\n",
      "You can use print_rows(num_rows=m, num_columns=n) to print more rows and columns.}\n",
      "oooooooooooooooooooooooooooooooooooooooooooooooooooooooooooooooooooooooooooooooooooooooooooooooooooo\n",
      "Data set where users >= 100(k) have purchased a single product\n",
      "Shape of train data: (400992, 4) (should vary with k)\n",
      "Shape of test data: (2475, 3) (should remain constant)\n",
      "Number of unique users: 92234 (should vary with k)\n",
      "Number of unique products: 1596 (should vary with k)"
     ]
    },
    {
     "data": {
      "text/html": [
       "<pre>Recsys training: model = item_similarity</pre>"
      ],
      "text/plain": [
       "Recsys training: model = item_similarity"
      ]
     },
     "metadata": {},
     "output_type": "display_data"
    },
    {
     "name": "stdout",
     "output_type": "stream",
     "text": [
      "\n",
      "{'precision_recall_overall': Columns:\n",
      "\tcutoff\tint\n",
      "\tprecision\tfloat\n",
      "\trecall\tfloat\n",
      "\n",
      "Rows: 18\n",
      "\n",
      "Data:\n",
      "+--------+-----------------+------------------+\n",
      "| cutoff |    precision    |      recall      |\n",
      "+--------+-----------------+------------------+\n",
      "|   1    | 0.0249406175772 | 0.00842570599103 |\n",
      "|   2    |  0.020190023753 | 0.0128855144591  |\n",
      "|   3    | 0.0209817893903 | 0.0202111592551  |\n",
      "|   4    | 0.0192992874109 | 0.0245112007285  |\n",
      "|   5    | 0.0190023752969 | 0.0328426489056  |\n",
      "|   6    | 0.0195961995249 | 0.0409879379001  |\n",
      "|   7    | 0.0183237190363 | 0.0437327254429  |\n",
      "|   8    | 0.0167755344418 |  0.046889890922  |\n",
      "|   9    | 0.0158353127474 | 0.0500965417533  |\n",
      "|   10   | 0.0153206650831 | 0.0529384148446  |\n",
      "+--------+-----------------+------------------+\n",
      "[18 rows x 3 columns]\n",
      "Note: Only the head of the SFrame is printed.\n",
      "You can use print_rows(num_rows=m, num_columns=n) to print more rows and columns., 'precision_recall_by_user': Columns:\n",
      "\tuser_id\tint\n",
      "\tcutoff\tint\n",
      "\tprecision\tfloat\n",
      "\trecall\tfloat\n",
      "\tcount\tint\n",
      "\n",
      "Rows: 15156\n",
      "\n",
      "Data:\n",
      "+---------+--------+-----------+--------+-------+\n",
      "| user_id | cutoff | precision | recall | count |\n",
      "+---------+--------+-----------+--------+-------+\n",
      "|   215   |   1    |    0.0    |  0.0   |   5   |\n",
      "|   215   |   2    |    0.0    |  0.0   |   5   |\n",
      "|   215   |   3    |    0.0    |  0.0   |   5   |\n",
      "|   215   |   4    |    0.0    |  0.0   |   5   |\n",
      "|   215   |   5    |    0.0    |  0.0   |   5   |\n",
      "|   215   |   6    |    0.0    |  0.0   |   5   |\n",
      "|   215   |   7    |    0.0    |  0.0   |   5   |\n",
      "|   215   |   8    |    0.0    |  0.0   |   5   |\n",
      "|   215   |   9    |    0.0    |  0.0   |   5   |\n",
      "|   215   |   10   |    0.0    |  0.0   |   5   |\n",
      "+---------+--------+-----------+--------+-------+\n",
      "[15156 rows x 5 columns]\n",
      "Note: Only the head of the SFrame is printed.\n",
      "You can use print_rows(num_rows=m, num_columns=n) to print more rows and columns.}\n"
     ]
    }
   ],
   "source": [
    "#An item based recommender system works best when data is not sparse. Lets experiment with the variable k, where k represents\n",
    "# how many users purchased this product as a minimum. \n",
    "\n",
    "for k in range(0,101,10):\n",
    "    print 100*'o'\n",
    "    productId_count_trunc = productId_count[productId_count['count']>=k]\n",
    "    train_data_trunc = train_raw.join(productId_count_trunc)    \n",
    "    print 'Data set where users >= {}(k) have purchased a single product'.format(k) \n",
    "    print 'Shape of train data: {} (should vary with k)'.format(train_data_trunc.shape)\n",
    "    print 'Shape of test data: {} (should remain constant)'.format(test_data.shape) \n",
    "    print 'Number of unique users: {} (should vary with k)'.format(len(train_data_trunc['user_id'].unique()))\n",
    "    print 'Number of unique products: {} (should vary with k)'.format(len(train_data_trunc['product_id'].unique()))\n",
    "    # Model Building\n",
    "    model = gl.item_similarity_recommender.create(train_data_trunc,user_id='user_id',item_id='product_id',similarity_type='jaccard',\n",
    "                                                  verbose=False)\n",
    "    # Model evaluation\n",
    "    model_pre_rec_eval = gl.recommender.util.compare_models(test_data,[model],metric='precision_recall',\n",
    "                                                exclude_known_for_precision_recall=True,verbose=False)\n",
    "    print model_pre_rec_eval[0]"
   ]
  },
  {
   "cell_type": "markdown",
   "metadata": {
    "collapsed": true
   },
   "source": [
    "From the above you can see that as k increases, the values in precision_recall table of the test data also increases before reaching a plateau and then drop. Accordingly based on the above output, we will set k = 50 i.e. we will build a recommendation model where at least 50 users have purchased a product."
   ]
  },
  {
   "cell_type": "markdown",
   "metadata": {},
   "source": [
    "### Building the recommendation model"
   ]
  },
  {
   "cell_type": "code",
   "execution_count": 6,
   "metadata": {
    "collapsed": false
   },
   "outputs": [
    {
     "data": {
      "text/html": [
       "<pre>Recsys training: model = item_similarity</pre>"
      ],
      "text/plain": [
       "Recsys training: model = item_similarity"
      ]
     },
     "metadata": {},
     "output_type": "display_data"
    }
   ],
   "source": [
    "k = 50\n",
    "# Table of product_id and count (total count of how many times the products appeared in the original raw data set)\n",
    "raw_productId_count = rawData.groupby(key_columns = 'product_id',operations={'count':gl.aggregate.COUNT()})\n",
    "raw_productId_count_trunc = raw_productId_count[raw_productId_count['count']>=k]\n",
    "rawData_trunc = rawData.join(raw_productId_count_trunc)   \n",
    "final_model = gl.item_similarity_recommender.create(rawData_trunc,user_id='user_id',item_id='product_id',similarity_type='jaccard',\n",
    "                                                  verbose=False)"
   ]
  },
  {
   "cell_type": "markdown",
   "metadata": {},
   "source": [
    "### Creating the recommendation list"
   ]
  },
  {
   "cell_type": "code",
   "execution_count": 10,
   "metadata": {
    "collapsed": false
   },
   "outputs": [],
   "source": [
    "recommended_products = final_model.recommend(users=rawData['user_id'].unique(),k=1, verbose=False)"
   ]
  },
  {
   "cell_type": "code",
   "execution_count": 14,
   "metadata": {
    "collapsed": false
   },
   "outputs": [
    {
     "data": {
      "text/html": [
       "<div style=\"max-height:1000px;max-width:1500px;overflow:auto;\"><table frame=\"box\" rules=\"cols\">\n",
       "    <tr>\n",
       "        <th style=\"padding-left: 1em; padding-right: 1em; text-align: center\">user_id</th>\n",
       "        <th style=\"padding-left: 1em; padding-right: 1em; text-align: center\">product_id</th>\n",
       "        <th style=\"padding-left: 1em; padding-right: 1em; text-align: center\">score</th>\n",
       "        <th style=\"padding-left: 1em; padding-right: 1em; text-align: center\">rank</th>\n",
       "    </tr>\n",
       "    <tr>\n",
       "        <td style=\"padding-left: 1em; padding-right: 1em; text-align: center; vertical-align: top\">21855</td>\n",
       "        <td style=\"padding-left: 1em; padding-right: 1em; text-align: center; vertical-align: top\">91410</td>\n",
       "        <td style=\"padding-left: 1em; padding-right: 1em; text-align: center; vertical-align: top\">0.0283252231764</td>\n",
       "        <td style=\"padding-left: 1em; padding-right: 1em; text-align: center; vertical-align: top\">1</td>\n",
       "    </tr>\n",
       "    <tr>\n",
       "        <td style=\"padding-left: 1em; padding-right: 1em; text-align: center; vertical-align: top\">88004</td>\n",
       "        <td style=\"padding-left: 1em; padding-right: 1em; text-align: center; vertical-align: top\">153231</td>\n",
       "        <td style=\"padding-left: 1em; padding-right: 1em; text-align: center; vertical-align: top\">0.00828025477707</td>\n",
       "        <td style=\"padding-left: 1em; padding-right: 1em; text-align: center; vertical-align: top\">1</td>\n",
       "    </tr>\n",
       "    <tr>\n",
       "        <td style=\"padding-left: 1em; padding-right: 1em; text-align: center; vertical-align: top\">79732</td>\n",
       "        <td style=\"padding-left: 1em; padding-right: 1em; text-align: center; vertical-align: top\">10547</td>\n",
       "        <td style=\"padding-left: 1em; padding-right: 1em; text-align: center; vertical-align: top\">0.0191628529172</td>\n",
       "        <td style=\"padding-left: 1em; padding-right: 1em; text-align: center; vertical-align: top\">1</td>\n",
       "    </tr>\n",
       "    <tr>\n",
       "        <td style=\"padding-left: 1em; padding-right: 1em; text-align: center; vertical-align: top\">63664</td>\n",
       "        <td style=\"padding-left: 1em; padding-right: 1em; text-align: center; vertical-align: top\">38282</td>\n",
       "        <td style=\"padding-left: 1em; padding-right: 1em; text-align: center; vertical-align: top\">0.0254545454545</td>\n",
       "        <td style=\"padding-left: 1em; padding-right: 1em; text-align: center; vertical-align: top\">1</td>\n",
       "    </tr>\n",
       "    <tr>\n",
       "        <td style=\"padding-left: 1em; padding-right: 1em; text-align: center; vertical-align: top\">7899</td>\n",
       "        <td style=\"padding-left: 1em; padding-right: 1em; text-align: center; vertical-align: top\">51862</td>\n",
       "        <td style=\"padding-left: 1em; padding-right: 1em; text-align: center; vertical-align: top\">0.0429483476676</td>\n",
       "        <td style=\"padding-left: 1em; padding-right: 1em; text-align: center; vertical-align: top\">1</td>\n",
       "    </tr>\n",
       "    <tr>\n",
       "        <td style=\"padding-left: 1em; padding-right: 1em; text-align: center; vertical-align: top\">25263</td>\n",
       "        <td style=\"padding-left: 1em; padding-right: 1em; text-align: center; vertical-align: top\">132364</td>\n",
       "        <td style=\"padding-left: 1em; padding-right: 1em; text-align: center; vertical-align: top\">0.0175530672907</td>\n",
       "        <td style=\"padding-left: 1em; padding-right: 1em; text-align: center; vertical-align: top\">1</td>\n",
       "    </tr>\n",
       "    <tr>\n",
       "        <td style=\"padding-left: 1em; padding-right: 1em; text-align: center; vertical-align: top\">87629</td>\n",
       "        <td style=\"padding-left: 1em; padding-right: 1em; text-align: center; vertical-align: top\">14766</td>\n",
       "        <td style=\"padding-left: 1em; padding-right: 1em; text-align: center; vertical-align: top\">0.115994489909</td>\n",
       "        <td style=\"padding-left: 1em; padding-right: 1em; text-align: center; vertical-align: top\">1</td>\n",
       "    </tr>\n",
       "    <tr>\n",
       "        <td style=\"padding-left: 1em; padding-right: 1em; text-align: center; vertical-align: top\">30621</td>\n",
       "        <td style=\"padding-left: 1em; padding-right: 1em; text-align: center; vertical-align: top\">3263</td>\n",
       "        <td style=\"padding-left: 1em; padding-right: 1em; text-align: center; vertical-align: top\">0.0208543558695</td>\n",
       "        <td style=\"padding-left: 1em; padding-right: 1em; text-align: center; vertical-align: top\">1</td>\n",
       "    </tr>\n",
       "    <tr>\n",
       "        <td style=\"padding-left: 1em; padding-right: 1em; text-align: center; vertical-align: top\">43116</td>\n",
       "        <td style=\"padding-left: 1em; padding-right: 1em; text-align: center; vertical-align: top\">4886</td>\n",
       "        <td style=\"padding-left: 1em; padding-right: 1em; text-align: center; vertical-align: top\">0.0424757621556</td>\n",
       "        <td style=\"padding-left: 1em; padding-right: 1em; text-align: center; vertical-align: top\">1</td>\n",
       "    </tr>\n",
       "    <tr>\n",
       "        <td style=\"padding-left: 1em; padding-right: 1em; text-align: center; vertical-align: top\">82163</td>\n",
       "        <td style=\"padding-left: 1em; padding-right: 1em; text-align: center; vertical-align: top\">9855</td>\n",
       "        <td style=\"padding-left: 1em; padding-right: 1em; text-align: center; vertical-align: top\">0.0588791565237</td>\n",
       "        <td style=\"padding-left: 1em; padding-right: 1em; text-align: center; vertical-align: top\">1</td>\n",
       "    </tr>\n",
       "</table>\n",
       "[10 rows x 4 columns]<br/>\n",
       "</div>"
      ],
      "text/plain": [
       "Columns:\n",
       "\tuser_id\tint\n",
       "\tproduct_id\tint\n",
       "\tscore\tfloat\n",
       "\trank\tint\n",
       "\n",
       "Rows: 10\n",
       "\n",
       "Data:\n",
       "+---------+------------+------------------+------+\n",
       "| user_id | product_id |      score       | rank |\n",
       "+---------+------------+------------------+------+\n",
       "|  21855  |   91410    | 0.0283252231764  |  1   |\n",
       "|  88004  |   153231   | 0.00828025477707 |  1   |\n",
       "|  79732  |   10547    | 0.0191628529172  |  1   |\n",
       "|  63664  |   38282    | 0.0254545454545  |  1   |\n",
       "|   7899  |   51862    | 0.0429483476676  |  1   |\n",
       "|  25263  |   132364   | 0.0175530672907  |  1   |\n",
       "|  87629  |   14766    |  0.115994489909  |  1   |\n",
       "|  30621  |    3263    | 0.0208543558695  |  1   |\n",
       "|  43116  |    4886    | 0.0424757621556  |  1   |\n",
       "|  82163  |    9855    | 0.0588791565237  |  1   |\n",
       "+---------+------------+------------------+------+\n",
       "[10 rows x 4 columns]"
      ]
     },
     "execution_count": 14,
     "metadata": {},
     "output_type": "execute_result"
    }
   ],
   "source": [
    "recommended_products.head()"
   ]
  },
  {
   "cell_type": "code",
   "execution_count": 16,
   "metadata": {
    "collapsed": false
   },
   "outputs": [],
   "source": [
    "del recommended_products['score']\n",
    "del recommended_products['rank']"
   ]
  },
  {
   "cell_type": "code",
   "execution_count": 17,
   "metadata": {
    "collapsed": false
   },
   "outputs": [],
   "source": [
    "recommended_products = recommended_products.sort('user_id')"
   ]
  },
  {
   "cell_type": "code",
   "execution_count": 28,
   "metadata": {
    "collapsed": false
   },
   "outputs": [],
   "source": [
    "# Saving from pandas data frame to csv is easier.\n",
    "recommended_products = recommended_products.to_dataframe()"
   ]
  },
  {
   "cell_type": "code",
   "execution_count": 30,
   "metadata": {
    "collapsed": false
   },
   "outputs": [
    {
     "data": {
      "text/plain": [
       "(110000, 2)"
      ]
     },
     "execution_count": 30,
     "metadata": {},
     "output_type": "execute_result"
    }
   ],
   "source": [
    "recommended_products.shape"
   ]
  },
  {
   "cell_type": "code",
   "execution_count": 29,
   "metadata": {
    "collapsed": false
   },
   "outputs": [
    {
     "data": {
      "text/html": [
       "<div>\n",
       "<table border=\"1\" class=\"dataframe\">\n",
       "  <thead>\n",
       "    <tr style=\"text-align: right;\">\n",
       "      <th></th>\n",
       "      <th>user_id</th>\n",
       "      <th>product_id</th>\n",
       "    </tr>\n",
       "  </thead>\n",
       "  <tbody>\n",
       "    <tr>\n",
       "      <th>0</th>\n",
       "      <td>1</td>\n",
       "      <td>52928</td>\n",
       "    </tr>\n",
       "    <tr>\n",
       "      <th>1</th>\n",
       "      <td>2</td>\n",
       "      <td>82238</td>\n",
       "    </tr>\n",
       "    <tr>\n",
       "      <th>2</th>\n",
       "      <td>3</td>\n",
       "      <td>115771</td>\n",
       "    </tr>\n",
       "    <tr>\n",
       "      <th>3</th>\n",
       "      <td>4</td>\n",
       "      <td>102612</td>\n",
       "    </tr>\n",
       "    <tr>\n",
       "      <th>4</th>\n",
       "      <td>5</td>\n",
       "      <td>70312</td>\n",
       "    </tr>\n",
       "  </tbody>\n",
       "</table>\n",
       "</div>"
      ],
      "text/plain": [
       "   user_id  product_id\n",
       "0        1       52928\n",
       "1        2       82238\n",
       "2        3      115771\n",
       "3        4      102612\n",
       "4        5       70312"
      ]
     },
     "execution_count": 29,
     "metadata": {},
     "output_type": "execute_result"
    }
   ],
   "source": [
    "recommended_products.head()"
   ]
  },
  {
   "cell_type": "code",
   "execution_count": 32,
   "metadata": {
    "collapsed": true
   },
   "outputs": [],
   "source": [
    "recommended_products.to_csv('Full-Recommended-List.csv',index=False)"
   ]
  }
 ],
 "metadata": {
  "kernelspec": {
   "display_name": "Python 2",
   "language": "python",
   "name": "python2"
  },
  "language_info": {
   "codemirror_mode": {
    "name": "ipython",
    "version": 2
   },
   "file_extension": ".py",
   "mimetype": "text/x-python",
   "name": "python",
   "nbconvert_exporter": "python",
   "pygments_lexer": "ipython2",
   "version": "2.7.11"
  }
 },
 "nbformat": 4,
 "nbformat_minor": 0
}
