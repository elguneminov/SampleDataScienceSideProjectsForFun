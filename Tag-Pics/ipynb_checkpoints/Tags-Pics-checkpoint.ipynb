{
 "cells": [
  {
   "cell_type": "code",
   "execution_count": 2,
   "metadata": {
    "collapsed": true
   },
   "outputs": [],
   "source": [
    "import pandas as pd\n",
    "import numpy as np\n",
    "from clarifai.client import ClarifaiApi\n",
    "import matplotlib.pyplot as plt\n",
    "%matplotlib inline"
   ]
  },
  {
   "cell_type": "code",
   "execution_count": 13,
   "metadata": {
    "collapsed": true
   },
   "outputs": [],
   "source": [
    "CLARIFAI_APP_ID=# Your Private ID\n",
    "CLARIFAI_APP_SECRET=# Your Private Key\n",
    "clarifai_api = ClarifaiApi(CLARIFAI_APP_ID,CLARIFAI_APP_SECRET) # assumes environment variables are set."
   ]
  },
  {
   "cell_type": "code",
   "execution_count": 3,
   "metadata": {
    "collapsed": false
   },
   "outputs": [],
   "source": [
    "data = pd.read_csv('CleanDataKeyEntry-MainData.csv')"
   ]
  },
  {
   "cell_type": "code",
   "execution_count": 5,
   "metadata": {
    "collapsed": false
   },
   "outputs": [],
   "source": [
    "data_imag = data[['key','images']]"
   ]
  },
  {
   "cell_type": "code",
   "execution_count": 25,
   "metadata": {
    "collapsed": true
   },
   "outputs": [],
   "source": [
    "ind = data_imag.images.isnull()\n",
    "data_imag_1 = data_imag[~ind]"
   ]
  },
  {
   "cell_type": "code",
   "execution_count": 70,
   "metadata": {
    "collapsed": true
   },
   "outputs": [],
   "source": [
    "full_set = list(data_imag_1.images)"
   ]
  },
  {
   "cell_type": "code",
   "execution_count": 71,
   "metadata": {
    "collapsed": false
   },
   "outputs": [],
   "source": [
    "data_tags = []\n",
    "for pic_url in full_set:\n",
    "    result = clarifai_api.tag_image_urls(pic_url)\n",
    "    data_tags.append(result['results'][0]['result']['tag']['classes'])"
   ]
  },
  {
   "cell_type": "code",
   "execution_count": 73,
   "metadata": {
    "collapsed": false
   },
   "outputs": [
    {
     "name": "stderr",
     "output_type": "stream",
     "text": [
      "C:\\Users\\Shetty\\Anaconda\\lib\\site-packages\\ipykernel\\__main__.py:1: SettingWithCopyWarning: \n",
      "A value is trying to be set on a copy of a slice from a DataFrame.\n",
      "Try using .loc[row_indexer,col_indexer] = value instead\n",
      "\n",
      "See the caveats in the documentation: http://pandas.pydata.org/pandas-docs/stable/indexing.html#indexing-view-versus-copy\n",
      "  if __name__ == '__main__':\n"
     ]
    }
   ],
   "source": [
    "data_imag_1['tags'] = data_tags"
   ]
  },
  {
   "cell_type": "code",
   "execution_count": 74,
   "metadata": {
    "collapsed": false
   },
   "outputs": [
    {
     "data": {
      "text/html": [
       "<div>\n",
       "<table border=\"1\" class=\"dataframe\">\n",
       "  <thead>\n",
       "    <tr style=\"text-align: right;\">\n",
       "      <th></th>\n",
       "      <th>key</th>\n",
       "      <th>images</th>\n",
       "      <th>tags</th>\n",
       "    </tr>\n",
       "  </thead>\n",
       "  <tbody>\n",
       "    <tr>\n",
       "      <th>0</th>\n",
       "      <td>208</td>\n",
       "      <td>https://s3-external-1.amazonaws.com/offertabs/...</td>\n",
       "      <td>[competition, race, man, sitting, action, cham...</td>\n",
       "    </tr>\n",
       "    <tr>\n",
       "      <th>1</th>\n",
       "      <td>303</td>\n",
       "      <td>https://s3-external-1.amazonaws.com/offertabs/...</td>\n",
       "      <td>[illustration, art, people, painting, vintage,...</td>\n",
       "    </tr>\n",
       "    <tr>\n",
       "      <th>2</th>\n",
       "      <td>688</td>\n",
       "      <td>https://s3-external-1.amazonaws.com/offertabs/...</td>\n",
       "      <td>[tree, no person, nature, leaf, landscape, out...</td>\n",
       "    </tr>\n",
       "    <tr>\n",
       "      <th>4</th>\n",
       "      <td>9</td>\n",
       "      <td>https://s3-external-1.amazonaws.com/offertabs/...</td>\n",
       "      <td>[hand, baby, child, newborn, sleep, cover, bed...</td>\n",
       "    </tr>\n",
       "    <tr>\n",
       "      <th>5</th>\n",
       "      <td>225</td>\n",
       "      <td>https://s3-external-1.amazonaws.com/offertabs/...</td>\n",
       "      <td>[wedding, bride, fashion, veil, dress, woman, ...</td>\n",
       "    </tr>\n",
       "  </tbody>\n",
       "</table>\n",
       "</div>"
      ],
      "text/plain": [
       "   key                                             images  \\\n",
       "0  208  https://s3-external-1.amazonaws.com/offertabs/...   \n",
       "1  303  https://s3-external-1.amazonaws.com/offertabs/...   \n",
       "2  688  https://s3-external-1.amazonaws.com/offertabs/...   \n",
       "4    9  https://s3-external-1.amazonaws.com/offertabs/...   \n",
       "5  225  https://s3-external-1.amazonaws.com/offertabs/...   \n",
       "\n",
       "                                                tags  \n",
       "0  [competition, race, man, sitting, action, cham...  \n",
       "1  [illustration, art, people, painting, vintage,...  \n",
       "2  [tree, no person, nature, leaf, landscape, out...  \n",
       "4  [hand, baby, child, newborn, sleep, cover, bed...  \n",
       "5  [wedding, bride, fashion, veil, dress, woman, ...  "
      ]
     },
     "execution_count": 74,
     "metadata": {},
     "output_type": "execute_result"
    }
   ],
   "source": [
    "data_imag_1.head()"
   ]
  },
  {
   "cell_type": "code",
   "execution_count": 45,
   "metadata": {
    "collapsed": false
   },
   "outputs": [],
   "source": [
    "data_test.to_csv('tags.csv',index=False)"
   ]
  },
  {
   "cell_type": "code",
   "execution_count": 75,
   "metadata": {
    "collapsed": false
   },
   "outputs": [],
   "source": [
    "data_imag_1.to_excel('image-tags.xls',index=False)"
   ]
  }
 ],
 "metadata": {
  "kernelspec": {
   "display_name": "Python 2",
   "language": "python",
   "name": "python2"
  },
  "language_info": {
   "codemirror_mode": {
    "name": "ipython",
    "version": 2
   },
   "file_extension": ".py",
   "mimetype": "text/x-python",
   "name": "python",
   "nbconvert_exporter": "python",
   "pygments_lexer": "ipython2",
   "version": "2.7.11"
  }
 },
 "nbformat": 4,
 "nbformat_minor": 0
}
