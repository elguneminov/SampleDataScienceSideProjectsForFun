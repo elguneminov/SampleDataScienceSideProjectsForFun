{
 "cells": [
  {
   "cell_type": "markdown",
   "metadata": {},
   "source": [
    "#### In this section, we will acquire and analyze a real dataset on baby name popularity provided by the Social Security Administration."
   ]
  },
  {
   "cell_type": "code",
   "execution_count": 2,
   "metadata": {
    "collapsed": true
   },
   "outputs": [],
   "source": [
    "# Import all the necessary libraries\n",
    "\n",
    "%matplotlib inline \n",
    "\n",
    "import numpy as np\n",
    "import pandas as pd\n",
    "import matplotlib.pyplot as plt\n",
    "import scipy.stats \n",
    "\n",
    "# To read zip files\n",
    "import requests\n",
    "import StringIO\n",
    "import zipfile"
   ]
  },
  {
   "cell_type": "code",
   "execution_count": 3,
   "metadata": {
    "collapsed": true
   },
   "outputs": [],
   "source": [
    "# Helper function to download zipped datafile into memory directly from the internet\n",
    "def getZIP(zipFileName):\n",
    "    r = requests.get(zipFileName).content\n",
    "    s = StringIO.StringIO(r)\n",
    "    zf = zipfile.ZipFile(s, 'r') # Read in a list of zipped files\n",
    "    return zf"
   ]
  },
  {
   "cell_type": "code",
   "execution_count": 4,
   "metadata": {
    "collapsed": false
   },
   "outputs": [
    {
     "name": "stdout",
     "output_type": "stream",
     "text": [
      "['NC.TXT', 'ND.TXT', 'NE.TXT', 'NH.TXT', 'NJ.TXT', 'NM.TXT', 'NV.TXT', 'NY.TXT', 'OH.TXT', 'OK.TXT', 'OR.TXT', 'PA.TXT', 'RI.TXT', 'SC.TXT', 'SD.TXT', 'StateReadMe.pdf', 'TN.TXT', 'TX.TXT', 'UT.TXT', 'VA.TXT', 'VT.TXT', 'WA.TXT', 'WI.TXT', 'WV.TXT', 'WY.TXT', 'AK.TXT', 'AL.TXT', 'AR.TXT', 'AZ.TXT', 'CA.TXT', 'CO.TXT', 'CT.TXT', 'DC.TXT', 'DE.TXT', 'FL.TXT', 'GA.TXT', 'HI.TXT', 'IA.TXT', 'ID.TXT', 'IL.TXT', 'IN.TXT', 'KS.TXT', 'KY.TXT', 'LA.TXT', 'MA.TXT', 'MD.TXT', 'ME.TXT', 'MI.TXT', 'MN.TXT', 'MO.TXT', 'MS.TXT', 'MT.TXT']\n"
     ]
    }
   ],
   "source": [
    "# Warning: This might take 2-3 mins\n",
    "url = 'http://www.ssa.gov/oact/babynames/state/namesbystate.zip'\n",
    "zf = getZIP(url)\n",
    "print zf.namelist()"
   ]
  },
  {
   "cell_type": "markdown",
   "metadata": {},
   "source": [
    "### Analysis of Texas data file"
   ]
  },
  {
   "cell_type": "code",
   "execution_count": 5,
   "metadata": {
    "collapsed": false
   },
   "outputs": [
    {
     "name": "stdout",
     "output_type": "stream",
     "text": [
      "Number of rows: 324133\n"
     ]
    },
    {
     "data": {
      "text/html": [
       "<div>\n",
       "<table border=\"1\" class=\"dataframe\">\n",
       "  <thead>\n",
       "    <tr style=\"text-align: right;\">\n",
       "      <th></th>\n",
       "      <th>State</th>\n",
       "      <th>Sex</th>\n",
       "      <th>Year</th>\n",
       "      <th>Name</th>\n",
       "      <th>NumOcc</th>\n",
       "    </tr>\n",
       "  </thead>\n",
       "  <tbody>\n",
       "    <tr>\n",
       "      <th>0</th>\n",
       "      <td>TX</td>\n",
       "      <td>F</td>\n",
       "      <td>1910</td>\n",
       "      <td>Mary</td>\n",
       "      <td>895</td>\n",
       "    </tr>\n",
       "    <tr>\n",
       "      <th>1</th>\n",
       "      <td>TX</td>\n",
       "      <td>F</td>\n",
       "      <td>1910</td>\n",
       "      <td>Ruby</td>\n",
       "      <td>314</td>\n",
       "    </tr>\n",
       "    <tr>\n",
       "      <th>2</th>\n",
       "      <td>TX</td>\n",
       "      <td>F</td>\n",
       "      <td>1910</td>\n",
       "      <td>Annie</td>\n",
       "      <td>277</td>\n",
       "    </tr>\n",
       "    <tr>\n",
       "      <th>3</th>\n",
       "      <td>TX</td>\n",
       "      <td>F</td>\n",
       "      <td>1910</td>\n",
       "      <td>Willie</td>\n",
       "      <td>260</td>\n",
       "    </tr>\n",
       "    <tr>\n",
       "      <th>4</th>\n",
       "      <td>TX</td>\n",
       "      <td>F</td>\n",
       "      <td>1910</td>\n",
       "      <td>Ruth</td>\n",
       "      <td>252</td>\n",
       "    </tr>\n",
       "  </tbody>\n",
       "</table>\n",
       "</div>"
      ],
      "text/plain": [
       "  State Sex  Year    Name  NumOcc\n",
       "0    TX   F  1910    Mary     895\n",
       "1    TX   F  1910    Ruby     314\n",
       "2    TX   F  1910   Annie     277\n",
       "3    TX   F  1910  Willie     260\n",
       "4    TX   F  1910    Ruth     252"
      ]
     },
     "execution_count": 5,
     "metadata": {},
     "output_type": "execute_result"
    }
   ],
   "source": [
    "# Lets open the Texas file\n",
    "colNames = ['State','Sex','Year','Name','NumOcc']\n",
    "txFile = pd.read_csv(zf.open('TX.TXT'),header=None,names=colNames)\n",
    "print \"Number of rows: %i\" % txFile.shape[0]\n",
    "txFile.head()"
   ]
  },
  {
   "cell_type": "code",
   "execution_count": 6,
   "metadata": {
    "collapsed": false
   },
   "outputs": [
    {
     "data": {
      "text/html": [
       "<div>\n",
       "<table border=\"1\" class=\"dataframe\">\n",
       "  <thead>\n",
       "    <tr style=\"text-align: right;\">\n",
       "      <th></th>\n",
       "      <th>State</th>\n",
       "      <th>Sex</th>\n",
       "      <th>Year</th>\n",
       "      <th>Name</th>\n",
       "      <th>NumOcc</th>\n",
       "    </tr>\n",
       "  </thead>\n",
       "  <tbody>\n",
       "    <tr>\n",
       "      <th>324128</th>\n",
       "      <td>TX</td>\n",
       "      <td>M</td>\n",
       "      <td>2014</td>\n",
       "      <td>Zavien</td>\n",
       "      <td>5</td>\n",
       "    </tr>\n",
       "    <tr>\n",
       "      <th>324129</th>\n",
       "      <td>TX</td>\n",
       "      <td>M</td>\n",
       "      <td>2014</td>\n",
       "      <td>Zavior</td>\n",
       "      <td>5</td>\n",
       "    </tr>\n",
       "    <tr>\n",
       "      <th>324130</th>\n",
       "      <td>TX</td>\n",
       "      <td>M</td>\n",
       "      <td>2014</td>\n",
       "      <td>Zeppelin</td>\n",
       "      <td>5</td>\n",
       "    </tr>\n",
       "    <tr>\n",
       "      <th>324131</th>\n",
       "      <td>TX</td>\n",
       "      <td>M</td>\n",
       "      <td>2014</td>\n",
       "      <td>Zev</td>\n",
       "      <td>5</td>\n",
       "    </tr>\n",
       "    <tr>\n",
       "      <th>324132</th>\n",
       "      <td>TX</td>\n",
       "      <td>M</td>\n",
       "      <td>2014</td>\n",
       "      <td>Zlatan</td>\n",
       "      <td>5</td>\n",
       "    </tr>\n",
       "  </tbody>\n",
       "</table>\n",
       "</div>"
      ],
      "text/plain": [
       "       State Sex  Year      Name  NumOcc\n",
       "324128    TX   M  2014    Zavien       5\n",
       "324129    TX   M  2014    Zavior       5\n",
       "324130    TX   M  2014  Zeppelin       5\n",
       "324131    TX   M  2014       Zev       5\n",
       "324132    TX   M  2014    Zlatan       5"
      ]
     },
     "execution_count": 6,
     "metadata": {},
     "output_type": "execute_result"
    }
   ],
   "source": [
    "txFile.tail()"
   ]
  },
  {
   "cell_type": "code",
   "execution_count": 7,
   "metadata": {
    "collapsed": false
   },
   "outputs": [
    {
     "data": {
      "text/html": [
       "<div>\n",
       "<table border=\"1\" class=\"dataframe\">\n",
       "  <thead>\n",
       "    <tr style=\"text-align: right;\">\n",
       "      <th></th>\n",
       "      <th>Year</th>\n",
       "      <th>NumOcc</th>\n",
       "    </tr>\n",
       "  </thead>\n",
       "  <tbody>\n",
       "    <tr>\n",
       "      <th>count</th>\n",
       "      <td>324133.000000</td>\n",
       "      <td>324133.000000</td>\n",
       "    </tr>\n",
       "    <tr>\n",
       "      <th>mean</th>\n",
       "      <td>1974.690720</td>\n",
       "      <td>67.320153</td>\n",
       "    </tr>\n",
       "    <tr>\n",
       "      <th>std</th>\n",
       "      <td>29.809297</td>\n",
       "      <td>212.191928</td>\n",
       "    </tr>\n",
       "    <tr>\n",
       "      <th>min</th>\n",
       "      <td>1910.000000</td>\n",
       "      <td>5.000000</td>\n",
       "    </tr>\n",
       "    <tr>\n",
       "      <th>25%</th>\n",
       "      <td>1951.000000</td>\n",
       "      <td>7.000000</td>\n",
       "    </tr>\n",
       "    <tr>\n",
       "      <th>50%</th>\n",
       "      <td>1981.000000</td>\n",
       "      <td>13.000000</td>\n",
       "    </tr>\n",
       "    <tr>\n",
       "      <th>75%</th>\n",
       "      <td>2001.000000</td>\n",
       "      <td>40.000000</td>\n",
       "    </tr>\n",
       "    <tr>\n",
       "      <th>max</th>\n",
       "      <td>2014.000000</td>\n",
       "      <td>5060.000000</td>\n",
       "    </tr>\n",
       "  </tbody>\n",
       "</table>\n",
       "</div>"
      ],
      "text/plain": [
       "                Year         NumOcc\n",
       "count  324133.000000  324133.000000\n",
       "mean     1974.690720      67.320153\n",
       "std        29.809297     212.191928\n",
       "min      1910.000000       5.000000\n",
       "25%      1951.000000       7.000000\n",
       "50%      1981.000000      13.000000\n",
       "75%      2001.000000      40.000000\n",
       "max      2014.000000    5060.000000"
      ]
     },
     "execution_count": 7,
     "metadata": {},
     "output_type": "execute_result"
    }
   ],
   "source": [
    "txFile.describe()"
   ]
  },
  {
   "cell_type": "code",
   "execution_count": 8,
   "metadata": {
    "collapsed": true
   },
   "outputs": [],
   "source": [
    "boys = txFile[txFile.Sex=='M']\n",
    "girls = txFile[txFile.Sex=='F']"
   ]
  },
  {
   "cell_type": "code",
   "execution_count": 9,
   "metadata": {
    "collapsed": false
   },
   "outputs": [
    {
     "data": {
      "text/plain": [
       "True"
      ]
     },
     "execution_count": 9,
     "metadata": {},
     "output_type": "execute_result"
    }
   ],
   "source": [
    "# Checking to see if some names that clearly belong to one sex are also present in the other sex such \n",
    "# as 'Mary'\n",
    "any(boys.Name == 'Mary')"
   ]
  },
  {
   "cell_type": "markdown",
   "metadata": {},
   "source": [
    "### Q. Please describe the format of the data files. Can you identify any limitations or distortions of the data?"
   ]
  },
  {
   "cell_type": "markdown",
   "metadata": {},
   "source": [
    "The format of the data file is a mix of type text and integer. \n",
    "* Files with mix types of data are generally harder to work with compared to those of one type only - for e.g. integer. \n",
    "* Column names are missing - a data scientist must refer to the accompaining 'StateReadMe' pdf to confirm their assumptions. Column names have to be manually added.\n",
    "* In the Texas file, there is some distortion for e.g. 'Mary' although is clearly a girl's name also appears in a small number of cases in boys dataset."
   ]
  },
  {
   "cell_type": "code",
   "execution_count": 10,
   "metadata": {
    "collapsed": false
   },
   "outputs": [
    {
     "data": {
      "text/plain": [
       "Year  Sex\n",
       "1910  F       579\n",
       "      M       343\n",
       "1911  F       582\n",
       "      M       368\n",
       "1912  F       699\n",
       "      M       546\n",
       "1913  F       751\n",
       "      M       640\n",
       "1914  F       803\n",
       "      M       720\n",
       "1915  F       931\n",
       "      M       813\n",
       "1916  F       968\n",
       "      M       848\n",
       "1917  F       961\n",
       "      M       842\n",
       "1918  F       985\n",
       "      M       850\n",
       "1919  F      1011\n",
       "      M       936\n",
       "1920  F      1050\n",
       "      M       984\n",
       "1921  F      1078\n",
       "      M      1006\n",
       "1922  F      1071\n",
       "      M      1018\n",
       "1923  F      1082\n",
       "      M       985\n",
       "1924  F      1127\n",
       "      M      1029\n",
       "             ... \n",
       "2000  F      3007\n",
       "      M      2056\n",
       "2001  F      3121\n",
       "      M      2142\n",
       "2002  F      3220\n",
       "      M      2167\n",
       "2003  F      3315\n",
       "      M      2195\n",
       "2004  F      3347\n",
       "      M      2287\n",
       "2005  F      3408\n",
       "      M      2391\n",
       "2006  F      3533\n",
       "      M      2406\n",
       "2007  F      3695\n",
       "      M      2522\n",
       "2008  F      3692\n",
       "      M      2574\n",
       "2009  F      3779\n",
       "      M      2597\n",
       "2010  F      3648\n",
       "      M      2575\n",
       "2011  F      3603\n",
       "      M      2570\n",
       "2012  F      3664\n",
       "      M      2607\n",
       "2013  F      3679\n",
       "      M      2594\n",
       "2014  F      3712\n",
       "      M      2668\n",
       "dtype: int64"
      ]
     },
     "execution_count": 10,
     "metadata": {},
     "output_type": "execute_result"
    }
   ],
   "source": [
    "# Grouping by year and sex\n",
    "txFile.groupby(['Year','Sex']).size()"
   ]
  },
  {
   "cell_type": "markdown",
   "metadata": {},
   "source": [
    "Observation: Gradual increase in the diversity of names with each passing year from 579 (F,1910) to 3712 (F,2014). \n"
   ]
  },
  {
   "cell_type": "markdown",
   "metadata": {},
   "source": [
    "### Q. Find out the most popular name of all time for either gender\n",
    "#### A. Mary (F), James (M)"
   ]
  },
  {
   "cell_type": "code",
   "execution_count": 11,
   "metadata": {
    "collapsed": false
   },
   "outputs": [],
   "source": [
    "# Import all the files into memory in one big data frame\n",
    "stateList = zf.namelist()\n",
    "stateList.remove('StateReadMe.pdf')\n",
    "allStates = pd.DataFrame(columns = colNames) # Create an empty dataframe\n",
    "for file in stateList:\n",
    "    #print file\n",
    "    data = pd.read_csv(zf.open(file),header=None,names=colNames,index_col=False)\n",
    "    allStates = allStates.append(data,ignore_index=True)\n",
    "#zf.close()"
   ]
  },
  {
   "cell_type": "code",
   "execution_count": 12,
   "metadata": {
    "collapsed": false
   },
   "outputs": [],
   "source": [
    "#allStates = allNames\n",
    "#%reset_selective allNames"
   ]
  },
  {
   "cell_type": "code",
   "execution_count": 13,
   "metadata": {
    "collapsed": false
   },
   "outputs": [
    {
     "data": {
      "text/plain": [
       "(5647426, 5)"
      ]
     },
     "execution_count": 13,
     "metadata": {},
     "output_type": "execute_result"
    }
   ],
   "source": [
    "allStates.shape"
   ]
  },
  {
   "cell_type": "code",
   "execution_count": 14,
   "metadata": {
    "collapsed": false
   },
   "outputs": [],
   "source": [
    "allBoys = allStates[allStates.Sex=='M']\n",
    "allGirls = allStates[allStates.Sex == 'F']\n",
    "#allStates.groupby(['Sex','Name']).NumOcc.sum()['F'].idxmax()"
   ]
  },
  {
   "cell_type": "code",
   "execution_count": 15,
   "metadata": {
    "collapsed": false
   },
   "outputs": [
    {
     "name": "stdout",
     "output_type": "stream",
     "text": [
      "(2493417, 5) (3154009, 5) (5647426, 5)\n"
     ]
    }
   ],
   "source": [
    "print allBoys.shape, allGirls.shape, allStates.shape"
   ]
  },
  {
   "cell_type": "code",
   "execution_count": 16,
   "metadata": {
    "collapsed": false
   },
   "outputs": [
    {
     "name": "stdout",
     "output_type": "stream",
     "text": [
      "Once deleted, variables cannot be recovered. Proceed (y/[n])?  n\n",
      "Nothing done.\n"
     ]
    }
   ],
   "source": [
    "%reset_selective allStates"
   ]
  },
  {
   "cell_type": "code",
   "execution_count": 17,
   "metadata": {
    "collapsed": false
   },
   "outputs": [
    {
     "data": {
      "text/plain": [
       "'James'"
      ]
     },
     "execution_count": 17,
     "metadata": {},
     "output_type": "execute_result"
    }
   ],
   "source": [
    "# Find the most popular name of all time ['M']:\n",
    "allBoys.groupby('Name').NumOcc.sum().idxmax()"
   ]
  },
  {
   "cell_type": "code",
   "execution_count": 18,
   "metadata": {
    "collapsed": false
   },
   "outputs": [
    {
     "data": {
      "text/plain": [
       "'Mary'"
      ]
     },
     "execution_count": 18,
     "metadata": {},
     "output_type": "execute_result"
    }
   ],
   "source": [
    "# Find the most popular name of all time ['F']:\n",
    "allGirls.groupby('Name').NumOcc.sum().idxmax()"
   ]
  },
  {
   "cell_type": "markdown",
   "metadata": {},
   "source": [
    "### Q What is the most gender ambiguous name in 2013? 1945?\n",
    "#### A. Likely ambigious names for the year 2013 and 1945 are Milan and Lavern respectively"
   ]
  },
  {
   "cell_type": "code",
   "execution_count": 19,
   "metadata": {
    "collapsed": false
   },
   "outputs": [],
   "source": [
    "# Index by year and name for this question for faster retrieval\n",
    "indBoys = allBoys.set_index(['Year'])\n",
    "indGirls = allGirls.set_index(['Year'])"
   ]
  },
  {
   "cell_type": "code",
   "execution_count": 20,
   "metadata": {
    "collapsed": false
   },
   "outputs": [
    {
     "data": {
      "text/html": [
       "<div>\n",
       "<table border=\"1\" class=\"dataframe\">\n",
       "  <thead>\n",
       "    <tr style=\"text-align: right;\">\n",
       "      <th></th>\n",
       "      <th>State</th>\n",
       "      <th>Sex</th>\n",
       "      <th>Name</th>\n",
       "      <th>NumOcc</th>\n",
       "    </tr>\n",
       "    <tr>\n",
       "      <th>Year</th>\n",
       "      <th></th>\n",
       "      <th></th>\n",
       "      <th></th>\n",
       "      <th></th>\n",
       "    </tr>\n",
       "  </thead>\n",
       "  <tbody>\n",
       "    <tr>\n",
       "      <th>1910</th>\n",
       "      <td>NC</td>\n",
       "      <td>M</td>\n",
       "      <td>James</td>\n",
       "      <td>612</td>\n",
       "    </tr>\n",
       "    <tr>\n",
       "      <th>1910</th>\n",
       "      <td>NC</td>\n",
       "      <td>M</td>\n",
       "      <td>William</td>\n",
       "      <td>452</td>\n",
       "    </tr>\n",
       "    <tr>\n",
       "      <th>1910</th>\n",
       "      <td>NC</td>\n",
       "      <td>M</td>\n",
       "      <td>John</td>\n",
       "      <td>413</td>\n",
       "    </tr>\n",
       "    <tr>\n",
       "      <th>1910</th>\n",
       "      <td>NC</td>\n",
       "      <td>M</td>\n",
       "      <td>Robert</td>\n",
       "      <td>240</td>\n",
       "    </tr>\n",
       "    <tr>\n",
       "      <th>1910</th>\n",
       "      <td>NC</td>\n",
       "      <td>M</td>\n",
       "      <td>George</td>\n",
       "      <td>215</td>\n",
       "    </tr>\n",
       "  </tbody>\n",
       "</table>\n",
       "</div>"
      ],
      "text/plain": [
       "     State Sex     Name  NumOcc\n",
       "Year                           \n",
       "1910    NC   M    James     612\n",
       "1910    NC   M  William     452\n",
       "1910    NC   M     John     413\n",
       "1910    NC   M   Robert     240\n",
       "1910    NC   M   George     215"
      ]
     },
     "execution_count": 20,
     "metadata": {},
     "output_type": "execute_result"
    }
   ],
   "source": [
    "indBoys.head()"
   ]
  },
  {
   "cell_type": "code",
   "execution_count": 21,
   "metadata": {
    "collapsed": false
   },
   "outputs": [],
   "source": [
    "def findAmbiguous(year):\n",
    "# This function returns the most likely ambigious name (gender wise) for a given year\n",
    "    boysY = indBoys.ix[year][['Name','NumOcc']]\n",
    "    girlsY = indGirls.ix[year][['Name','NumOcc']]\n",
    "    boysYGrouped = pd.DataFrame(boysY.groupby('Name')['NumOcc'].sum())\n",
    "    girlsYGrouped = pd.DataFrame(girlsY.groupby('Name')['NumOcc'].sum())\n",
    "    ind = boysYGrouped.index.intersection(girlsYGrouped.index) # find names that are common\n",
    "    #log ratios of NumOcc are decent indicators of which 2 names are the most ambiguous\n",
    "    ambRatio = np.log(girlsYGrouped.ix[ind])/np.log(boysYGrouped.ix[ind])\n",
    "    ambRatio = ambRatio.query('NumOcc!=1') # remove ratios which equal to 1 as they tend to of lower frequency\n",
    "    print \"Likely ambigious name for the year %d\" %(year) + \" is %s\" %(np.argmin(abs(ambRatio.NumOcc-1)))"
   ]
  },
  {
   "cell_type": "code",
   "execution_count": 22,
   "metadata": {
    "collapsed": false
   },
   "outputs": [
    {
     "name": "stdout",
     "output_type": "stream",
     "text": [
      "Likely ambigious name for the year 2013 is Milan\n"
     ]
    }
   ],
   "source": [
    "findAmbiguous(2013)"
   ]
  },
  {
   "cell_type": "code",
   "execution_count": 23,
   "metadata": {
    "collapsed": false
   },
   "outputs": [
    {
     "name": "stdout",
     "output_type": "stream",
     "text": [
      "Likely ambigious name for the year 1945 is Lavern\n"
     ]
    }
   ],
   "source": [
    "findAmbiguous(1945)"
   ]
  },
  {
   "cell_type": "markdown",
   "metadata": {},
   "source": [
    "### Q. Of the names represented in the data, find the name that has had the largest percentage increase in popularity since 1980. Largest decrease?\n",
    "#### A. Since 1980 Aiden (for boys) and Madison (for girls) has seen the largest increase in popularity. Shaquille (for boys) and Latoya (for girls) have seen their popularity drop the most."
   ]
  },
  {
   "cell_type": "code",
   "execution_count": 24,
   "metadata": {
    "collapsed": true
   },
   "outputs": [],
   "source": [
    "# Index by name for this question for faster retrieval\n",
    "indBoys = allBoys.set_index(['Name'])\n",
    "indGirls = allGirls.set_index(['Name'])"
   ]
  },
  {
   "cell_type": "code",
   "execution_count": 25,
   "metadata": {
    "collapsed": false
   },
   "outputs": [],
   "source": [
    "def IncOrDec(*args, **kwargs):\n",
    "# Finds the largest increase and decrease in popularity. If no year is provided, defaults to beginning\n",
    "# of dataset i.e. 1910    \n",
    "    if args:\n",
    "        year = args[0]\n",
    "    else:\n",
    "        year = 1910\n",
    "    boysY = indBoys[indBoys.Year>=year]\n",
    "    girlsY = indGirls[indGirls.Year>=year]\n",
    "    boysYGrouped = boysY.groupby([boysY.index,'Year'])['NumOcc'].sum()\n",
    "    girlsYGrouped = girlsY.groupby([girlsY.index,'Year'])['NumOcc'].sum()\n",
    "    \n",
    "    def outcome(names,data,gender):\n",
    "# A helper function - names  -> unique names in the dataset\n",
    "#                   - data   -> grouped data by Name, Year        \n",
    "#                   - gender -> 'boys' or 'girls'\n",
    "        inc = {}\n",
    "        dec = {}\n",
    "        for name in names:\n",
    "            record = data.ix[name]\n",
    "            maxValue = record.max()\n",
    "            minValue = record.min()\n",
    "            maxYear = record.argmax()\n",
    "            minYear = record.argmin()\n",
    "            if maxYear<=minYear:\n",
    "                dec[name] = (maxValue-minValue)*1./maxValue\n",
    "            else:\n",
    "                inc[name] = (maxValue-minValue)*1./minValue\n",
    "        perInc = max(inc.values())\n",
    "        perDec = max(dec.values())\n",
    "        nameInc = max(inc.iterkeys(), key=(lambda k: inc[k]))\n",
    "        nameDec = max(dec.iterkeys(), key=(lambda k: dec[k]))\n",
    "        print \"Among %s\" %(gender) + \", %s has seen the highest increase of\" %(nameInc) +\" %.2f percent in popularity\" %(perInc*100)\n",
    "        print \".. and the opposite is true for %s\" %(nameDec) + \" with %.2f percent decrease in popularity\" %(perDec*100)\n",
    "    print \"Since %d:\" %(year)\n",
    "    outcome(boysY.index.unique(),boysYGrouped,'boys')\n",
    "    outcome(girlsY.index.unique(),girlsYGrouped,'girls')"
   ]
  },
  {
   "cell_type": "code",
   "execution_count": 26,
   "metadata": {
    "collapsed": false
   },
   "outputs": [
    {
     "name": "stdout",
     "output_type": "stream",
     "text": [
      "Since 1980:\n",
      "Among boys, Aiden has seen the highest increase of 319900.00 percent in popularity\n",
      ".. and the opposite is true for Shaquille with 99.72 percent decrease in popularity\n",
      "Among girls, Madison has seen the highest increase of 369200.00 percent in popularity\n",
      ".. and the opposite is true for Latoya with 99.90 percent decrease in popularity\n"
     ]
    }
   ],
   "source": [
    "# Find which names are most popular and least popular from a year of interest (YOI)\n",
    "YOI = 1980\n",
    "IncOrDec(YOI)"
   ]
  },
  {
   "cell_type": "markdown",
   "metadata": {},
   "source": [
    "### Q. Can you identify names that may have had an even larger increase or decrease in popularity?\n",
    "#### A. Since 1910, Jason (for boys) and Jennifer (for girls) has seen the largest increase in popularity. Kim (for boys) and Rhonda (for girls) have seen their popularity drop the most        "
   ]
  },
  {
   "cell_type": "code",
   "execution_count": 27,
   "metadata": {
    "collapsed": false
   },
   "outputs": [
    {
     "name": "stdout",
     "output_type": "stream",
     "text": [
      "Since 1910:\n",
      "Among boys, Jason has seen the highest increase of 927383.33 percent in popularity\n",
      ".. and the opposite is true for Kim with 99.86 percent decrease in popularity\n",
      "Among girls, Jennifer has seen the highest increase of 1272020.00 percent in popularity\n",
      ".. and the opposite is true for Rhonda with 99.95 percent decrease in popularity\n"
     ]
    }
   ],
   "source": [
    "# Find which names are most popular and least popular from the full data set.\n",
    "IncOrDec()"
   ]
  },
  {
   "cell_type": "markdown",
   "metadata": {
    "collapsed": true
   },
   "source": [
    "### Additional Insight\n",
    "Let us have a look at [Google books Ngram viewer](https://books.google.com/ngrams/info) - a tool to plot trends of words present in books over a period of time. The y-axis informs us of the presence of any word (in %) amongst other words printed in english books present in that year.\n",
    "Our goal is to find out if there is a correlation between the results in an Ngram viewer and our baby names dataset - i.e. were people naming their babies after the names of popular characters in american books.\n",
    "Since the Ngram viewer is in a ratio (ignore the % units for now), let us also plot our baby names values similarly i.e. for any given year - calculate the ratio of total occurances of a name to total occurances of all names in that year."
   ]
  },
  {
   "cell_type": "code",
   "execution_count": 28,
   "metadata": {
    "collapsed": false
   },
   "outputs": [],
   "source": [
    "# Since we are looking at the ratio of a name to all the names in a year, we will be 'merging' the \n",
    "# two gender divided data sets. We will then sum the occurances of all names in each year.\n",
    "fullDataset = allBoys.append(allGirls)\n",
    "allYearGrouped = fullDataset.groupby('Year')['NumOcc'].sum()\n",
    "allYearGrouped = allYearGrouped.to_frame(name='Pop').reset_index()"
   ]
  },
  {
   "cell_type": "code",
   "execution_count": 29,
   "metadata": {
    "collapsed": false
   },
   "outputs": [
    {
     "data": {
      "text/html": [
       "<div>\n",
       "<table border=\"1\" class=\"dataframe\">\n",
       "  <thead>\n",
       "    <tr style=\"text-align: right;\">\n",
       "      <th></th>\n",
       "      <th>Year</th>\n",
       "      <th>Pop</th>\n",
       "    </tr>\n",
       "  </thead>\n",
       "  <tbody>\n",
       "    <tr>\n",
       "      <th>0</th>\n",
       "      <td>1910</td>\n",
       "      <td>516318</td>\n",
       "    </tr>\n",
       "    <tr>\n",
       "      <th>1</th>\n",
       "      <td>1911</td>\n",
       "      <td>565810</td>\n",
       "    </tr>\n",
       "    <tr>\n",
       "      <th>2</th>\n",
       "      <td>1912</td>\n",
       "      <td>887984</td>\n",
       "    </tr>\n",
       "    <tr>\n",
       "      <th>3</th>\n",
       "      <td>1913</td>\n",
       "      <td>1028553</td>\n",
       "    </tr>\n",
       "    <tr>\n",
       "      <th>4</th>\n",
       "      <td>1914</td>\n",
       "      <td>1293322</td>\n",
       "    </tr>\n",
       "  </tbody>\n",
       "</table>\n",
       "</div>"
      ],
      "text/plain": [
       "   Year      Pop\n",
       "0  1910   516318\n",
       "1  1911   565810\n",
       "2  1912   887984\n",
       "3  1913  1028553\n",
       "4  1914  1293322"
      ]
     },
     "execution_count": 29,
     "metadata": {},
     "output_type": "execute_result"
    }
   ],
   "source": [
    "allYearGrouped.head()"
   ]
  },
  {
   "cell_type": "code",
   "execution_count": 30,
   "metadata": {
    "collapsed": false
   },
   "outputs": [],
   "source": [
    "# Merge the grouped dataset (above, on Year) with the full dataset\n",
    "fullDataset = fullDataset.merge(allYearGrouped,on='Year')"
   ]
  },
  {
   "cell_type": "code",
   "execution_count": 31,
   "metadata": {
    "collapsed": false
   },
   "outputs": [
    {
     "data": {
      "text/html": [
       "<div>\n",
       "<table border=\"1\" class=\"dataframe\">\n",
       "  <thead>\n",
       "    <tr style=\"text-align: right;\">\n",
       "      <th></th>\n",
       "      <th>State</th>\n",
       "      <th>Sex</th>\n",
       "      <th>Year</th>\n",
       "      <th>Name</th>\n",
       "      <th>NumOcc</th>\n",
       "      <th>Pop</th>\n",
       "    </tr>\n",
       "  </thead>\n",
       "  <tbody>\n",
       "    <tr>\n",
       "      <th>0</th>\n",
       "      <td>NC</td>\n",
       "      <td>M</td>\n",
       "      <td>1910</td>\n",
       "      <td>James</td>\n",
       "      <td>612</td>\n",
       "      <td>516318</td>\n",
       "    </tr>\n",
       "    <tr>\n",
       "      <th>1</th>\n",
       "      <td>NC</td>\n",
       "      <td>M</td>\n",
       "      <td>1910</td>\n",
       "      <td>William</td>\n",
       "      <td>452</td>\n",
       "      <td>516318</td>\n",
       "    </tr>\n",
       "    <tr>\n",
       "      <th>2</th>\n",
       "      <td>NC</td>\n",
       "      <td>M</td>\n",
       "      <td>1910</td>\n",
       "      <td>John</td>\n",
       "      <td>413</td>\n",
       "      <td>516318</td>\n",
       "    </tr>\n",
       "    <tr>\n",
       "      <th>3</th>\n",
       "      <td>NC</td>\n",
       "      <td>M</td>\n",
       "      <td>1910</td>\n",
       "      <td>Robert</td>\n",
       "      <td>240</td>\n",
       "      <td>516318</td>\n",
       "    </tr>\n",
       "    <tr>\n",
       "      <th>4</th>\n",
       "      <td>NC</td>\n",
       "      <td>M</td>\n",
       "      <td>1910</td>\n",
       "      <td>George</td>\n",
       "      <td>215</td>\n",
       "      <td>516318</td>\n",
       "    </tr>\n",
       "  </tbody>\n",
       "</table>\n",
       "</div>"
      ],
      "text/plain": [
       "  State Sex  Year     Name  NumOcc     Pop\n",
       "0    NC   M  1910    James     612  516318\n",
       "1    NC   M  1910  William     452  516318\n",
       "2    NC   M  1910     John     413  516318\n",
       "3    NC   M  1910   Robert     240  516318\n",
       "4    NC   M  1910   George     215  516318"
      ]
     },
     "execution_count": 31,
     "metadata": {},
     "output_type": "execute_result"
    }
   ],
   "source": [
    "fullDataset.head()"
   ]
  },
  {
   "cell_type": "code",
   "execution_count": 32,
   "metadata": {
    "collapsed": true
   },
   "outputs": [],
   "source": [
    "# Calculate the ratio of occurance of a name against the total occurances of all names in that year\n",
    "fullDataset['Prop'] = fullDataset.NumOcc/fullDataset.Pop"
   ]
  },
  {
   "cell_type": "code",
   "execution_count": 33,
   "metadata": {
    "collapsed": false
   },
   "outputs": [
    {
     "data": {
      "text/html": [
       "<div>\n",
       "<table border=\"1\" class=\"dataframe\">\n",
       "  <thead>\n",
       "    <tr style=\"text-align: right;\">\n",
       "      <th></th>\n",
       "      <th>State</th>\n",
       "      <th>Sex</th>\n",
       "      <th>Year</th>\n",
       "      <th>Name</th>\n",
       "      <th>NumOcc</th>\n",
       "      <th>Pop</th>\n",
       "      <th>Prop</th>\n",
       "    </tr>\n",
       "  </thead>\n",
       "  <tbody>\n",
       "    <tr>\n",
       "      <th>0</th>\n",
       "      <td>NC</td>\n",
       "      <td>M</td>\n",
       "      <td>1910</td>\n",
       "      <td>James</td>\n",
       "      <td>612</td>\n",
       "      <td>516318</td>\n",
       "      <td>0.001185</td>\n",
       "    </tr>\n",
       "    <tr>\n",
       "      <th>1</th>\n",
       "      <td>NC</td>\n",
       "      <td>M</td>\n",
       "      <td>1910</td>\n",
       "      <td>William</td>\n",
       "      <td>452</td>\n",
       "      <td>516318</td>\n",
       "      <td>0.000875</td>\n",
       "    </tr>\n",
       "    <tr>\n",
       "      <th>2</th>\n",
       "      <td>NC</td>\n",
       "      <td>M</td>\n",
       "      <td>1910</td>\n",
       "      <td>John</td>\n",
       "      <td>413</td>\n",
       "      <td>516318</td>\n",
       "      <td>0.000800</td>\n",
       "    </tr>\n",
       "    <tr>\n",
       "      <th>3</th>\n",
       "      <td>NC</td>\n",
       "      <td>M</td>\n",
       "      <td>1910</td>\n",
       "      <td>Robert</td>\n",
       "      <td>240</td>\n",
       "      <td>516318</td>\n",
       "      <td>0.000465</td>\n",
       "    </tr>\n",
       "    <tr>\n",
       "      <th>4</th>\n",
       "      <td>NC</td>\n",
       "      <td>M</td>\n",
       "      <td>1910</td>\n",
       "      <td>George</td>\n",
       "      <td>215</td>\n",
       "      <td>516318</td>\n",
       "      <td>0.000416</td>\n",
       "    </tr>\n",
       "  </tbody>\n",
       "</table>\n",
       "</div>"
      ],
      "text/plain": [
       "  State Sex  Year     Name  NumOcc     Pop      Prop\n",
       "0    NC   M  1910    James     612  516318  0.001185\n",
       "1    NC   M  1910  William     452  516318  0.000875\n",
       "2    NC   M  1910     John     413  516318  0.000800\n",
       "3    NC   M  1910   Robert     240  516318  0.000465\n",
       "4    NC   M  1910   George     215  516318  0.000416"
      ]
     },
     "execution_count": 33,
     "metadata": {},
     "output_type": "execute_result"
    }
   ],
   "source": [
    "fullDataset.head()"
   ]
  },
  {
   "cell_type": "code",
   "execution_count": 34,
   "metadata": {
    "collapsed": true
   },
   "outputs": [],
   "source": [
    "fullNameGrouped = fullDataset.groupby(['Name','Year'])['Prop'].sum()"
   ]
  },
  {
   "cell_type": "code",
   "execution_count": 35,
   "metadata": {
    "collapsed": false
   },
   "outputs": [
    {
     "data": {
      "text/plain": [
       "Name     Year\n",
       "Aaban    2013    0.000002\n",
       "         2014    0.000002\n",
       "Aadan    2008    0.000004\n",
       "         2009    0.000002\n",
       "         2014    0.000002\n",
       "Aadarsh  2009    0.000002\n",
       "Aaden    2005    0.000002\n",
       "         2007    0.000029\n",
       "         2008    0.000281\n",
       "         2009    0.000384\n",
       "Name: Prop, dtype: float64"
      ]
     },
     "execution_count": 35,
     "metadata": {},
     "output_type": "execute_result"
    }
   ],
   "source": [
    "fullNameGrouped.head(n=10)"
   ]
  },
  {
   "cell_type": "code",
   "execution_count": 36,
   "metadata": {
    "collapsed": true
   },
   "outputs": [],
   "source": [
    "# Plot a simple graph to trend the popularity of a name\n",
    "from IPython.display import IFrame\n",
    "def plotNames(name,data):\n",
    "    data.ix[name].plot(grid=1,figsize=(11,4),legend=True,title='Trend of %s' %(name))"
   ]
  },
  {
   "cell_type": "code",
   "execution_count": 37,
   "metadata": {
    "collapsed": false
   },
   "outputs": [
    {
     "data": {
      "image/png": "[encoded data removed]",
      "text/plain": [
       "<matplotlib.figure.Figure at 0xbf91240>"
      ]
     },
     "metadata": {},
     "output_type": "display_data"
    }
   ],
   "source": [
    "# Please enter name here and play with different names:\n",
    "name = 'John'\n",
    "\n",
    "if name in fullNameGrouped.index:\n",
    "    plotNames(name,fullNameGrouped)\n",
    "else:\n",
    "    print \"%s not present in the dataset\" %(name)\n"
   ]
  },
  {
   "cell_type": "code",
   "execution_count": 38,
   "metadata": {
    "collapsed": false
   },
   "outputs": [
    {
     "data": {
      "text/html": [
       "\n",
       "        <iframe\n",
       "            width=\"800\"\n",
       "            height=\"320\"\n",
       "            src=\"https://books.google.com/ngrams/interactive_chart?content=John&year_start=1910&year_end=2008&corpus=5&smoothing=2&share=&direct_url=t1%3B%2CJohn%3B%2Cc0\"\n",
       "            frameborder=\"0\"\n",
       "            allowfullscreen\n",
       "        ></iframe>\n",
       "        "
      ],
      "text/plain": [
       "<IPython.lib.display.IFrame at 0x786e9c88>"
      ]
     },
     "execution_count": 38,
     "metadata": {},
     "output_type": "execute_result"
    }
   ],
   "source": [
    "# Ngram viwewer tool\n",
    "IFrame(src=\"https://books.google.com/ngrams/interactive_chart?content=%s\"%(name)+\n",
    "       \"&year_start=1910&year_end=2008&corpus=5&smoothing=2&share=&direct_url=t1%3B%2C\"+\"%s\"%(name)+\n",
    "       \"%3B%2Cc0\",width=800, height=320)"
   ]
  },
  {
   "cell_type": "markdown",
   "metadata": {},
   "source": [
    "As you will see when you start to play with different names that characters present in books have very little weightage on how parents name their babies. In order to understand what is influencing naming of babies, we should analyse data coming from other media sources: radio/TV/Movie personalities and other famous people. \n",
    "We should also note that the baby name dataset is only a partial list as it is only those who have registered with SSN have been included. A better analysis can be performed if we could retrieve names of babies without SSN regristration as well."
   ]
  }
 ],
 "metadata": {
  "kernelspec": {
   "display_name": "Python 2",
   "language": "python",
   "name": "python2"
  },
  "language_info": {
   "codemirror_mode": {
    "name": "ipython",
    "version": 2
   },
   "file_extension": ".py",
   "mimetype": "text/x-python",
   "name": "python",
   "nbconvert_exporter": "python",
   "pygments_lexer": "ipython2",
   "version": "2.7.9"
  }
 },
 "nbformat": 4,
 "nbformat_minor": 0
}
