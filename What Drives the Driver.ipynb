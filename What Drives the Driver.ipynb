{
 "cells": [
  {
   "cell_type": "raw",
   "metadata": {},
   "source": [
    "Figuring out what drives (no pun intended!) people to start driving once they signed up for a ride sharing service."
   ]
  },
  {
   "cell_type": "code",
   "execution_count": 1,
   "metadata": {
    "collapsed": true
   },
   "outputs": [],
   "source": [
    "import pandas as pd\n",
    "import numpy as np\n",
    "import seaborn as sns\n",
    "import matplotlib.pyplot as plt\n",
    "%matplotlib inline\n",
    "\n",
    "from sklearn.svm import SVC\n",
    "from sklearn.ensemble import GradientBoostingClassifier, RandomForestClassifier\n",
    "from sklearn.tree import DecisionTreeClassifier\n",
    "from sklearn.cross_validation import StratifiedKFold\n",
    "from sklearn.metrics import roc_curve, auc\n",
    "from scipy import interp\n",
    "from sklearn.metrics import classification_report, confusion_matrix\n",
    "from sklearn.grid_search import GridSearchCV\n",
    "from sklearn.cross_validation import train_test_split"
   ]
  },
  {
   "cell_type": "code",
   "execution_count": 2,
   "metadata": {
    "collapsed": true
   },
   "outputs": [],
   "source": [
    "data = pd.read_csv('sTEF.csv',parse_dates=['signup_date','bgc_date','vehicle_added_date','first_completed_date'],\n",
    "                   infer_datetime_format=True)"
   ]
  },
  {
   "cell_type": "code",
   "execution_count": 3,
   "metadata": {
    "collapsed": false
   },
   "outputs": [
    {
     "data": {
      "text/plain": [
       "(54681, 11)"
      ]
     },
     "execution_count": 3,
     "metadata": {},
     "output_type": "execute_result"
    }
   ],
   "source": [
    "data.shape"
   ]
  },
  {
   "cell_type": "markdown",
   "metadata": {},
   "source": [
    "#### Exploratory Data Analysis"
   ]
  },
  {
   "cell_type": "code",
   "execution_count": 4,
   "metadata": {
    "collapsed": false
   },
   "outputs": [],
   "source": [
    "# ASSUMPTION: NaN against first_completed_date is assumed to indicate the driver never took their first trip.\n",
    "data['started_driving'] = ~data.first_completed_date.isnull()"
   ]
  },
  {
   "cell_type": "code",
   "execution_count": 5,
   "metadata": {
    "collapsed": false
   },
   "outputs": [
    {
     "data": {
      "text/html": [
       "<div>\n",
       "<table border=\"1\" class=\"dataframe\">\n",
       "  <thead>\n",
       "    <tr style=\"text-align: right;\">\n",
       "      <th></th>\n",
       "      <th>id</th>\n",
       "      <th>city_name</th>\n",
       "      <th>signup_os</th>\n",
       "      <th>signup_channel</th>\n",
       "      <th>signup_date</th>\n",
       "      <th>bgc_date</th>\n",
       "      <th>vehicle_added_date</th>\n",
       "      <th>vehicle_make</th>\n",
       "      <th>vehicle_model</th>\n",
       "      <th>vehicle_year</th>\n",
       "      <th>first_completed_date</th>\n",
       "      <th>started_driving</th>\n",
       "    </tr>\n",
       "  </thead>\n",
       "  <tbody>\n",
       "    <tr>\n",
       "      <th>0</th>\n",
       "      <td>1</td>\n",
       "      <td>Strark</td>\n",
       "      <td>ios web</td>\n",
       "      <td>Paid</td>\n",
       "      <td>2016-01-02</td>\n",
       "      <td>NaT</td>\n",
       "      <td>NaT</td>\n",
       "      <td>NaN</td>\n",
       "      <td>NaN</td>\n",
       "      <td>NaN</td>\n",
       "      <td>NaT</td>\n",
       "      <td>False</td>\n",
       "    </tr>\n",
       "    <tr>\n",
       "      <th>1</th>\n",
       "      <td>2</td>\n",
       "      <td>Strark</td>\n",
       "      <td>windows</td>\n",
       "      <td>Paid</td>\n",
       "      <td>2016-01-21</td>\n",
       "      <td>NaT</td>\n",
       "      <td>NaT</td>\n",
       "      <td>NaN</td>\n",
       "      <td>NaN</td>\n",
       "      <td>NaN</td>\n",
       "      <td>NaT</td>\n",
       "      <td>False</td>\n",
       "    </tr>\n",
       "    <tr>\n",
       "      <th>2</th>\n",
       "      <td>3</td>\n",
       "      <td>Wrouver</td>\n",
       "      <td>windows</td>\n",
       "      <td>Organic</td>\n",
       "      <td>2016-01-11</td>\n",
       "      <td>2016-01-11</td>\n",
       "      <td>NaT</td>\n",
       "      <td>NaN</td>\n",
       "      <td>NaN</td>\n",
       "      <td>NaN</td>\n",
       "      <td>NaT</td>\n",
       "      <td>False</td>\n",
       "    </tr>\n",
       "    <tr>\n",
       "      <th>3</th>\n",
       "      <td>4</td>\n",
       "      <td>Berton</td>\n",
       "      <td>android web</td>\n",
       "      <td>Referral</td>\n",
       "      <td>2016-01-29</td>\n",
       "      <td>2016-02-03</td>\n",
       "      <td>2016-02-03</td>\n",
       "      <td>Toyota</td>\n",
       "      <td>Corolla</td>\n",
       "      <td>2016.0</td>\n",
       "      <td>2016-02-03</td>\n",
       "      <td>True</td>\n",
       "    </tr>\n",
       "    <tr>\n",
       "      <th>4</th>\n",
       "      <td>5</td>\n",
       "      <td>Strark</td>\n",
       "      <td>android web</td>\n",
       "      <td>Referral</td>\n",
       "      <td>2016-01-10</td>\n",
       "      <td>2016-01-25</td>\n",
       "      <td>2016-01-26</td>\n",
       "      <td>Hyundai</td>\n",
       "      <td>Sonata</td>\n",
       "      <td>2016.0</td>\n",
       "      <td>NaT</td>\n",
       "      <td>False</td>\n",
       "    </tr>\n",
       "    <tr>\n",
       "      <th>5</th>\n",
       "      <td>6</td>\n",
       "      <td>Strark</td>\n",
       "      <td>android web</td>\n",
       "      <td>Referral</td>\n",
       "      <td>2016-01-18</td>\n",
       "      <td>2016-01-18</td>\n",
       "      <td>2016-01-22</td>\n",
       "      <td>Cadillac</td>\n",
       "      <td>DTS</td>\n",
       "      <td>2006.0</td>\n",
       "      <td>NaT</td>\n",
       "      <td>False</td>\n",
       "    </tr>\n",
       "    <tr>\n",
       "      <th>6</th>\n",
       "      <td>7</td>\n",
       "      <td>Strark</td>\n",
       "      <td>ios web</td>\n",
       "      <td>Paid</td>\n",
       "      <td>2016-01-14</td>\n",
       "      <td>2016-01-16</td>\n",
       "      <td>2016-01-21</td>\n",
       "      <td>Toyota</td>\n",
       "      <td>Prius V</td>\n",
       "      <td>2014.0</td>\n",
       "      <td>2016-01-23</td>\n",
       "      <td>True</td>\n",
       "    </tr>\n",
       "    <tr>\n",
       "      <th>7</th>\n",
       "      <td>8</td>\n",
       "      <td>Strark</td>\n",
       "      <td>ios web</td>\n",
       "      <td>Referral</td>\n",
       "      <td>2016-01-26</td>\n",
       "      <td>2016-02-05</td>\n",
       "      <td>NaT</td>\n",
       "      <td>NaN</td>\n",
       "      <td>NaN</td>\n",
       "      <td>NaN</td>\n",
       "      <td>NaT</td>\n",
       "      <td>False</td>\n",
       "    </tr>\n",
       "    <tr>\n",
       "      <th>8</th>\n",
       "      <td>9</td>\n",
       "      <td>Strark</td>\n",
       "      <td>NaN</td>\n",
       "      <td>Referral</td>\n",
       "      <td>2016-01-05</td>\n",
       "      <td>NaT</td>\n",
       "      <td>NaT</td>\n",
       "      <td>NaN</td>\n",
       "      <td>NaN</td>\n",
       "      <td>NaN</td>\n",
       "      <td>NaT</td>\n",
       "      <td>False</td>\n",
       "    </tr>\n",
       "    <tr>\n",
       "      <th>9</th>\n",
       "      <td>10</td>\n",
       "      <td>Berton</td>\n",
       "      <td>ios web</td>\n",
       "      <td>Paid</td>\n",
       "      <td>2016-01-25</td>\n",
       "      <td>NaT</td>\n",
       "      <td>NaT</td>\n",
       "      <td>NaN</td>\n",
       "      <td>NaN</td>\n",
       "      <td>NaN</td>\n",
       "      <td>NaT</td>\n",
       "      <td>False</td>\n",
       "    </tr>\n",
       "  </tbody>\n",
       "</table>\n",
       "</div>"
      ],
      "text/plain": [
       "   id city_name    signup_os signup_channel signup_date   bgc_date  \\\n",
       "0   1    Strark      ios web           Paid  2016-01-02        NaT   \n",
       "1   2    Strark      windows           Paid  2016-01-21        NaT   \n",
       "2   3   Wrouver      windows        Organic  2016-01-11 2016-01-11   \n",
       "3   4    Berton  android web       Referral  2016-01-29 2016-02-03   \n",
       "4   5    Strark  android web       Referral  2016-01-10 2016-01-25   \n",
       "5   6    Strark  android web       Referral  2016-01-18 2016-01-18   \n",
       "6   7    Strark      ios web           Paid  2016-01-14 2016-01-16   \n",
       "7   8    Strark      ios web       Referral  2016-01-26 2016-02-05   \n",
       "8   9    Strark          NaN       Referral  2016-01-05        NaT   \n",
       "9  10    Berton      ios web           Paid  2016-01-25        NaT   \n",
       "\n",
       "  vehicle_added_date vehicle_make vehicle_model  vehicle_year  \\\n",
       "0                NaT          NaN           NaN           NaN   \n",
       "1                NaT          NaN           NaN           NaN   \n",
       "2                NaT          NaN           NaN           NaN   \n",
       "3         2016-02-03       Toyota       Corolla        2016.0   \n",
       "4         2016-01-26      Hyundai        Sonata        2016.0   \n",
       "5         2016-01-22     Cadillac           DTS        2006.0   \n",
       "6         2016-01-21       Toyota       Prius V        2014.0   \n",
       "7                NaT          NaN           NaN           NaN   \n",
       "8                NaT          NaN           NaN           NaN   \n",
       "9                NaT          NaN           NaN           NaN   \n",
       "\n",
       "  first_completed_date started_driving  \n",
       "0                  NaT           False  \n",
       "1                  NaT           False  \n",
       "2                  NaT           False  \n",
       "3           2016-02-03            True  \n",
       "4                  NaT           False  \n",
       "5                  NaT           False  \n",
       "6           2016-01-23            True  \n",
       "7                  NaT           False  \n",
       "8                  NaT           False  \n",
       "9                  NaT           False  "
      ]
     },
     "execution_count": 5,
     "metadata": {},
     "output_type": "execute_result"
    }
   ],
   "source": [
    "data.head(n=10)"
   ]
  },
  {
   "cell_type": "code",
   "execution_count": 6,
   "metadata": {
    "collapsed": false
   },
   "outputs": [
    {
     "name": "stdout",
     "output_type": "stream",
     "text": [
      "Number of null values in col:id - 0\n",
      "Number of null values in col:city_name - 0\n",
      "Number of null values in col:signup_os - 6857\n",
      "Number of null values in col:signup_channel - 0\n",
      "Number of null values in col:signup_date - 0\n",
      "Number of null values in col:bgc_date - 21785\n",
      "Number of null values in col:vehicle_added_date - 41547\n",
      "Number of null values in col:vehicle_make - 41458\n",
      "Number of null values in col:vehicle_model - 41458\n",
      "Number of null values in col:vehicle_year - 41458\n",
      "Number of null values in col:first_completed_date - 48544\n",
      "Number of null values in col:started_driving - 0\n"
     ]
    }
   ],
   "source": [
    "for col in data.columns:\n",
    "    num_null = sum(data[col].isnull())\n",
    "    print 'Number of null values in col:%s - %d'%(col,num_null)"
   ]
  },
  {
   "cell_type": "code",
   "execution_count": 7,
   "metadata": {
    "collapsed": false
   },
   "outputs": [
    {
     "name": "stdout",
     "output_type": "stream",
     "text": [
      "0.112232768238\n"
     ]
    }
   ],
   "source": [
    "# Since signup_date has no NULL values and in order to find total number of drivers who signed up, we will just use number\n",
    "# of rows in the data set.\n",
    "fraction_first_trips = sum(data.started_driving)*1./data.shape[0]\n",
    "print fraction_first_trips"
   ]
  },
  {
   "cell_type": "markdown",
   "metadata": {},
   "source": [
    "##### Answer 1: The percentage of drivers who signed and took their first ride is 11.22%"
   ]
  },
  {
   "cell_type": "raw",
   "metadata": {},
   "source": [
    "Although the count of number of drivers not taking up driving is really high compared to those who take up driving, we can try to draw some preliminary conclusions from below: it appears among the group who took up driving, those who were referred are more likely to start driving."
   ]
  },
  {
   "cell_type": "code",
   "execution_count": 8,
   "metadata": {
    "collapsed": false
   },
   "outputs": [
    {
     "data": {
      "image/png": "[encoded data removed]",
      "text/plain": [
       "<matplotlib.figure.Figure at 0x3c4a240>"
      ]
     },
     "metadata": {},
     "output_type": "display_data"
    }
   ],
   "source": [
    "sns.countplot(x=\"started_driving\", hue=\"signup_channel\", data=data);"
   ]
  },
  {
   "cell_type": "raw",
   "metadata": {},
   "source": [
    "For below plot: Not very conclusive other than the fact 'Strark' residents had a high count of signups"
   ]
  },
  {
   "cell_type": "code",
   "execution_count": 9,
   "metadata": {
    "collapsed": false
   },
   "outputs": [
    {
     "data": {
      "image/png": "[encoded data removed]",
      "text/plain": [
       "<matplotlib.figure.Figure at 0xa5c4f28>"
      ]
     },
     "metadata": {},
     "output_type": "display_data"
    }
   ],
   "source": [
    "sns.countplot(x=\"started_driving\", hue=\"city_name\", data=data);"
   ]
  },
  {
   "cell_type": "raw",
   "metadata": {},
   "source": [
    "From below: a majority of signups came from mobile devices. However it appears that regardless OS of used to sign up, it has little effect on whether the driver decided to take up driving."
   ]
  },
  {
   "cell_type": "code",
   "execution_count": 10,
   "metadata": {
    "collapsed": false
   },
   "outputs": [
    {
     "data": {
      "image/png": "[encoded data removed]",
      "text/plain": [
       "<matplotlib.figure.Figure at 0xa7125c0>"
      ]
     },
     "metadata": {},
     "output_type": "display_data"
    }
   ],
   "source": [
    "sns.countplot(x=\"started_driving\", hue=\"signup_os\", data=data);"
   ]
  },
  {
   "cell_type": "raw",
   "metadata": {},
   "source": [
    "Lets take a look now at background consent"
   ]
  },
  {
   "cell_type": "code",
   "execution_count": 11,
   "metadata": {
    "collapsed": false
   },
   "outputs": [
    {
     "data": {
      "image/png": "[encoded data removed]",
      "text/plain": [
       "<matplotlib.figure.Figure at 0xa6b6208>"
      ]
     },
     "metadata": {},
     "output_type": "display_data"
    }
   ],
   "source": [
    "# See if there is any correlation b/w giving consent to bgc and first drive\n",
    "data['Consent_bgc'] = ~data.bgc_date.isnull()\n",
    "\n",
    "sns.countplot(x=\"started_driving\", hue=\"Consent_bgc\", data=data);"
   ]
  },
  {
   "cell_type": "raw",
   "metadata": {},
   "source": [
    "From above: If driver has not given consent to background check, then it is extremely likely that they will not make their first drive."
   ]
  },
  {
   "cell_type": "raw",
   "metadata": {},
   "source": [
    "Lets dig deeper and see if there is a correlation b/w those who have consent and them taking their first drive"
   ]
  },
  {
   "cell_type": "code",
   "execution_count": 12,
   "metadata": {
    "collapsed": true
   },
   "outputs": [],
   "source": [
    "def boxplots(column):\n",
    "    date_signup_col = (data[column] - data.signup_date).dt.days\n",
    "\n",
    "    mask_driving = data.started_driving\n",
    "    date_signup_col_driving = date_signup_col[mask_driving]\n",
    "    date_signup_col_notdriving = date_signup_col[~mask_driving]\n",
    "\n",
    "    signup_col_driving = pd.DataFrame({'signup_to_col_days':date_signup_col_driving})\n",
    "    signup_col_driving['driving'] = 'Yes'\n",
    "    signup_col_notdriving = pd.DataFrame({'signup_to_col_days':date_signup_col_notdriving})\n",
    "    signup_col_notdriving['driving'] = 'No'\n",
    "    signup_col_notdriving.dropna(inplace=1)\n",
    "\n",
    "    signup_col = pd.concat((signup_col_driving,signup_col_notdriving),axis=0)\n",
    "\n",
    "    sns.set(style=\"ticks\", palette=\"muted\", color_codes=True)\n",
    "\n",
    "    # Plot the orbital period with horizontal boxes\n",
    "    ax = sns.boxplot(x=\"signup_to_col_days\", y=\"driving\", data=signup_col, color='r')\n",
    "    # Add in points to show each observation\n",
    "    sns.stripplot(x=\"signup_to_col_days\", y=\"driving\", data=signup_col, jitter=True, size=3, color=\".3\", linewidth=0)\n",
    "    ax.set(xlabel='signup_to_' + column + ' in days')\n",
    "    sns.despine(trim=True)\n",
    "    print date_signup_col_driving.quantile(0.9)"
   ]
  },
  {
   "cell_type": "code",
   "execution_count": 13,
   "metadata": {
    "collapsed": false
   },
   "outputs": [
    {
     "name": "stdout",
     "output_type": "stream",
     "text": [
      "9.0\n"
     ]
    },
    {
     "data": {
      "image/png": "[encoded data removed]",
      "text/plain": [
       "<matplotlib.figure.Figure at 0xa3cae80>"
      ]
     },
     "metadata": {},
     "output_type": "display_data"
    }
   ],
   "source": [
    "boxplots('bgc_date')"
   ]
  },
  {
   "cell_type": "raw",
   "metadata": {},
   "source": [
    "From above you can see that the driver is most likely to start driving if they give consent to background check sooner. Data tells us that about 90% of drivers who took their first drive, granted consent to background checks within 9 days of signup."
   ]
  },
  {
   "cell_type": "raw",
   "metadata": {},
   "source": [
    "Check to see if there is a correlation between vehicle details added and driving"
   ]
  },
  {
   "cell_type": "code",
   "execution_count": 14,
   "metadata": {
    "collapsed": false
   },
   "outputs": [],
   "source": [
    "data['vehicle_details_added'] = ~data.vehicle_added_date.isnull()"
   ]
  },
  {
   "cell_type": "code",
   "execution_count": 15,
   "metadata": {
    "collapsed": false
   },
   "outputs": [
    {
     "data": {
      "text/plain": [
       "<matplotlib.axes._subplots.AxesSubplot at 0xd480e80>"
      ]
     },
     "execution_count": 15,
     "metadata": {},
     "output_type": "execute_result"
    },
    {
     "data": {
      "image/png": "[encoded data removed]",
      "text/plain": [
       "<matplotlib.figure.Figure at 0xd3716d8>"
      ]
     },
     "metadata": {},
     "output_type": "display_data"
    }
   ],
   "source": [
    "sns.countplot(x='started_driving',hue='vehicle_details_added',data=data)"
   ]
  },
  {
   "cell_type": "raw",
   "metadata": {},
   "source": [
    "From above: it looks like not adding vehicle details has an influence on whether the driver has an intention of driving or not."
   ]
  },
  {
   "cell_type": "raw",
   "metadata": {},
   "source": [
    "Lets do the same analysis on 'vehicle_added_date'"
   ]
  },
  {
   "cell_type": "code",
   "execution_count": 16,
   "metadata": {
    "collapsed": false
   },
   "outputs": [
    {
     "name": "stdout",
     "output_type": "stream",
     "text": [
      "15.0\n"
     ]
    },
    {
     "data": {
      "image/png": "[encoded data removed]",
      "text/plain": [
       "<matplotlib.figure.Figure at 0x27b4208>"
      ]
     },
     "metadata": {},
     "output_type": "display_data"
    }
   ],
   "source": [
    "boxplots('vehicle_added_date')"
   ]
  },
  {
   "cell_type": "raw",
   "metadata": {},
   "source": [
    "From above you can see that the driver is most likely to start driving if they added the vehicle details sooner. Data \n",
    "tells us that about 90% of drivers who took their first drive, added vehicle details within 15 days of signup."
   ]
  },
  {
   "cell_type": "raw",
   "metadata": {},
   "source": [
    "Lets now analyze the effect of the vehicle_year having the effect of drivers taking up driving."
   ]
  },
  {
   "cell_type": "code",
   "execution_count": 17,
   "metadata": {
    "collapsed": false
   },
   "outputs": [
    {
     "data": {
      "text/plain": [
       "2015.0    2402\n",
       "2014.0    1655\n",
       "2013.0    1451\n",
       "2016.0    1150\n",
       "2012.0    1122\n",
       "2007.0     711\n",
       "2011.0     702\n",
       "2008.0     659\n",
       "2010.0     645\n",
       "2006.0     550\n",
       "2009.0     513\n",
       "2005.0     450\n",
       "2004.0     369\n",
       "2003.0     350\n",
       "2002.0     251\n",
       "2001.0     169\n",
       "2000.0      29\n",
       "1999.0      14\n",
       "1998.0      10\n",
       "1997.0       6\n",
       "2017.0       6\n",
       "1996.0       4\n",
       "0.0          4\n",
       "1995.0       1\n",
       "Name: vehicle_year, dtype: int64"
      ]
     },
     "execution_count": 17,
     "metadata": {},
     "output_type": "execute_result"
    }
   ],
   "source": [
    "data.vehicle_year.value_counts()"
   ]
  },
  {
   "cell_type": "raw",
   "metadata": {},
   "source": [
    "There is a vehicle_year marked as 0 - potentially bad data - lets remove it from the data"
   ]
  },
  {
   "cell_type": "code",
   "execution_count": 18,
   "metadata": {
    "collapsed": false
   },
   "outputs": [],
   "source": [
    "data = data[~(data.vehicle_year == 0.0)]"
   ]
  },
  {
   "cell_type": "raw",
   "metadata": {},
   "source": [
    "Lets try to understand if there is a relation b/w model year of cars and drivers taking up driving. In order to find this, we take the ratio of (number of drivers who took up driving) : (number of drivers who did not take up driving). Ideally the higher the ratio, the more indicative that drivers with newer cars will take up driving."
   ]
  },
  {
   "cell_type": "code",
   "execution_count": 19,
   "metadata": {
    "collapsed": false
   },
   "outputs": [],
   "source": [
    "grouped_by_years = data[['vehicle_year','started_driving']].groupby(by=['vehicle_year',\n",
    "                                                                        'started_driving']).agg({'started_driving':'count'})\n",
    "grouped_by_years.columns = ['count']"
   ]
  },
  {
   "cell_type": "code",
   "execution_count": 20,
   "metadata": {
    "collapsed": false
   },
   "outputs": [
    {
     "data": {
      "text/html": [
       "<div>\n",
       "<table border=\"1\" class=\"dataframe\">\n",
       "  <thead>\n",
       "    <tr style=\"text-align: right;\">\n",
       "      <th></th>\n",
       "      <th></th>\n",
       "      <th>count</th>\n",
       "    </tr>\n",
       "    <tr>\n",
       "      <th>vehicle_year</th>\n",
       "      <th>started_driving</th>\n",
       "      <th></th>\n",
       "    </tr>\n",
       "  </thead>\n",
       "  <tbody>\n",
       "    <tr>\n",
       "      <th>1995.0</th>\n",
       "      <th>False</th>\n",
       "      <td>1</td>\n",
       "    </tr>\n",
       "    <tr>\n",
       "      <th>1996.0</th>\n",
       "      <th>False</th>\n",
       "      <td>4</td>\n",
       "    </tr>\n",
       "    <tr>\n",
       "      <th>1997.0</th>\n",
       "      <th>False</th>\n",
       "      <td>6</td>\n",
       "    </tr>\n",
       "    <tr>\n",
       "      <th rowspan=\"2\" valign=\"top\">1998.0</th>\n",
       "      <th>False</th>\n",
       "      <td>9</td>\n",
       "    </tr>\n",
       "    <tr>\n",
       "      <th>True</th>\n",
       "      <td>1</td>\n",
       "    </tr>\n",
       "    <tr>\n",
       "      <th>1999.0</th>\n",
       "      <th>False</th>\n",
       "      <td>14</td>\n",
       "    </tr>\n",
       "    <tr>\n",
       "      <th rowspan=\"2\" valign=\"top\">2000.0</th>\n",
       "      <th>False</th>\n",
       "      <td>27</td>\n",
       "    </tr>\n",
       "    <tr>\n",
       "      <th>True</th>\n",
       "      <td>2</td>\n",
       "    </tr>\n",
       "    <tr>\n",
       "      <th rowspan=\"2\" valign=\"top\">2001.0</th>\n",
       "      <th>False</th>\n",
       "      <td>109</td>\n",
       "    </tr>\n",
       "    <tr>\n",
       "      <th>True</th>\n",
       "      <td>60</td>\n",
       "    </tr>\n",
       "  </tbody>\n",
       "</table>\n",
       "</div>"
      ],
      "text/plain": [
       "                              count\n",
       "vehicle_year started_driving       \n",
       "1995.0       False                1\n",
       "1996.0       False                4\n",
       "1997.0       False                6\n",
       "1998.0       False                9\n",
       "             True                 1\n",
       "1999.0       False               14\n",
       "2000.0       False               27\n",
       "             True                 2\n",
       "2001.0       False              109\n",
       "             True                60"
      ]
     },
     "execution_count": 20,
     "metadata": {},
     "output_type": "execute_result"
    }
   ],
   "source": [
    "grouped_by_years.head(n=10)"
   ]
  },
  {
   "cell_type": "code",
   "execution_count": 21,
   "metadata": {
    "collapsed": true
   },
   "outputs": [],
   "source": [
    "def findRatio(grouped_data):\n",
    "    unique_values = grouped_data.index.levels[0].values\n",
    "    value_ratios = {}\n",
    "    for value in unique_values:\n",
    "        try:\n",
    "            denom = grouped_data.ix[value].ix[False].values\n",
    "        except KeyError:\n",
    "            denom = 1\n",
    "        try:\n",
    "            numer = grouped_data.ix[value].ix[True].values\n",
    "        except KeyError:\n",
    "            numer = 0\n",
    "        value_ratios[value] = numer*1./denom    \n",
    "    return value_ratios"
   ]
  },
  {
   "cell_type": "code",
   "execution_count": 22,
   "metadata": {
    "collapsed": false
   },
   "outputs": [],
   "source": [
    "year_ratios = findRatio(grouped_by_years)"
   ]
  },
  {
   "cell_type": "code",
   "execution_count": 23,
   "metadata": {
    "collapsed": false
   },
   "outputs": [
    {
     "data": {
      "text/plain": [
       "<matplotlib.text.Text at 0xd63f5c0>"
      ]
     },
     "execution_count": 23,
     "metadata": {},
     "output_type": "execute_result"
    },
    {
     "data": {
      "image/png": "[encoded data removed]",
      "text/plain": [
       "<matplotlib.figure.Figure at 0xa748f98>"
      ]
     },
     "metadata": {},
     "output_type": "display_data"
    }
   ],
   "source": [
    "fig=plt.figure(facecolor='grey')\n",
    "plt.plot(year_ratios.keys(),year_ratios.values(),'.-.')\n",
    "plt.xlabel('Model year')\n",
    "plt.ylabel('started driving / not started driving')"
   ]
  },
  {
   "cell_type": "raw",
   "metadata": {},
   "source": [
    "From above: There appears to be a strong correlation b/w the model year of the car and ratio of taking up driving and not taking up driving. The year 2017 does not have enough data points and can be ignored."
   ]
  },
  {
   "cell_type": "raw",
   "metadata": {},
   "source": [
    "Now lets try to extract some stats on the time it takes to sign up and start driving"
   ]
  },
  {
   "cell_type": "code",
   "execution_count": 24,
   "metadata": {
    "collapsed": false
   },
   "outputs": [],
   "source": [
    "days_diff = data.first_completed_date - data.signup_date"
   ]
  },
  {
   "cell_type": "code",
   "execution_count": 25,
   "metadata": {
    "collapsed": false
   },
   "outputs": [
    {
     "data": {
      "text/plain": [
       "count    6137.000000\n",
       "mean       12.031286\n",
       "std         7.729475\n",
       "min         0.000000\n",
       "25%         6.000000\n",
       "50%        11.000000\n",
       "75%        17.000000\n",
       "max        30.000000\n",
       "dtype: float64"
      ]
     },
     "execution_count": 25,
     "metadata": {},
     "output_type": "execute_result"
    }
   ],
   "source": [
    "# Basic stats\n",
    "days_diff.dt.days.describe()"
   ]
  },
  {
   "cell_type": "code",
   "execution_count": 26,
   "metadata": {
    "collapsed": false
   },
   "outputs": [
    {
     "data": {
      "text/plain": [
       "21.0"
      ]
     },
     "execution_count": 26,
     "metadata": {},
     "output_type": "execute_result"
    }
   ],
   "source": [
    "# Number of days it takes for 85% of drivers to sign up and drive\n",
    "days_diff.dt.days.quantile(0.85)"
   ]
  },
  {
   "cell_type": "raw",
   "metadata": {},
   "source": [
    "From above: 85% of drivers take upto 3 weeks from the time they sign up to starting their first drive. One possible predictor is the number of days (or weeks) between the sign up and their first drive - the longer the interval the less likely they will take up driving anytime soon."
   ]
  },
  {
   "cell_type": "raw",
   "metadata": {},
   "source": [
    "Lets do some further data cleaning: Remove data points related to year 1995 and 2017 - not sufficient data to make meaningful analysis"
   ]
  },
  {
   "cell_type": "markdown",
   "metadata": {},
   "source": [
    "#### Feature engineering/elimination/selection"
   ]
  },
  {
   "cell_type": "code",
   "execution_count": 27,
   "metadata": {
    "collapsed": true
   },
   "outputs": [],
   "source": [
    "data = data[~(data.vehicle_year == 1995.0)]\n",
    "data = data[~(data.vehicle_year == 2017.0)]"
   ]
  },
  {
   "cell_type": "code",
   "execution_count": 28,
   "metadata": {
    "collapsed": false
   },
   "outputs": [
    {
     "data": {
      "text/plain": [
       "367"
      ]
     },
     "execution_count": 28,
     "metadata": {},
     "output_type": "execute_result"
    }
   ],
   "source": [
    "len(data.vehicle_model.value_counts())"
   ]
  },
  {
   "cell_type": "raw",
   "metadata": {},
   "source": [
    "Now lets analyze the popular car models out there:"
   ]
  },
  {
   "cell_type": "code",
   "execution_count": 29,
   "metadata": {
    "collapsed": false
   },
   "outputs": [
    {
     "name": "stdout",
     "output_type": "stream",
     "text": [
      "46\n",
      "367\n"
     ]
    }
   ],
   "source": [
    "print len(data.vehicle_make.value_counts())\n",
    "print len(data.vehicle_model.value_counts())"
   ]
  },
  {
   "cell_type": "code",
   "execution_count": 32,
   "metadata": {
    "collapsed": false
   },
   "outputs": [
    {
     "data": {
      "text/plain": [
       "[('Mercury', array([ 1.25])),\n",
       " ('Maserati', array([ 1.])),\n",
       " ('Oldsmobile', array([ 1.])),\n",
       " ('Suzuki', array([ 1.])),\n",
       " ('Isuzu', array([ 1.])),\n",
       " ('Scion', array([ 0.92941176])),\n",
       " ('Lexus', array([ 0.92528736])),\n",
       " ('Buick', array([ 0.91666667])),\n",
       " ('Toyota', array([ 0.91152019])),\n",
       " ('GMC', array([ 0.89361702])),\n",
       " ('Lincoln', array([ 0.89189189])),\n",
       " ('Acura', array([ 0.89])),\n",
       " ('Jaguar', array([ 0.875])),\n",
       " ('Saturn', array([ 0.875])),\n",
       " ('Honda', array([ 0.87309645])),\n",
       " ('Ford', array([ 0.82394366])),\n",
       " ('Mini', array([ 0.81818182])),\n",
       " ('Mazda', array([ 0.79141104])),\n",
       " ('Jeep', array([ 0.78070175])),\n",
       " ('Volkswagen', array([ 0.77738516])),\n",
       " ('Mercedes-Benz', array([ 0.7755102])),\n",
       " ('Kia', array([ 0.77203647])),\n",
       " ('Nissan', array([ 0.75033378])),\n",
       " ('Saab', array([ 0.75])),\n",
       " ('Hyundai', array([ 0.75])),\n",
       " ('Audi', array([ 0.73493976])),\n",
       " ('Subaru', array([ 0.73228346])),\n",
       " ('Cadillac', array([ 0.72])),\n",
       " ('BMW', array([ 0.71875])),\n",
       " ('Dodge', array([ 0.68669528])),\n",
       " ('Chevrolet', array([ 0.63546798])),\n",
       " ('Infiniti', array([ 0.63333333])),\n",
       " ('Chrysler', array([ 0.62903226])),\n",
       " ('Fiat', array([ 0.57142857])),\n",
       " ('Mitsubishi', array([ 0.48684211])),\n",
       " ('Tesla', array([ 0.44444444])),\n",
       " ('Hummer', array([ 0.4])),\n",
       " ('Pontiac', array([ 0.36363636])),\n",
       " ('Volvo', array([ 0.35714286])),\n",
       " ('Porsche', array([ 0.25])),\n",
       " ('Bike', array([ 0.25])),\n",
       " ('Land Rover', array([ 0.25])),\n",
       " ('Bicycle', array([ 0.25])),\n",
       " ('Autobot', array([ 0.14285714])),\n",
       " ('Walker', array([ 0.])),\n",
       " ('Bentley', array([ 0.]))]"
      ]
     },
     "execution_count": 32,
     "metadata": {},
     "output_type": "execute_result"
    }
   ],
   "source": [
    "vehicle_make_grouped = data[['vehicle_make','started_driving']].groupby(['vehicle_make','started_driving']).agg({'started_driving':'count'})\n",
    "\n",
    "vehicle_make_ratios = findRatio(vehicle_make_grouped)\n",
    "sorted(vehicle_make_ratios.items(),key=lambda x:x[1],reverse=1)"
   ]
  },
  {
   "cell_type": "code",
   "execution_count": 33,
   "metadata": {
    "collapsed": false
   },
   "outputs": [],
   "source": [
    "vehicle_model_grouped = data[['vehicle_model','started_driving']].groupby(['vehicle_model','started_driving']).agg({'started_driving':'count'})\n",
    "\n",
    "vehicle_model_ratios = findRatio(vehicle_model_grouped)\n",
    "#vehicle_model_ratios = sorted(vehicle_model_ratios.items(),key=lambda x:x[1],reverse=1)"
   ]
  },
  {
   "cell_type": "code",
   "execution_count": 34,
   "metadata": {
    "collapsed": false
   },
   "outputs": [],
   "source": [
    "#vehicle_model_ratios"
   ]
  },
  {
   "cell_type": "code",
   "execution_count": 35,
   "metadata": {
    "collapsed": false
   },
   "outputs": [],
   "source": [
    "vehicle_model_count = data.vehicle_model.value_counts()"
   ]
  },
  {
   "cell_type": "code",
   "execution_count": 36,
   "metadata": {
    "collapsed": true
   },
   "outputs": [],
   "source": [
    "from sklearn.preprocessing import MinMaxScaler"
   ]
  },
  {
   "cell_type": "code",
   "execution_count": 37,
   "metadata": {
    "collapsed": true
   },
   "outputs": [],
   "source": [
    "minmaxSc = MinMaxScaler()"
   ]
  },
  {
   "cell_type": "code",
   "execution_count": 38,
   "metadata": {
    "collapsed": false
   },
   "outputs": [
    {
     "name": "stderr",
     "output_type": "stream",
     "text": [
      "C:\\Users\\Shetty\\Anaconda\\lib\\site-packages\\sklearn\\utils\\validation.py:420: DataConversionWarning: Data with input dtype int64 was converted to float64 by MinMaxScaler.\n",
      "  warnings.warn(msg, DataConversionWarning)\n"
     ]
    }
   ],
   "source": [
    "scaled_vehicle_model_count = minmaxSc.fit_transform(vehicle_model_count.values.reshape(-1,1))"
   ]
  },
  {
   "cell_type": "code",
   "execution_count": 39,
   "metadata": {
    "collapsed": false
   },
   "outputs": [],
   "source": [
    "model_ratios = pd.DataFrame.from_dict(data = vehicle_model_ratios,orient='index')\n",
    "model_ratios.columns = ['ratios']"
   ]
  },
  {
   "cell_type": "code",
   "execution_count": 40,
   "metadata": {
    "collapsed": false
   },
   "outputs": [],
   "source": [
    "scaled_vehicle_model = pd.DataFrame({'scaled_count':scaled_vehicle_model_count.flatten()},index=vehicle_model_count.keys())"
   ]
  },
  {
   "cell_type": "code",
   "execution_count": 41,
   "metadata": {
    "collapsed": false
   },
   "outputs": [],
   "source": [
    "pd.concat?"
   ]
  },
  {
   "cell_type": "code",
   "execution_count": 42,
   "metadata": {
    "collapsed": false
   },
   "outputs": [],
   "source": [
    "vehicle_model_final = pd.concat([scaled_vehicle_model,model_ratios],axis=1,join='inner')"
   ]
  },
  {
   "cell_type": "code",
   "execution_count": 43,
   "metadata": {
    "collapsed": true
   },
   "outputs": [],
   "source": [
    "vehicle_model_final['ratioXcount'] = vehicle_model_final.ratios*vehicle_model_final.scaled_count"
   ]
  },
  {
   "cell_type": "code",
   "execution_count": 44,
   "metadata": {
    "collapsed": false
   },
   "outputs": [],
   "source": [
    "vehicle_model_final.sort_values('ratioXcount',ascending=0,inplace=1)"
   ]
  },
  {
   "cell_type": "code",
   "execution_count": 45,
   "metadata": {
    "collapsed": false
   },
   "outputs": [
    {
     "data": {
      "text/html": [
       "<div>\n",
       "<table border=\"1\" class=\"dataframe\">\n",
       "  <thead>\n",
       "    <tr style=\"text-align: right;\">\n",
       "      <th></th>\n",
       "      <th>id</th>\n",
       "      <th>city_name</th>\n",
       "      <th>signup_os</th>\n",
       "      <th>signup_channel</th>\n",
       "      <th>signup_date</th>\n",
       "      <th>bgc_date</th>\n",
       "      <th>vehicle_added_date</th>\n",
       "      <th>vehicle_make</th>\n",
       "      <th>vehicle_model</th>\n",
       "      <th>vehicle_year</th>\n",
       "      <th>first_completed_date</th>\n",
       "      <th>started_driving</th>\n",
       "      <th>Consent_bgc</th>\n",
       "      <th>vehicle_details_added</th>\n",
       "    </tr>\n",
       "  </thead>\n",
       "  <tbody>\n",
       "    <tr>\n",
       "      <th>1822</th>\n",
       "      <td>1823</td>\n",
       "      <td>Strark</td>\n",
       "      <td>android web</td>\n",
       "      <td>Paid</td>\n",
       "      <td>2016-01-21</td>\n",
       "      <td>2016-02-08</td>\n",
       "      <td>2016-02-09</td>\n",
       "      <td>Saturn</td>\n",
       "      <td>SL2</td>\n",
       "      <td>1999.0</td>\n",
       "      <td>NaT</td>\n",
       "      <td>False</td>\n",
       "      <td>True</td>\n",
       "      <td>True</td>\n",
       "    </tr>\n",
       "  </tbody>\n",
       "</table>\n",
       "</div>"
      ],
      "text/plain": [
       "        id city_name    signup_os signup_channel signup_date   bgc_date  \\\n",
       "1822  1823    Strark  android web           Paid  2016-01-21 2016-02-08   \n",
       "\n",
       "     vehicle_added_date vehicle_make vehicle_model  vehicle_year  \\\n",
       "1822         2016-02-09       Saturn           SL2        1999.0   \n",
       "\n",
       "     first_completed_date started_driving Consent_bgc vehicle_details_added  \n",
       "1822                  NaT           False        True                  True  "
      ]
     },
     "execution_count": 45,
     "metadata": {},
     "output_type": "execute_result"
    }
   ],
   "source": [
    "data[data.vehicle_model=='SL2']"
   ]
  },
  {
   "cell_type": "code",
   "execution_count": 46,
   "metadata": {
    "collapsed": false
   },
   "outputs": [
    {
     "data": {
      "text/plain": [
       "Index([u'Civic', u'Camry', u'Corolla', u'Prius V', u'Accord', u'Prius',\n",
       "       u'Altima', u'Sentra', u'Jetta', u'Sonata',\n",
       "       ...\n",
       "       u'Element', u'MKC', u'NX', u'Titan', u'Aviator', u'MKT', u'CLS-Class',\n",
       "       u'Colorado', u'XC60', u'Mirage'],\n",
       "      dtype='object', length=300)"
      ]
     },
     "execution_count": 46,
     "metadata": {},
     "output_type": "execute_result"
    }
   ],
   "source": [
    "vehicle_model_final[vehicle_model_final.ratioXcount!=0].index"
   ]
  },
  {
   "cell_type": "code",
   "execution_count": 47,
   "metadata": {
    "collapsed": true
   },
   "outputs": [],
   "source": [
    "data2 = data.copy()"
   ]
  },
  {
   "cell_type": "code",
   "execution_count": 48,
   "metadata": {
    "collapsed": false
   },
   "outputs": [
    {
     "data": {
      "text/html": [
       "<div>\n",
       "<table border=\"1\" class=\"dataframe\">\n",
       "  <thead>\n",
       "    <tr style=\"text-align: right;\">\n",
       "      <th></th>\n",
       "      <th>scaled_count</th>\n",
       "      <th>ratios</th>\n",
       "      <th>ratioXcount</th>\n",
       "    </tr>\n",
       "  </thead>\n",
       "  <tbody>\n",
       "    <tr>\n",
       "      <th>Civic</th>\n",
       "      <td>1.000000</td>\n",
       "      <td>0.913889</td>\n",
       "      <td>0.913889</td>\n",
       "    </tr>\n",
       "    <tr>\n",
       "      <th>Camry</th>\n",
       "      <td>0.991279</td>\n",
       "      <td>0.845946</td>\n",
       "      <td>0.838569</td>\n",
       "    </tr>\n",
       "    <tr>\n",
       "      <th>Corolla</th>\n",
       "      <td>0.998547</td>\n",
       "      <td>0.824934</td>\n",
       "      <td>0.823735</td>\n",
       "    </tr>\n",
       "    <tr>\n",
       "      <th>Prius V</th>\n",
       "      <td>0.757267</td>\n",
       "      <td>0.977273</td>\n",
       "      <td>0.740057</td>\n",
       "    </tr>\n",
       "    <tr>\n",
       "      <th>Accord</th>\n",
       "      <td>0.863372</td>\n",
       "      <td>0.825153</td>\n",
       "      <td>0.712414</td>\n",
       "    </tr>\n",
       "  </tbody>\n",
       "</table>\n",
       "</div>"
      ],
      "text/plain": [
       "         scaled_count    ratios  ratioXcount\n",
       "Civic        1.000000  0.913889     0.913889\n",
       "Camry        0.991279  0.845946     0.838569\n",
       "Corolla      0.998547  0.824934     0.823735\n",
       "Prius V      0.757267  0.977273     0.740057\n",
       "Accord       0.863372  0.825153     0.712414"
      ]
     },
     "execution_count": 48,
     "metadata": {},
     "output_type": "execute_result"
    }
   ],
   "source": [
    "vehicle_model_final.head()"
   ]
  },
  {
   "cell_type": "code",
   "execution_count": 49,
   "metadata": {
    "collapsed": false
   },
   "outputs": [
    {
     "name": "stderr",
     "output_type": "stream",
     "text": [
      "C:\\Users\\Shetty\\Anaconda\\lib\\site-packages\\pandas\\core\\generic.py:2698: SettingWithCopyWarning: \n",
      "A value is trying to be set on a copy of a slice from a DataFrame.\n",
      "Try using .loc[row_indexer,col_indexer] = value instead\n",
      "\n",
      "See the caveats in the documentation: http://pandas.pydata.org/pandas-docs/stable/indexing.html#indexing-view-versus-copy\n",
      "  self[name] = value\n"
     ]
    }
   ],
   "source": [
    "vehicle_reset_index = vehicle_model_final.reset_index()\n",
    "vehicle_reset_index = vehicle_reset_index.rename(columns={'index':'model'})\n",
    "data3 = data2.merge(vehicle_model_final,how='left',left_on='vehicle_model',right_index='model')\n",
    "data3.loc[data3.ratioXcount.isnull()].ratioXcount = 0"
   ]
  },
  {
   "cell_type": "code",
   "execution_count": 50,
   "metadata": {
    "collapsed": false
   },
   "outputs": [
    {
     "data": {
      "text/html": [
       "<div>\n",
       "<table border=\"1\" class=\"dataframe\">\n",
       "  <thead>\n",
       "    <tr style=\"text-align: right;\">\n",
       "      <th></th>\n",
       "      <th>id</th>\n",
       "      <th>city_name</th>\n",
       "      <th>signup_os</th>\n",
       "      <th>signup_channel</th>\n",
       "      <th>signup_date</th>\n",
       "      <th>bgc_date</th>\n",
       "      <th>vehicle_added_date</th>\n",
       "      <th>vehicle_make</th>\n",
       "      <th>vehicle_model</th>\n",
       "      <th>vehicle_year</th>\n",
       "      <th>first_completed_date</th>\n",
       "      <th>started_driving</th>\n",
       "      <th>Consent_bgc</th>\n",
       "      <th>vehicle_details_added</th>\n",
       "      <th>scaled_count</th>\n",
       "      <th>ratios</th>\n",
       "      <th>ratioXcount</th>\n",
       "    </tr>\n",
       "  </thead>\n",
       "  <tbody>\n",
       "    <tr>\n",
       "      <th>0</th>\n",
       "      <td>1</td>\n",
       "      <td>Strark</td>\n",
       "      <td>ios web</td>\n",
       "      <td>Paid</td>\n",
       "      <td>2016-01-02</td>\n",
       "      <td>NaT</td>\n",
       "      <td>NaT</td>\n",
       "      <td>NaN</td>\n",
       "      <td>NaN</td>\n",
       "      <td>NaN</td>\n",
       "      <td>NaT</td>\n",
       "      <td>False</td>\n",
       "      <td>False</td>\n",
       "      <td>False</td>\n",
       "      <td>NaN</td>\n",
       "      <td>NaN</td>\n",
       "      <td>NaN</td>\n",
       "    </tr>\n",
       "    <tr>\n",
       "      <th>1</th>\n",
       "      <td>2</td>\n",
       "      <td>Strark</td>\n",
       "      <td>windows</td>\n",
       "      <td>Paid</td>\n",
       "      <td>2016-01-21</td>\n",
       "      <td>NaT</td>\n",
       "      <td>NaT</td>\n",
       "      <td>NaN</td>\n",
       "      <td>NaN</td>\n",
       "      <td>NaN</td>\n",
       "      <td>NaT</td>\n",
       "      <td>False</td>\n",
       "      <td>False</td>\n",
       "      <td>False</td>\n",
       "      <td>NaN</td>\n",
       "      <td>NaN</td>\n",
       "      <td>NaN</td>\n",
       "    </tr>\n",
       "    <tr>\n",
       "      <th>2</th>\n",
       "      <td>3</td>\n",
       "      <td>Wrouver</td>\n",
       "      <td>windows</td>\n",
       "      <td>Organic</td>\n",
       "      <td>2016-01-11</td>\n",
       "      <td>2016-01-11</td>\n",
       "      <td>NaT</td>\n",
       "      <td>NaN</td>\n",
       "      <td>NaN</td>\n",
       "      <td>NaN</td>\n",
       "      <td>NaT</td>\n",
       "      <td>False</td>\n",
       "      <td>True</td>\n",
       "      <td>False</td>\n",
       "      <td>NaN</td>\n",
       "      <td>NaN</td>\n",
       "      <td>NaN</td>\n",
       "    </tr>\n",
       "    <tr>\n",
       "      <th>3</th>\n",
       "      <td>4</td>\n",
       "      <td>Berton</td>\n",
       "      <td>android web</td>\n",
       "      <td>Referral</td>\n",
       "      <td>2016-01-29</td>\n",
       "      <td>2016-02-03</td>\n",
       "      <td>2016-02-03</td>\n",
       "      <td>Toyota</td>\n",
       "      <td>Corolla</td>\n",
       "      <td>2016.0</td>\n",
       "      <td>2016-02-03</td>\n",
       "      <td>True</td>\n",
       "      <td>True</td>\n",
       "      <td>True</td>\n",
       "      <td>0.998547</td>\n",
       "      <td>0.824934</td>\n",
       "      <td>0.823735</td>\n",
       "    </tr>\n",
       "    <tr>\n",
       "      <th>4</th>\n",
       "      <td>5</td>\n",
       "      <td>Strark</td>\n",
       "      <td>android web</td>\n",
       "      <td>Referral</td>\n",
       "      <td>2016-01-10</td>\n",
       "      <td>2016-01-25</td>\n",
       "      <td>2016-01-26</td>\n",
       "      <td>Hyundai</td>\n",
       "      <td>Sonata</td>\n",
       "      <td>2016.0</td>\n",
       "      <td>NaT</td>\n",
       "      <td>False</td>\n",
       "      <td>True</td>\n",
       "      <td>True</td>\n",
       "      <td>0.375000</td>\n",
       "      <td>0.786207</td>\n",
       "      <td>0.294828</td>\n",
       "    </tr>\n",
       "  </tbody>\n",
       "</table>\n",
       "</div>"
      ],
      "text/plain": [
       "   id city_name    signup_os signup_channel signup_date   bgc_date  \\\n",
       "0   1    Strark      ios web           Paid  2016-01-02        NaT   \n",
       "1   2    Strark      windows           Paid  2016-01-21        NaT   \n",
       "2   3   Wrouver      windows        Organic  2016-01-11 2016-01-11   \n",
       "3   4    Berton  android web       Referral  2016-01-29 2016-02-03   \n",
       "4   5    Strark  android web       Referral  2016-01-10 2016-01-25   \n",
       "\n",
       "  vehicle_added_date vehicle_make vehicle_model  vehicle_year  \\\n",
       "0                NaT          NaN           NaN           NaN   \n",
       "1                NaT          NaN           NaN           NaN   \n",
       "2                NaT          NaN           NaN           NaN   \n",
       "3         2016-02-03       Toyota       Corolla        2016.0   \n",
       "4         2016-01-26      Hyundai        Sonata        2016.0   \n",
       "\n",
       "  first_completed_date started_driving Consent_bgc vehicle_details_added  \\\n",
       "0                  NaT           False       False                 False   \n",
       "1                  NaT           False       False                 False   \n",
       "2                  NaT           False        True                 False   \n",
       "3           2016-02-03            True        True                  True   \n",
       "4                  NaT           False        True                  True   \n",
       "\n",
       "   scaled_count    ratios  ratioXcount  \n",
       "0           NaN       NaN          NaN  \n",
       "1           NaN       NaN          NaN  \n",
       "2           NaN       NaN          NaN  \n",
       "3      0.998547  0.824934     0.823735  \n",
       "4      0.375000  0.786207     0.294828  "
      ]
     },
     "execution_count": 50,
     "metadata": {},
     "output_type": "execute_result"
    }
   ],
   "source": [
    "data3.head()"
   ]
  },
  {
   "cell_type": "code",
   "execution_count": 51,
   "metadata": {
    "collapsed": false
   },
   "outputs": [],
   "source": [
    "data3.loc[data3.ratioXcount.isnull(),'ratioXcount'] = 0\n",
    "\n",
    "data3['signup_bgc_days'] = (data3.bgc_date - data3.signup_date).dt.days\n",
    "data3['signup_veh_addded_days'] = (data3.vehicle_added_date - data3.signup_date).dt.days\n",
    "\n",
    "years_sorted = sorted(data3.vehicle_year.unique())\n",
    "\n",
    "year_encode = {}\n",
    "for k,year in enumerate(years_sorted):\n",
    "    year_encode[year] = k\n",
    "\n",
    "data3.vehicle_year = data3.vehicle_year.map(year_encode)"
   ]
  },
  {
   "cell_type": "code",
   "execution_count": 52,
   "metadata": {
    "collapsed": false
   },
   "outputs": [],
   "source": [
    "data3.started_driving = data3.started_driving.apply(lambda bool_val: 1 if bool_val else 0)"
   ]
  },
  {
   "cell_type": "code",
   "execution_count": 53,
   "metadata": {
    "collapsed": false
   },
   "outputs": [
    {
     "data": {
      "text/html": [
       "<div>\n",
       "<table border=\"1\" class=\"dataframe\">\n",
       "  <thead>\n",
       "    <tr style=\"text-align: right;\">\n",
       "      <th></th>\n",
       "      <th>id</th>\n",
       "      <th>city_name</th>\n",
       "      <th>signup_os</th>\n",
       "      <th>signup_channel</th>\n",
       "      <th>signup_date</th>\n",
       "      <th>bgc_date</th>\n",
       "      <th>vehicle_added_date</th>\n",
       "      <th>vehicle_make</th>\n",
       "      <th>vehicle_model</th>\n",
       "      <th>vehicle_year</th>\n",
       "      <th>first_completed_date</th>\n",
       "      <th>started_driving</th>\n",
       "      <th>Consent_bgc</th>\n",
       "      <th>vehicle_details_added</th>\n",
       "      <th>scaled_count</th>\n",
       "      <th>ratios</th>\n",
       "      <th>ratioXcount</th>\n",
       "      <th>signup_bgc_days</th>\n",
       "      <th>signup_veh_addded_days</th>\n",
       "    </tr>\n",
       "  </thead>\n",
       "  <tbody>\n",
       "    <tr>\n",
       "      <th>0</th>\n",
       "      <td>1</td>\n",
       "      <td>Strark</td>\n",
       "      <td>ios web</td>\n",
       "      <td>Paid</td>\n",
       "      <td>2016-01-02</td>\n",
       "      <td>NaT</td>\n",
       "      <td>NaT</td>\n",
       "      <td>NaN</td>\n",
       "      <td>NaN</td>\n",
       "      <td>NaN</td>\n",
       "      <td>NaT</td>\n",
       "      <td>0</td>\n",
       "      <td>False</td>\n",
       "      <td>False</td>\n",
       "      <td>NaN</td>\n",
       "      <td>NaN</td>\n",
       "      <td>0.000000</td>\n",
       "      <td>NaN</td>\n",
       "      <td>NaN</td>\n",
       "    </tr>\n",
       "    <tr>\n",
       "      <th>1</th>\n",
       "      <td>2</td>\n",
       "      <td>Strark</td>\n",
       "      <td>windows</td>\n",
       "      <td>Paid</td>\n",
       "      <td>2016-01-21</td>\n",
       "      <td>NaT</td>\n",
       "      <td>NaT</td>\n",
       "      <td>NaN</td>\n",
       "      <td>NaN</td>\n",
       "      <td>NaN</td>\n",
       "      <td>NaT</td>\n",
       "      <td>0</td>\n",
       "      <td>False</td>\n",
       "      <td>False</td>\n",
       "      <td>NaN</td>\n",
       "      <td>NaN</td>\n",
       "      <td>0.000000</td>\n",
       "      <td>NaN</td>\n",
       "      <td>NaN</td>\n",
       "    </tr>\n",
       "    <tr>\n",
       "      <th>2</th>\n",
       "      <td>3</td>\n",
       "      <td>Wrouver</td>\n",
       "      <td>windows</td>\n",
       "      <td>Organic</td>\n",
       "      <td>2016-01-11</td>\n",
       "      <td>2016-01-11</td>\n",
       "      <td>NaT</td>\n",
       "      <td>NaN</td>\n",
       "      <td>NaN</td>\n",
       "      <td>NaN</td>\n",
       "      <td>NaT</td>\n",
       "      <td>0</td>\n",
       "      <td>True</td>\n",
       "      <td>False</td>\n",
       "      <td>NaN</td>\n",
       "      <td>NaN</td>\n",
       "      <td>0.000000</td>\n",
       "      <td>0.0</td>\n",
       "      <td>NaN</td>\n",
       "    </tr>\n",
       "    <tr>\n",
       "      <th>3</th>\n",
       "      <td>4</td>\n",
       "      <td>Berton</td>\n",
       "      <td>android web</td>\n",
       "      <td>Referral</td>\n",
       "      <td>2016-01-29</td>\n",
       "      <td>2016-02-03</td>\n",
       "      <td>2016-02-03</td>\n",
       "      <td>Toyota</td>\n",
       "      <td>Corolla</td>\n",
       "      <td>21.0</td>\n",
       "      <td>2016-02-03</td>\n",
       "      <td>1</td>\n",
       "      <td>True</td>\n",
       "      <td>True</td>\n",
       "      <td>0.998547</td>\n",
       "      <td>0.824934</td>\n",
       "      <td>0.823735</td>\n",
       "      <td>5.0</td>\n",
       "      <td>5.0</td>\n",
       "    </tr>\n",
       "    <tr>\n",
       "      <th>4</th>\n",
       "      <td>5</td>\n",
       "      <td>Strark</td>\n",
       "      <td>android web</td>\n",
       "      <td>Referral</td>\n",
       "      <td>2016-01-10</td>\n",
       "      <td>2016-01-25</td>\n",
       "      <td>2016-01-26</td>\n",
       "      <td>Hyundai</td>\n",
       "      <td>Sonata</td>\n",
       "      <td>21.0</td>\n",
       "      <td>NaT</td>\n",
       "      <td>0</td>\n",
       "      <td>True</td>\n",
       "      <td>True</td>\n",
       "      <td>0.375000</td>\n",
       "      <td>0.786207</td>\n",
       "      <td>0.294828</td>\n",
       "      <td>15.0</td>\n",
       "      <td>16.0</td>\n",
       "    </tr>\n",
       "    <tr>\n",
       "      <th>5</th>\n",
       "      <td>6</td>\n",
       "      <td>Strark</td>\n",
       "      <td>android web</td>\n",
       "      <td>Referral</td>\n",
       "      <td>2016-01-18</td>\n",
       "      <td>2016-01-18</td>\n",
       "      <td>2016-01-22</td>\n",
       "      <td>Cadillac</td>\n",
       "      <td>DTS</td>\n",
       "      <td>11.0</td>\n",
       "      <td>NaT</td>\n",
       "      <td>0</td>\n",
       "      <td>True</td>\n",
       "      <td>True</td>\n",
       "      <td>0.007267</td>\n",
       "      <td>0.200000</td>\n",
       "      <td>0.001453</td>\n",
       "      <td>0.0</td>\n",
       "      <td>4.0</td>\n",
       "    </tr>\n",
       "    <tr>\n",
       "      <th>6</th>\n",
       "      <td>7</td>\n",
       "      <td>Strark</td>\n",
       "      <td>ios web</td>\n",
       "      <td>Paid</td>\n",
       "      <td>2016-01-14</td>\n",
       "      <td>2016-01-16</td>\n",
       "      <td>2016-01-21</td>\n",
       "      <td>Toyota</td>\n",
       "      <td>Prius V</td>\n",
       "      <td>19.0</td>\n",
       "      <td>2016-01-23</td>\n",
       "      <td>1</td>\n",
       "      <td>True</td>\n",
       "      <td>True</td>\n",
       "      <td>0.757267</td>\n",
       "      <td>0.977273</td>\n",
       "      <td>0.740057</td>\n",
       "      <td>2.0</td>\n",
       "      <td>7.0</td>\n",
       "    </tr>\n",
       "    <tr>\n",
       "      <th>7</th>\n",
       "      <td>8</td>\n",
       "      <td>Strark</td>\n",
       "      <td>ios web</td>\n",
       "      <td>Referral</td>\n",
       "      <td>2016-01-26</td>\n",
       "      <td>2016-02-05</td>\n",
       "      <td>NaT</td>\n",
       "      <td>NaN</td>\n",
       "      <td>NaN</td>\n",
       "      <td>NaN</td>\n",
       "      <td>NaT</td>\n",
       "      <td>0</td>\n",
       "      <td>True</td>\n",
       "      <td>False</td>\n",
       "      <td>NaN</td>\n",
       "      <td>NaN</td>\n",
       "      <td>0.000000</td>\n",
       "      <td>10.0</td>\n",
       "      <td>NaN</td>\n",
       "    </tr>\n",
       "    <tr>\n",
       "      <th>8</th>\n",
       "      <td>9</td>\n",
       "      <td>Strark</td>\n",
       "      <td>NaN</td>\n",
       "      <td>Referral</td>\n",
       "      <td>2016-01-05</td>\n",
       "      <td>NaT</td>\n",
       "      <td>NaT</td>\n",
       "      <td>NaN</td>\n",
       "      <td>NaN</td>\n",
       "      <td>NaN</td>\n",
       "      <td>NaT</td>\n",
       "      <td>0</td>\n",
       "      <td>False</td>\n",
       "      <td>False</td>\n",
       "      <td>NaN</td>\n",
       "      <td>NaN</td>\n",
       "      <td>0.000000</td>\n",
       "      <td>NaN</td>\n",
       "      <td>NaN</td>\n",
       "    </tr>\n",
       "    <tr>\n",
       "      <th>9</th>\n",
       "      <td>10</td>\n",
       "      <td>Berton</td>\n",
       "      <td>ios web</td>\n",
       "      <td>Paid</td>\n",
       "      <td>2016-01-25</td>\n",
       "      <td>NaT</td>\n",
       "      <td>NaT</td>\n",
       "      <td>NaN</td>\n",
       "      <td>NaN</td>\n",
       "      <td>NaN</td>\n",
       "      <td>NaT</td>\n",
       "      <td>0</td>\n",
       "      <td>False</td>\n",
       "      <td>False</td>\n",
       "      <td>NaN</td>\n",
       "      <td>NaN</td>\n",
       "      <td>0.000000</td>\n",
       "      <td>NaN</td>\n",
       "      <td>NaN</td>\n",
       "    </tr>\n",
       "  </tbody>\n",
       "</table>\n",
       "</div>"
      ],
      "text/plain": [
       "   id city_name    signup_os signup_channel signup_date   bgc_date  \\\n",
       "0   1    Strark      ios web           Paid  2016-01-02        NaT   \n",
       "1   2    Strark      windows           Paid  2016-01-21        NaT   \n",
       "2   3   Wrouver      windows        Organic  2016-01-11 2016-01-11   \n",
       "3   4    Berton  android web       Referral  2016-01-29 2016-02-03   \n",
       "4   5    Strark  android web       Referral  2016-01-10 2016-01-25   \n",
       "5   6    Strark  android web       Referral  2016-01-18 2016-01-18   \n",
       "6   7    Strark      ios web           Paid  2016-01-14 2016-01-16   \n",
       "7   8    Strark      ios web       Referral  2016-01-26 2016-02-05   \n",
       "8   9    Strark          NaN       Referral  2016-01-05        NaT   \n",
       "9  10    Berton      ios web           Paid  2016-01-25        NaT   \n",
       "\n",
       "  vehicle_added_date vehicle_make vehicle_model  vehicle_year  \\\n",
       "0                NaT          NaN           NaN           NaN   \n",
       "1                NaT          NaN           NaN           NaN   \n",
       "2                NaT          NaN           NaN           NaN   \n",
       "3         2016-02-03       Toyota       Corolla          21.0   \n",
       "4         2016-01-26      Hyundai        Sonata          21.0   \n",
       "5         2016-01-22     Cadillac           DTS          11.0   \n",
       "6         2016-01-21       Toyota       Prius V          19.0   \n",
       "7                NaT          NaN           NaN           NaN   \n",
       "8                NaT          NaN           NaN           NaN   \n",
       "9                NaT          NaN           NaN           NaN   \n",
       "\n",
       "  first_completed_date  started_driving Consent_bgc vehicle_details_added  \\\n",
       "0                  NaT                0       False                 False   \n",
       "1                  NaT                0       False                 False   \n",
       "2                  NaT                0        True                 False   \n",
       "3           2016-02-03                1        True                  True   \n",
       "4                  NaT                0        True                  True   \n",
       "5                  NaT                0        True                  True   \n",
       "6           2016-01-23                1        True                  True   \n",
       "7                  NaT                0        True                 False   \n",
       "8                  NaT                0       False                 False   \n",
       "9                  NaT                0       False                 False   \n",
       "\n",
       "   scaled_count    ratios  ratioXcount  signup_bgc_days  \\\n",
       "0           NaN       NaN     0.000000              NaN   \n",
       "1           NaN       NaN     0.000000              NaN   \n",
       "2           NaN       NaN     0.000000              0.0   \n",
       "3      0.998547  0.824934     0.823735              5.0   \n",
       "4      0.375000  0.786207     0.294828             15.0   \n",
       "5      0.007267  0.200000     0.001453              0.0   \n",
       "6      0.757267  0.977273     0.740057              2.0   \n",
       "7           NaN       NaN     0.000000             10.0   \n",
       "8           NaN       NaN     0.000000              NaN   \n",
       "9           NaN       NaN     0.000000              NaN   \n",
       "\n",
       "   signup_veh_addded_days  \n",
       "0                     NaN  \n",
       "1                     NaN  \n",
       "2                     NaN  \n",
       "3                     5.0  \n",
       "4                    16.0  \n",
       "5                     4.0  \n",
       "6                     7.0  \n",
       "7                     NaN  \n",
       "8                     NaN  \n",
       "9                     NaN  "
      ]
     },
     "execution_count": 53,
     "metadata": {},
     "output_type": "execute_result"
    }
   ],
   "source": [
    "data3.head(n=10)"
   ]
  },
  {
   "cell_type": "code",
   "execution_count": 54,
   "metadata": {
    "collapsed": true
   },
   "outputs": [],
   "source": [
    "data3.drop(['id','city_name','signup_os','signup_date','bgc_date','vehicle_added_date','vehicle_model','first_completed_date',\n",
    "           'scaled_count','ratios'],axis=1,inplace=1)"
   ]
  },
  {
   "cell_type": "code",
   "execution_count": 55,
   "metadata": {
    "collapsed": true
   },
   "outputs": [],
   "source": [
    "data3['bgc_9days'] = data3.signup_bgc_days.apply(lambda x: True if x<=9 else False)\n",
    "data3['vehicle_15days'] = data3.signup_veh_addded_days.apply(lambda x: True if x<=15 else False)"
   ]
  },
  {
   "cell_type": "code",
   "execution_count": 56,
   "metadata": {
    "collapsed": true
   },
   "outputs": [],
   "source": [
    "data4 = pd.get_dummies(data3,sparse=0)"
   ]
  },
  {
   "cell_type": "code",
   "execution_count": 57,
   "metadata": {
    "collapsed": true
   },
   "outputs": [],
   "source": [
    "data4.loc[data4.signup_bgc_days.isnull(),'signup_bgc_days'] = 99\n",
    "data4.loc[data4.vehicle_year.isnull(),'vehicle_year'] = 0\n",
    "data4.loc[data4.signup_veh_addded_days.isnull(),'signup_veh_addded_days'] = 99"
   ]
  },
  {
   "cell_type": "code",
   "execution_count": 58,
   "metadata": {
    "collapsed": false
   },
   "outputs": [
    {
     "data": {
      "text/html": [
       "<div>\n",
       "<table border=\"1\" class=\"dataframe\">\n",
       "  <thead>\n",
       "    <tr style=\"text-align: right;\">\n",
       "      <th></th>\n",
       "      <th>vehicle_year</th>\n",
       "      <th>started_driving</th>\n",
       "      <th>Consent_bgc</th>\n",
       "      <th>vehicle_details_added</th>\n",
       "      <th>ratioXcount</th>\n",
       "      <th>signup_bgc_days</th>\n",
       "      <th>signup_veh_addded_days</th>\n",
       "      <th>bgc_9days</th>\n",
       "      <th>vehicle_15days</th>\n",
       "      <th>signup_channel_Organic</th>\n",
       "      <th>...</th>\n",
       "      <th>vehicle_make_Saab</th>\n",
       "      <th>vehicle_make_Saturn</th>\n",
       "      <th>vehicle_make_Scion</th>\n",
       "      <th>vehicle_make_Subaru</th>\n",
       "      <th>vehicle_make_Suzuki</th>\n",
       "      <th>vehicle_make_Tesla</th>\n",
       "      <th>vehicle_make_Toyota</th>\n",
       "      <th>vehicle_make_Volkswagen</th>\n",
       "      <th>vehicle_make_Volvo</th>\n",
       "      <th>vehicle_make_Walker</th>\n",
       "    </tr>\n",
       "  </thead>\n",
       "  <tbody>\n",
       "    <tr>\n",
       "      <th>0</th>\n",
       "      <td>0.0</td>\n",
       "      <td>0</td>\n",
       "      <td>False</td>\n",
       "      <td>False</td>\n",
       "      <td>0.000000</td>\n",
       "      <td>99.0</td>\n",
       "      <td>99.0</td>\n",
       "      <td>False</td>\n",
       "      <td>False</td>\n",
       "      <td>0.0</td>\n",
       "      <td>...</td>\n",
       "      <td>0.0</td>\n",
       "      <td>0.0</td>\n",
       "      <td>0.0</td>\n",
       "      <td>0.0</td>\n",
       "      <td>0.0</td>\n",
       "      <td>0.0</td>\n",
       "      <td>0.0</td>\n",
       "      <td>0.0</td>\n",
       "      <td>0.0</td>\n",
       "      <td>0.0</td>\n",
       "    </tr>\n",
       "    <tr>\n",
       "      <th>1</th>\n",
       "      <td>0.0</td>\n",
       "      <td>0</td>\n",
       "      <td>False</td>\n",
       "      <td>False</td>\n",
       "      <td>0.000000</td>\n",
       "      <td>99.0</td>\n",
       "      <td>99.0</td>\n",
       "      <td>False</td>\n",
       "      <td>False</td>\n",
       "      <td>0.0</td>\n",
       "      <td>...</td>\n",
       "      <td>0.0</td>\n",
       "      <td>0.0</td>\n",
       "      <td>0.0</td>\n",
       "      <td>0.0</td>\n",
       "      <td>0.0</td>\n",
       "      <td>0.0</td>\n",
       "      <td>0.0</td>\n",
       "      <td>0.0</td>\n",
       "      <td>0.0</td>\n",
       "      <td>0.0</td>\n",
       "    </tr>\n",
       "    <tr>\n",
       "      <th>2</th>\n",
       "      <td>0.0</td>\n",
       "      <td>0</td>\n",
       "      <td>True</td>\n",
       "      <td>False</td>\n",
       "      <td>0.000000</td>\n",
       "      <td>0.0</td>\n",
       "      <td>99.0</td>\n",
       "      <td>True</td>\n",
       "      <td>False</td>\n",
       "      <td>1.0</td>\n",
       "      <td>...</td>\n",
       "      <td>0.0</td>\n",
       "      <td>0.0</td>\n",
       "      <td>0.0</td>\n",
       "      <td>0.0</td>\n",
       "      <td>0.0</td>\n",
       "      <td>0.0</td>\n",
       "      <td>0.0</td>\n",
       "      <td>0.0</td>\n",
       "      <td>0.0</td>\n",
       "      <td>0.0</td>\n",
       "    </tr>\n",
       "    <tr>\n",
       "      <th>3</th>\n",
       "      <td>21.0</td>\n",
       "      <td>1</td>\n",
       "      <td>True</td>\n",
       "      <td>True</td>\n",
       "      <td>0.823735</td>\n",
       "      <td>5.0</td>\n",
       "      <td>5.0</td>\n",
       "      <td>True</td>\n",
       "      <td>True</td>\n",
       "      <td>0.0</td>\n",
       "      <td>...</td>\n",
       "      <td>0.0</td>\n",
       "      <td>0.0</td>\n",
       "      <td>0.0</td>\n",
       "      <td>0.0</td>\n",
       "      <td>0.0</td>\n",
       "      <td>0.0</td>\n",
       "      <td>1.0</td>\n",
       "      <td>0.0</td>\n",
       "      <td>0.0</td>\n",
       "      <td>0.0</td>\n",
       "    </tr>\n",
       "    <tr>\n",
       "      <th>4</th>\n",
       "      <td>21.0</td>\n",
       "      <td>0</td>\n",
       "      <td>True</td>\n",
       "      <td>True</td>\n",
       "      <td>0.294828</td>\n",
       "      <td>15.0</td>\n",
       "      <td>16.0</td>\n",
       "      <td>False</td>\n",
       "      <td>False</td>\n",
       "      <td>0.0</td>\n",
       "      <td>...</td>\n",
       "      <td>0.0</td>\n",
       "      <td>0.0</td>\n",
       "      <td>0.0</td>\n",
       "      <td>0.0</td>\n",
       "      <td>0.0</td>\n",
       "      <td>0.0</td>\n",
       "      <td>0.0</td>\n",
       "      <td>0.0</td>\n",
       "      <td>0.0</td>\n",
       "      <td>0.0</td>\n",
       "    </tr>\n",
       "  </tbody>\n",
       "</table>\n",
       "<p>5 rows × 58 columns</p>\n",
       "</div>"
      ],
      "text/plain": [
       "   vehicle_year  started_driving Consent_bgc vehicle_details_added  \\\n",
       "0           0.0                0       False                 False   \n",
       "1           0.0                0       False                 False   \n",
       "2           0.0                0        True                 False   \n",
       "3          21.0                1        True                  True   \n",
       "4          21.0                0        True                  True   \n",
       "\n",
       "   ratioXcount  signup_bgc_days  signup_veh_addded_days bgc_9days  \\\n",
       "0     0.000000             99.0                    99.0     False   \n",
       "1     0.000000             99.0                    99.0     False   \n",
       "2     0.000000              0.0                    99.0      True   \n",
       "3     0.823735              5.0                     5.0      True   \n",
       "4     0.294828             15.0                    16.0     False   \n",
       "\n",
       "  vehicle_15days  signup_channel_Organic         ...           \\\n",
       "0          False                     0.0         ...            \n",
       "1          False                     0.0         ...            \n",
       "2          False                     1.0         ...            \n",
       "3           True                     0.0         ...            \n",
       "4          False                     0.0         ...            \n",
       "\n",
       "   vehicle_make_Saab  vehicle_make_Saturn  vehicle_make_Scion  \\\n",
       "0                0.0                  0.0                 0.0   \n",
       "1                0.0                  0.0                 0.0   \n",
       "2                0.0                  0.0                 0.0   \n",
       "3                0.0                  0.0                 0.0   \n",
       "4                0.0                  0.0                 0.0   \n",
       "\n",
       "   vehicle_make_Subaru  vehicle_make_Suzuki  vehicle_make_Tesla  \\\n",
       "0                  0.0                  0.0                 0.0   \n",
       "1                  0.0                  0.0                 0.0   \n",
       "2                  0.0                  0.0                 0.0   \n",
       "3                  0.0                  0.0                 0.0   \n",
       "4                  0.0                  0.0                 0.0   \n",
       "\n",
       "   vehicle_make_Toyota  vehicle_make_Volkswagen  vehicle_make_Volvo  \\\n",
       "0                  0.0                      0.0                 0.0   \n",
       "1                  0.0                      0.0                 0.0   \n",
       "2                  0.0                      0.0                 0.0   \n",
       "3                  1.0                      0.0                 0.0   \n",
       "4                  0.0                      0.0                 0.0   \n",
       "\n",
       "   vehicle_make_Walker  \n",
       "0                  0.0  \n",
       "1                  0.0  \n",
       "2                  0.0  \n",
       "3                  0.0  \n",
       "4                  0.0  \n",
       "\n",
       "[5 rows x 58 columns]"
      ]
     },
     "execution_count": 58,
     "metadata": {},
     "output_type": "execute_result"
    }
   ],
   "source": [
    "data4.head()"
   ]
  },
  {
   "cell_type": "code",
   "execution_count": 59,
   "metadata": {
    "collapsed": false
   },
   "outputs": [
    {
     "data": {
      "text/plain": [
       "(54670, 58)"
      ]
     },
     "execution_count": 59,
     "metadata": {},
     "output_type": "execute_result"
    }
   ],
   "source": [
    "data4.shape"
   ]
  },
  {
   "cell_type": "markdown",
   "metadata": {},
   "source": [
    "#### Model Building and evaluation"
   ]
  },
  {
   "cell_type": "raw",
   "metadata": {},
   "source": [
    "Lets create a training and test set data"
   ]
  },
  {
   "cell_type": "code",
   "execution_count": 60,
   "metadata": {
    "collapsed": true
   },
   "outputs": [],
   "source": [
    "y = data4['started_driving']\n",
    "X = data4.drop('started_driving',axis=1)\n",
    "train_X,test_X,train_y,test_y = train_test_split(X,y,test_size = 0.2, stratify=y,random_state=99)"
   ]
  },
  {
   "cell_type": "code",
   "execution_count": 61,
   "metadata": {
    "collapsed": false
   },
   "outputs": [
    {
     "data": {
      "text/html": [
       "<div>\n",
       "<table border=\"1\" class=\"dataframe\">\n",
       "  <thead>\n",
       "    <tr style=\"text-align: right;\">\n",
       "      <th></th>\n",
       "      <th>vehicle_year</th>\n",
       "      <th>Consent_bgc</th>\n",
       "      <th>vehicle_details_added</th>\n",
       "      <th>ratioXcount</th>\n",
       "      <th>signup_bgc_days</th>\n",
       "      <th>signup_veh_addded_days</th>\n",
       "      <th>bgc_9days</th>\n",
       "      <th>vehicle_15days</th>\n",
       "      <th>signup_channel_Organic</th>\n",
       "      <th>signup_channel_Paid</th>\n",
       "      <th>...</th>\n",
       "      <th>vehicle_make_Saab</th>\n",
       "      <th>vehicle_make_Saturn</th>\n",
       "      <th>vehicle_make_Scion</th>\n",
       "      <th>vehicle_make_Subaru</th>\n",
       "      <th>vehicle_make_Suzuki</th>\n",
       "      <th>vehicle_make_Tesla</th>\n",
       "      <th>vehicle_make_Toyota</th>\n",
       "      <th>vehicle_make_Volkswagen</th>\n",
       "      <th>vehicle_make_Volvo</th>\n",
       "      <th>vehicle_make_Walker</th>\n",
       "    </tr>\n",
       "  </thead>\n",
       "  <tbody>\n",
       "    <tr>\n",
       "      <th>51588</th>\n",
       "      <td>0.0</td>\n",
       "      <td>False</td>\n",
       "      <td>False</td>\n",
       "      <td>0.0</td>\n",
       "      <td>99.0</td>\n",
       "      <td>99.0</td>\n",
       "      <td>False</td>\n",
       "      <td>False</td>\n",
       "      <td>0.0</td>\n",
       "      <td>0.0</td>\n",
       "      <td>...</td>\n",
       "      <td>0.0</td>\n",
       "      <td>0.0</td>\n",
       "      <td>0.0</td>\n",
       "      <td>0.0</td>\n",
       "      <td>0.0</td>\n",
       "      <td>0.0</td>\n",
       "      <td>0.0</td>\n",
       "      <td>0.0</td>\n",
       "      <td>0.0</td>\n",
       "      <td>0.0</td>\n",
       "    </tr>\n",
       "    <tr>\n",
       "      <th>20170</th>\n",
       "      <td>0.0</td>\n",
       "      <td>False</td>\n",
       "      <td>False</td>\n",
       "      <td>0.0</td>\n",
       "      <td>99.0</td>\n",
       "      <td>99.0</td>\n",
       "      <td>False</td>\n",
       "      <td>False</td>\n",
       "      <td>0.0</td>\n",
       "      <td>0.0</td>\n",
       "      <td>...</td>\n",
       "      <td>0.0</td>\n",
       "      <td>0.0</td>\n",
       "      <td>0.0</td>\n",
       "      <td>0.0</td>\n",
       "      <td>0.0</td>\n",
       "      <td>0.0</td>\n",
       "      <td>0.0</td>\n",
       "      <td>0.0</td>\n",
       "      <td>0.0</td>\n",
       "      <td>0.0</td>\n",
       "    </tr>\n",
       "    <tr>\n",
       "      <th>54522</th>\n",
       "      <td>0.0</td>\n",
       "      <td>False</td>\n",
       "      <td>False</td>\n",
       "      <td>0.0</td>\n",
       "      <td>99.0</td>\n",
       "      <td>99.0</td>\n",
       "      <td>False</td>\n",
       "      <td>False</td>\n",
       "      <td>0.0</td>\n",
       "      <td>1.0</td>\n",
       "      <td>...</td>\n",
       "      <td>0.0</td>\n",
       "      <td>0.0</td>\n",
       "      <td>0.0</td>\n",
       "      <td>0.0</td>\n",
       "      <td>0.0</td>\n",
       "      <td>0.0</td>\n",
       "      <td>0.0</td>\n",
       "      <td>0.0</td>\n",
       "      <td>0.0</td>\n",
       "      <td>0.0</td>\n",
       "    </tr>\n",
       "    <tr>\n",
       "      <th>45258</th>\n",
       "      <td>0.0</td>\n",
       "      <td>True</td>\n",
       "      <td>False</td>\n",
       "      <td>0.0</td>\n",
       "      <td>4.0</td>\n",
       "      <td>99.0</td>\n",
       "      <td>True</td>\n",
       "      <td>False</td>\n",
       "      <td>0.0</td>\n",
       "      <td>1.0</td>\n",
       "      <td>...</td>\n",
       "      <td>0.0</td>\n",
       "      <td>0.0</td>\n",
       "      <td>0.0</td>\n",
       "      <td>0.0</td>\n",
       "      <td>0.0</td>\n",
       "      <td>0.0</td>\n",
       "      <td>0.0</td>\n",
       "      <td>0.0</td>\n",
       "      <td>0.0</td>\n",
       "      <td>0.0</td>\n",
       "    </tr>\n",
       "    <tr>\n",
       "      <th>44442</th>\n",
       "      <td>0.0</td>\n",
       "      <td>True</td>\n",
       "      <td>False</td>\n",
       "      <td>0.0</td>\n",
       "      <td>48.0</td>\n",
       "      <td>99.0</td>\n",
       "      <td>False</td>\n",
       "      <td>False</td>\n",
       "      <td>0.0</td>\n",
       "      <td>0.0</td>\n",
       "      <td>...</td>\n",
       "      <td>0.0</td>\n",
       "      <td>0.0</td>\n",
       "      <td>0.0</td>\n",
       "      <td>0.0</td>\n",
       "      <td>0.0</td>\n",
       "      <td>0.0</td>\n",
       "      <td>0.0</td>\n",
       "      <td>0.0</td>\n",
       "      <td>0.0</td>\n",
       "      <td>0.0</td>\n",
       "    </tr>\n",
       "  </tbody>\n",
       "</table>\n",
       "<p>5 rows × 57 columns</p>\n",
       "</div>"
      ],
      "text/plain": [
       "       vehicle_year Consent_bgc vehicle_details_added  ratioXcount  \\\n",
       "51588           0.0       False                 False          0.0   \n",
       "20170           0.0       False                 False          0.0   \n",
       "54522           0.0       False                 False          0.0   \n",
       "45258           0.0        True                 False          0.0   \n",
       "44442           0.0        True                 False          0.0   \n",
       "\n",
       "       signup_bgc_days  signup_veh_addded_days bgc_9days vehicle_15days  \\\n",
       "51588             99.0                    99.0     False          False   \n",
       "20170             99.0                    99.0     False          False   \n",
       "54522             99.0                    99.0     False          False   \n",
       "45258              4.0                    99.0      True          False   \n",
       "44442             48.0                    99.0     False          False   \n",
       "\n",
       "       signup_channel_Organic  signup_channel_Paid         ...           \\\n",
       "51588                     0.0                  0.0         ...            \n",
       "20170                     0.0                  0.0         ...            \n",
       "54522                     0.0                  1.0         ...            \n",
       "45258                     0.0                  1.0         ...            \n",
       "44442                     0.0                  0.0         ...            \n",
       "\n",
       "       vehicle_make_Saab  vehicle_make_Saturn  vehicle_make_Scion  \\\n",
       "51588                0.0                  0.0                 0.0   \n",
       "20170                0.0                  0.0                 0.0   \n",
       "54522                0.0                  0.0                 0.0   \n",
       "45258                0.0                  0.0                 0.0   \n",
       "44442                0.0                  0.0                 0.0   \n",
       "\n",
       "       vehicle_make_Subaru  vehicle_make_Suzuki  vehicle_make_Tesla  \\\n",
       "51588                  0.0                  0.0                 0.0   \n",
       "20170                  0.0                  0.0                 0.0   \n",
       "54522                  0.0                  0.0                 0.0   \n",
       "45258                  0.0                  0.0                 0.0   \n",
       "44442                  0.0                  0.0                 0.0   \n",
       "\n",
       "       vehicle_make_Toyota  vehicle_make_Volkswagen  vehicle_make_Volvo  \\\n",
       "51588                  0.0                      0.0                 0.0   \n",
       "20170                  0.0                      0.0                 0.0   \n",
       "54522                  0.0                      0.0                 0.0   \n",
       "45258                  0.0                      0.0                 0.0   \n",
       "44442                  0.0                      0.0                 0.0   \n",
       "\n",
       "       vehicle_make_Walker  \n",
       "51588                  0.0  \n",
       "20170                  0.0  \n",
       "54522                  0.0  \n",
       "45258                  0.0  \n",
       "44442                  0.0  \n",
       "\n",
       "[5 rows x 57 columns]"
      ]
     },
     "execution_count": 61,
     "metadata": {},
     "output_type": "execute_result"
    }
   ],
   "source": [
    "train_X.head()"
   ]
  },
  {
   "cell_type": "code",
   "execution_count": 62,
   "metadata": {
    "collapsed": false
   },
   "outputs": [],
   "source": [
    "# Try different classic classifiers\n",
    "clf_svc = SVC(probability=1)\n",
    "clf_rf = RandomForestClassifier(n_estimators=50,n_jobs=-1,random_state=99)\n",
    "clf_gbc = GradientBoostingClassifier(n_estimators=50,random_state=99)\n",
    "clf_dt = DecisionTreeClassifier(random_state=99)\n",
    "classifiers = [('SVC',clf_svc),('RF',clf_rf),('Grad_Boost',clf_gbc),('DecisionTree',clf_dt)]"
   ]
  },
  {
   "cell_type": "code",
   "execution_count": 63,
   "metadata": {
    "collapsed": true
   },
   "outputs": [],
   "source": [
    "def rocPlots(X,y,classifiers):\n",
    "    plt.figure(figsize=(10,7))\n",
    "    plt.plot([0, 1], [0, 1], '--', color=(0.6, 0.6, 0.6), label='Random')\n",
    "    # Assuming it is a classification problem\n",
    "    cv = StratifiedKFold(y, n_folds=5,random_state=99)\n",
    "    \n",
    "    for classifier_tup in classifiers:\n",
    "        mean_tpr = 0.0\n",
    "        mean_fpr = np.linspace(0, 1, 100)\n",
    "        for train_ind, test_ind in cv:\n",
    "            classifier = classifier_tup[1]\n",
    "            classifier_name = classifier_tup[0]\n",
    "            probas_ = classifier.fit(X.iloc[train_ind], y.iloc[train_ind]).predict_proba(X.iloc[test_ind])\n",
    "            # Compute ROC curve and area the curve\n",
    "            fpr, tpr, _ = roc_curve(y.iloc[test_ind], probas_[:, 1])\n",
    "            mean_tpr += interp(mean_fpr, fpr, tpr)\n",
    "            mean_tpr[0] = 0.0\n",
    "            roc_auc = auc(fpr, tpr)\n",
    "\n",
    "        mean_tpr /= len(cv)\n",
    "        mean_tpr[-1] = 1.0\n",
    "        mean_auc = auc(mean_fpr, mean_tpr)\n",
    "        plt.plot(mean_fpr, mean_tpr, '--',\n",
    "                 label='Mean ROC - %s (area = %0.2f)' %(classifier_name, mean_auc), lw=2)\n",
    "\n",
    "    plt.xlim([-0.05, 1.05])\n",
    "    plt.ylim([-0.05, 1.05])\n",
    "    plt.xlabel('False Positive Rate')\n",
    "    plt.ylabel('True Positive Rate')\n",
    "    plt.title('ROC')\n",
    "    plt.legend(loc=\"lower right\")"
   ]
  },
  {
   "cell_type": "code",
   "execution_count": 64,
   "metadata": {
    "collapsed": false
   },
   "outputs": [
    {
     "data": {
      "image/png": "[encoded data removed]",
      "text/plain": [
       "<matplotlib.figure.Figure at 0xd63f080>"
      ]
     },
     "metadata": {},
     "output_type": "display_data"
    }
   ],
   "source": [
    "rocPlots(train_X,train_y,classifiers)"
   ]
  },
  {
   "cell_type": "raw",
   "metadata": {
    "collapsed": true
   },
   "source": [
    "Looks like the default RandomForest setting has a good AUC. Lets now use other metrics to double check our predictions"
   ]
  },
  {
   "cell_type": "code",
   "execution_count": 65,
   "metadata": {
    "collapsed": true
   },
   "outputs": [],
   "source": [
    "# Split further into train and validation set\n",
    "train_X,valid_X,train_y,valid_y = train_test_split(train_X,train_y,test_size = 0.2, stratify=train_y,random_state=99)"
   ]
  },
  {
   "cell_type": "code",
   "execution_count": 66,
   "metadata": {
    "collapsed": true
   },
   "outputs": [],
   "source": [
    "clf_rf = RandomForestClassifier(n_estimators=100, n_jobs=-1) \n",
    "clf_rf.fit(train_X,train_y)\n",
    "confusion_matrix(valid_y,clf_rf.predict(valid_X))"
   ]
  },
  {
   "cell_type": "code",
   "execution_count": 69,
   "metadata": {
    "collapsed": false
   },
   "outputs": [
    {
     "name": "stdout",
     "output_type": "stream",
     "text": [
      "             precision    recall  f1-score   support\n",
      "\n",
      "          0       0.99      1.00      1.00     31060\n",
      "          1       0.98      0.95      0.97      3928\n",
      "\n",
      "avg / total       0.99      0.99      0.99     34988\n",
      "\n"
     ]
    }
   ],
   "source": [
    "print classification_report(train_y, clf_rf.predict(train_X))"
   ]
  },
  {
   "cell_type": "code",
   "execution_count": 70,
   "metadata": {
    "collapsed": false
   },
   "outputs": [
    {
     "name": "stdout",
     "output_type": "stream",
     "text": [
      "             precision    recall  f1-score   support\n",
      "\n",
      "          0       0.96      0.96      0.96      7766\n",
      "          1       0.72      0.71      0.71       982\n",
      "\n",
      "avg / total       0.94      0.94      0.94      8748\n",
      "\n"
     ]
    }
   ],
   "source": [
    "print classification_report(valid_y,clf_rf.predict(valid_X))"
   ]
  },
  {
   "cell_type": "raw",
   "metadata": {},
   "source": [
    "Check for over fitting:\n",
    "From above - The default random forest model is over fitting. "
   ]
  },
  {
   "cell_type": "raw",
   "metadata": {},
   "source": [
    "Lets try to reduce over fitting my adjusting for number of estimators, max number of features, max depth of each tree and others"
   ]
  },
  {
   "cell_type": "code",
   "execution_count": 71,
   "metadata": {
    "collapsed": false
   },
   "outputs": [],
   "source": [
    "param_grid = {\"n_estimators\":[10, 50, 100],\n",
    "              \"max_depth\": [3, 5, 7, None],\n",
    "              \"max_features\": [0.3, \"sqrt\", \"log2\"],\n",
    "              \"min_samples_split\": [1, 3, 10],\n",
    "              \"min_samples_leaf\": [1, 3, 10]}"
   ]
  },
  {
   "cell_type": "code",
   "execution_count": 72,
   "metadata": {
    "collapsed": false
   },
   "outputs": [],
   "source": [
    "clf_rf_best = GridSearchCV(RandomForestClassifier(),param_grid=param_grid,n_jobs=-1).fit(train_X,train_y)"
   ]
  },
  {
   "cell_type": "raw",
   "metadata": {},
   "source": [
    "Now lets again evaluate the new model against training and validation data"
   ]
  },
  {
   "cell_type": "code",
   "execution_count": 73,
   "metadata": {
    "collapsed": false
   },
   "outputs": [
    {
     "name": "stdout",
     "output_type": "stream",
     "text": [
      "Classifiction Report: Training data\n",
      "             precision    recall  f1-score   support\n",
      "\n",
      "          0       0.98      0.96      0.97     31060\n",
      "          1       0.73      0.83      0.77      3928\n",
      "\n",
      "avg / total       0.95      0.95      0.95     34988\n",
      "\n",
      "Classifiction Report: Validation data\n",
      "             precision    recall  f1-score   support\n",
      "\n",
      "          0       0.98      0.96      0.97      7766\n",
      "          1       0.72      0.81      0.76       982\n",
      "\n",
      "avg / total       0.95      0.94      0.94      8748\n",
      "\n"
     ]
    }
   ],
   "source": [
    "print \"Classifiction Report: Training data\"\n",
    "pred_train_y = clf_rf_best.best_estimator_.predict(train_X)\n",
    "print classification_report(train_y, pred_train_y)\n",
    "print \"Classifiction Report: Validation data\"\n",
    "pred_valid_y = clf_rf_best.best_estimator_.predict(valid_X)\n",
    "print classification_report(valid_y, pred_valid_y)"
   ]
  },
  {
   "cell_type": "raw",
   "metadata": {},
   "source": [
    "From the above classification data you can see that overfitting problem has been solved after the grid search. The parameters for the RF among the bounds provided are:"
   ]
  },
  {
   "cell_type": "code",
   "execution_count": 74,
   "metadata": {
    "collapsed": false
   },
   "outputs": [
    {
     "data": {
      "text/plain": [
       "{'max_depth': 7,\n",
       " 'max_features': 0.3,\n",
       " 'min_samples_leaf': 3,\n",
       " 'min_samples_split': 10,\n",
       " 'n_estimators': 100}"
      ]
     },
     "execution_count": 74,
     "metadata": {},
     "output_type": "execute_result"
    }
   ],
   "source": [
    "clf_rf_best.best_params_"
   ]
  },
  {
   "cell_type": "code",
   "execution_count": 75,
   "metadata": {
    "collapsed": false
   },
   "outputs": [
    {
     "name": "stdout",
     "output_type": "stream",
     "text": [
      "Classifiction Report: Test data\n",
      "             precision    recall  f1-score   support\n",
      "\n",
      "          0       0.98      0.96      0.97      9707\n",
      "          1       0.72      0.82      0.77      1227\n",
      "\n",
      "avg / total       0.95      0.94      0.95     10934\n",
      "\n"
     ]
    }
   ],
   "source": [
    "# Lets test the model against the test data\n",
    "print \"Classifiction Report: Test data\"\n",
    "pred_test_y = clf_rf_best.best_estimator_.predict(test_X)\n",
    "print classification_report(test_y, pred_test_y)"
   ]
  },
  {
   "cell_type": "raw",
   "metadata": {},
   "source": [
    "Now lets try to estimate feature importances from the random forest model"
   ]
  },
  {
   "cell_type": "code",
   "execution_count": 76,
   "metadata": {
    "collapsed": false
   },
   "outputs": [
    {
     "data": {
      "text/plain": [
       "(-1, 57)"
      ]
     },
     "execution_count": 76,
     "metadata": {},
     "output_type": "execute_result"
    },
    {
     "data": {
      "image/png": "[encoded data removed]",
      "text/plain": [
       "<matplotlib.figure.Figure at 0xb928e80>"
      ]
     },
     "metadata": {},
     "output_type": "display_data"
    }
   ],
   "source": [
    "importances = clf_rf_best.best_estimator_.feature_importances_\n",
    "indices = np.argsort(importances)[::-1]\n",
    "\n",
    "# Plot the feature importances of the forest\n",
    "plt.figure(figsize=(20,10))\n",
    "plt.title(\"Feature importances\")\n",
    "plt.bar(range(train_X.shape[1]), importances[indices],color=\"r\", align=\"center\")\n",
    "plt.xticks(range(train_X.shape[1]), indices)\n",
    "plt.xlim([-1, train_X.shape[1]])"
   ]
  },
  {
   "cell_type": "code",
   "execution_count": 77,
   "metadata": {
    "collapsed": false
   },
   "outputs": [
    {
     "data": {
      "text/plain": [
       "array(['signup_veh_addded_days', 'vehicle_15days', 'vehicle_year',\n",
       "       'vehicle_details_added', 'ratioXcount', 'signup_bgc_days',\n",
       "       'bgc_9days', 'Consent_bgc', 'signup_channel_Referral',\n",
       "       'vehicle_make_Toyota', 'signup_channel_Paid',\n",
       "       'signup_channel_Organic', 'vehicle_make_Honda',\n",
       "       'vehicle_make_Nissan', 'vehicle_make_Dodge',\n",
       "       'vehicle_make_Chrysler', 'vehicle_make_Chevrolet',\n",
       "       'vehicle_make_Ford', 'vehicle_make_Hyundai',\n",
       "       'vehicle_make_Cadillac', 'vehicle_make_BMW', 'vehicle_make_Audi',\n",
       "       'vehicle_make_Acura', 'vehicle_make_GMC', 'vehicle_make_Lexus',\n",
       "       'vehicle_make_Lincoln', 'vehicle_make_Scion', 'vehicle_make_Kia',\n",
       "       'vehicle_make_Volkswagen', 'vehicle_make_Land Rover',\n",
       "       'vehicle_make_Mazda', 'vehicle_make_Subaru',\n",
       "       'vehicle_make_Infiniti', 'vehicle_make_Mercedes-Benz',\n",
       "       'vehicle_make_Jeep', 'vehicle_make_Saturn',\n",
       "       'vehicle_make_Mitsubishi', 'vehicle_make_Buick',\n",
       "       'vehicle_make_Volvo', 'vehicle_make_Saab', 'vehicle_make_Tesla',\n",
       "       'vehicle_make_Pontiac', 'vehicle_make_Mercury', 'vehicle_make_Mini',\n",
       "       'vehicle_make_Fiat', 'vehicle_make_Suzuki', 'vehicle_make_Porsche',\n",
       "       'vehicle_make_Maserati', 'vehicle_make_Oldsmobile',\n",
       "       'vehicle_make_Autobot', 'vehicle_make_Bentley',\n",
       "       'vehicle_make_Bicycle', 'vehicle_make_Bike', 'vehicle_make_Hummer',\n",
       "       'vehicle_make_Isuzu', 'vehicle_make_Jaguar', 'vehicle_make_Walker'], dtype=object)"
      ]
     },
     "execution_count": 77,
     "metadata": {},
     "output_type": "execute_result"
    }
   ],
   "source": [
    "train_X.columns[indices].ravel()"
   ]
  }
 ],
 "metadata": {
  "kernelspec": {
   "display_name": "Python 2",
   "language": "python",
   "name": "python2"
  },
  "language_info": {
   "codemirror_mode": {
    "name": "ipython",
    "version": 2
   },
   "file_extension": ".py",
   "mimetype": "text/x-python",
   "name": "python",
   "nbconvert_exporter": "python",
   "pygments_lexer": "ipython2",
   "version": "2.7.11"
  }
 },
 "nbformat": 4,
 "nbformat_minor": 0
}
